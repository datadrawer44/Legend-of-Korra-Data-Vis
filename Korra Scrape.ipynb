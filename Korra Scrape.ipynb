{
 "cells": [
  {
   "cell_type": "code",
   "execution_count": 174,
   "metadata": {},
   "outputs": [],
   "source": [
    "season_to_title = {1: \"Book 1: Air\", 2: \"Book 2: Spirits\", 3: \"Book 3: Change\", 4: \"Book 4: Balance\"}\n"
   ]
  },
  {
   "cell_type": "code",
   "execution_count": 1,
   "metadata": {},
   "outputs": [],
   "source": [
    "def extract_imdb_episode_name_and_rating(season_log, num_eps):\n",
    "    i = 0\n",
    "    episode_to_rating_and_name = {}\n",
    "    end_index_episode = season_log.find('Reverse the order')\n",
    "    while (i < num_eps):\n",
    "        episodeInfo = []\n",
    "        start_index_episode = season_log.find('title=\"', end_index_episode+1)\n",
    "        end_index_episode = season_log.find('\"', start_index_episode+7)\n",
    "        st_ind_rating = season_log.find('ipl-rating-star__rating', end_index_episode)\n",
    "        en_ind_rating = season_log.find('</span>', st_ind_rating)\n",
    "        if (i % 2 == 0):\n",
    "            episode_name = season_log[start_index_episode+7:end_index_episode]\n",
    "            rating = float(season_log[st_ind_rating+25:en_ind_rating])\n",
    "            \n",
    "            episode_name = episode_name.replace('\\\\', '')\n",
    "            episodeInfo.append(episode_name)\n",
    "            episodeInfo.append(rating)\n",
    "            episode_to_rating_and_name[int((i+2)/2)] = episodeInfo\n",
    "            \n",
    "        i = i + 1\n",
    "    return episode_to_rating_and_name\n",
    "    \n",
    "\n",
    "    "
   ]
  },
  {
   "cell_type": "code",
   "execution_count": 2,
   "metadata": {},
   "outputs": [],
   "source": [
    "season_one = \"https://www.imdb.com/title/tt1695360/episodes?season=1&ref_=ttep_ep_sn_nx\"\n",
    "season_two = \"https://www.imdb.com/title/tt1695360/episodes?season=2&ref_=ttep_ep_sn_nx\"\n",
    "season_three = \"https://www.imdb.com/title/tt1695360/episodes?season=3&ref_=ttep_ep_sn_nx\"\n",
    "season_four = \"https://www.imdb.com/title/tt1695360/episodes?season=4&ref_=ttep_ep_sn_nx\""
   ]
  },
  {
   "cell_type": "code",
   "execution_count": 3,
   "metadata": {},
   "outputs": [],
   "source": [
    "import urllib3\n",
    "\n",
    "\n",
    "http = urllib3.PoolManager()"
   ]
  },
  {
   "cell_type": "code",
   "execution_count": 4,
   "metadata": {},
   "outputs": [],
   "source": [
    "imdb = http.request('GET', season_one)\n",
    "imdb_data_1 = imdb.data\n",
    "string_rep_1 = str(imdb_data_1)\n",
    "s1_dict = extract_imdb_episode_name_and_rating(string_rep_1, 24)\n",
    "\n",
    "#--------------------------------------------\n",
    "imdb = http.request('GET', season_two)\n",
    "imdb_data_2 = imdb.data\n",
    "string_rep_2 = str(imdb_data_2)\n",
    "s2_dict = extract_imdb_episode_name_and_rating(string_rep_2, 28)\n",
    "\n",
    "#--------------------------------------------\n",
    "imdb = http.request('GET', season_three)\n",
    "imdb_data_3 = imdb.data\n",
    "string_rep_3 = str(imdb_data_3)\n",
    "s3_dict = extract_imdb_episode_name_and_rating(string_rep_3, 26)\n",
    "\n",
    "#--------------------------------------------\n",
    "imdb = http.request('GET', season_four)\n",
    "imdb_data_4 = imdb.data\n",
    "string_rep_4 = str(imdb_data_4)\n",
    "s4_dict = extract_imdb_episode_name_and_rating(string_rep_4, 26)\n",
    "\n",
    "seasons_dict_list = [s1_dict, s2_dict, s3_dict, s4_dict]"
   ]
  },
  {
   "cell_type": "code",
   "execution_count": 5,
   "metadata": {},
   "outputs": [],
   "source": [
    "def obtain_episode_name(s, e):\n",
    "    if (s == 1):\n",
    "        season_dictionary = seasons_dict_list[0]\n",
    "    elif (s == 2):\n",
    "        season_dictionary = seasons_dict_list[1]\n",
    "    elif (s == 3):\n",
    "        season_dictionary = seasons_dict_list[2]\n",
    "    else:\n",
    "        season_dictionary = seasons_dict_list[3]\n",
    "    episode_name = season_dictionary[e][0]\n",
    "    return episode_name"
   ]
  },
  {
   "cell_type": "code",
   "execution_count": 6,
   "metadata": {},
   "outputs": [],
   "source": [
    "def catchAlias(char):\n",
    "    if (char == \"Young General\"):\n",
    "        return \"Iroh\"\n",
    "    elif (char == \"Young Lin\" or char == \"Chief Beifong\"):\n",
    "        return \"Lin\"\n",
    "    elif (char == \"Young Korra\" or char == \"Avatar Korra\"):\n",
    "        return \"Korra\"\n",
    "    elif (char == \"Young Su\"):\n",
    "        return \"Su\"\n",
    "    elif (char == \"Noatak\"):\n",
    "        return \"Amon\"\n",
    "    elif (char == \"Hiroshi Sato\"):\n",
    "        return \"Hiroshi\"\n",
    "    elif (char == \"Prince Wu\"):\n",
    "        return \"Wu\"\n",
    "    elif (char == \"P'li\"):\n",
    "        return \"P'Li\"\n",
    "    elif (char == \"Unavaatu\"):\n",
    "        return \"Unalaq\"\n",
    "    elif (char == \"Baatar\"):\n",
    "        return \"Baatar Sr.\"\n",
    "    else:\n",
    "        return char"
   ]
  },
  {
   "cell_type": "code",
   "execution_count": 7,
   "metadata": {},
   "outputs": [],
   "source": [
    "from matplotlib import pyplot\n",
    "import matplotlib.pyplot as matplt\n",
    "from bs4 import BeautifulSoup"
   ]
  },
  {
   "cell_type": "code",
   "execution_count": 8,
   "metadata": {},
   "outputs": [],
   "source": [
    "import urllib3\n",
    "\n",
    "\n",
    "http = urllib3.PoolManager()\n",
    "\n",
    "url = 'http://korra.avatarspirit.net/transcripts.php?num=106'\n",
    "\n",
    "resp = http.request('GET', url)\n",
    "bs = BeautifulSoup(resp.data, 'html.parser')\n",
    "tags = bs.find_all('b')"
   ]
  },
  {
   "cell_type": "code",
   "execution_count": 9,
   "metadata": {},
   "outputs": [],
   "source": [
    "from collections import Counter"
   ]
  },
  {
   "cell_type": "code",
   "execution_count": 10,
   "metadata": {},
   "outputs": [
    {
     "name": "stdout",
     "output_type": "stream",
     "text": [
      "Counter({'Korra:': 27, 'Tenzin:': 25, 'Lin:': 19, 'Bolin:': 16, 'Mako:': 15, 'Radio Broadcaster:': 10, 'Tarrlok:': 9, 'Amon:': 7, 'Tahno:': 7, 'Ring Announcer:': 5, 'Referee:': 3, 'Radio Host:': 2, 'Lieutenant:': 1, 'Metalbender Cop:': 1})\n"
     ]
    }
   ],
   "source": [
    "start = False \n",
    "skip = False\n",
    "c = Counter()\n",
    "for tag in tags:\n",
    "    text = tag.get_text()\n",
    "    if (start and (\"Act\" not in text)): \n",
    "        c[text] += 1\n",
    "    elif (text == \"Act I\"):\n",
    "        start = True\n",
    "print(c)\n",
    "        \n",
    "    "
   ]
  },
  {
   "cell_type": "code",
   "execution_count": 11,
   "metadata": {},
   "outputs": [],
   "source": [
    "def getGender(character):\n",
    "    female = [\"Korra\", \"P'Li\", \"Shaman\", \"Fire Nation Councilwoman\", \"Ming-Hua\", \"Katara\", \"Senna\",\n",
    "             \"Kya\", \"Eska\", \"Ahnah\", \"Female Bandit\", \"Su\", \"Kuvira\", \"Lin\", \"Radio Operator\", \"Female Pilot\", \n",
    "              \"Jinora\", \"Ikki\", \"Opal\", \"Raava\", \"May\", \"Dark Spider Spirit\", \"Asami\", \"Pema\", \n",
    "              \"Shop Woman\", \"Queen Hou-Ting\", \"Nonbender Woman\", \"Prosecutor\", \"Elderly Air Acolyte\", \"Woman\", \n",
    "             \"Air Acolyte woman\", \"Zhu Li\", \"Ginger\", \"Buttercup\", \"Female Reporter #1\", \"Female Reporter #2\", \n",
    "              \"Wife\", \"Little Girl\", \"Ryu's Mom\", \"Aunt\",\"Yin\", \"Female New Airbender #1\", \"Vendor\", \"Girl 1\", \n",
    "             \"Girl 2\", \"Elderly Woman\", \"Tuyen\", \"Radio Operator\"]\n",
    "    unknown = [\"Kind Spirit #1\", \"Kind Spirit #2\", \"Light Spirit\"]\n",
    "    if (character in female):\n",
    "        return \"Female\"\n",
    "    elif (character in unknown):\n",
    "        return \"Indeterminate Gender\"\n",
    "    return \"Male\""
   ]
  },
  {
   "cell_type": "code",
   "execution_count": 12,
   "metadata": {},
   "outputs": [],
   "source": [
    "genderListTest = [\"Noatak\", \"Kind Spirit #1\", \"Korra\", \"Mako\", \"P'li\", \"Uncle Iroh\", \"Tenzin\", \"Senna\", \"Avatar Korra\", \"Ming-Hua\", \"Young Lin\", \"Asami\", \"Bumi\"]\n",
    "expectation = [\"Male\", \"Indeterminate Gender\", \"Female\",\"Male\", \"Female\", \"Male\", \"Male\", \"Female\", \"Female\", \"Female\", \"Female\", \"Female\", \"Male\"]\n",
    "\n",
    "\n"
   ]
  },
  {
   "cell_type": "code",
   "execution_count": 13,
   "metadata": {},
   "outputs": [],
   "source": [
    "def testGetGender(cList, eResults):\n",
    "    score = 0\n",
    "    for c in range(0, len(cList)):\n",
    "        if (getGender(catchAlias(cList[c])) == eResults[c]):\n",
    "            score = score + 1\n",
    "        else: \n",
    "            print(\"ERROR: \" + cList[c] + \" is not a \" + getGender(catchAlias(cList[c])) + \"Character.\" )\n",
    "    print (str((score * 100)/len(eResults)) + \"% \")"
   ]
  },
  {
   "cell_type": "code",
   "execution_count": 14,
   "metadata": {},
   "outputs": [
    {
     "name": "stdout",
     "output_type": "stream",
     "text": [
      "100.0% \n"
     ]
    }
   ],
   "source": [
    "testGetGender(genderListTest, expectation)"
   ]
  },
  {
   "cell_type": "code",
   "execution_count": 15,
   "metadata": {},
   "outputs": [],
   "source": [
    "def getMoralAffiliation(character):\n",
    "    villain = [\"P'Li\", \"Zolt\", \"Two Toed Ping\", \"Chow\", \"Little Chou\", \"Big Chou\", \"Zhao\", \"Ming-Hua\", \"Lieutenant\",\n",
    "               \"Evil Unalaq\", \"Northern Soldier #1\", \"Northern Soldier #2\", \"Yakone\", \"Young Unalaq\", \"Shady Shin\", \n",
    "              \"Viper\", \"Waterbending Thug\",\"Unavaatu\", \"Ghazan\", \"Dai Li Agent\", \"Guard #1\", \"Guard #2\", \n",
    "                    \"Guard #3\", \"Head Soldier\", \"Guard Post Soldier\", \"Bathroom Attendant\", \n",
    "               \"Bison Rustler\", \"Bison Rustler Leader\", \"Dai Li Sergeant\", \"Kuvira\", \n",
    "               \"Earthbending Thug\", \"Head Soldier\", \"Zaheer\", \"Dark Spider Spirit\"]\n",
    "    reformed = [\"Tarrlok\", \"Hiroshi Sato\", \"Eska\", \"Desna\", \"Varrick\", \"Baatar Jr\"]\n",
    "    if (character in villain):\n",
    "        return \"Villain\"\n",
    "    elif (character in reformed):\n",
    "        return \"Reformed\"\n",
    "    else: \n",
    "        return \"Hero\""
   ]
  },
  {
   "cell_type": "code",
   "execution_count": 16,
   "metadata": {},
   "outputs": [],
   "source": [
    "\n",
    "#Maps the character to the appropriate bending \n",
    "#W = Water, E = Earth, F = Fire, Ai = Air, Av = Avatar, N = Nonbender/Unknown, S = Spirit\n",
    "\n",
    "def typeOfBender(character):\n",
    "    avatar = [\"Korra\", \"Aang\", \"Wan\", \"Young Korra\"]\n",
    "    fireBenders = [\"P'Li\", \"Acupuncturist\", \"Mako\", \"Zolt\", \"Two Toed Ping\", \"Huntsman\",\n",
    "                   \"Iroh\", \"Lord Zuko\", \"White Lotus Guard #1\", \"Zhao\", \"Uncle Iroh\", \"Zuko\", \n",
    "                   \"Young General\", \"Karu\", \"White Lotus guard\", \"Firebending Master\",\n",
    "                   \"Baraz\", \"Shaman\", \"Jaya\", \"Fire Nation Councilwoman\"]\n",
    "    waterBenders = [\"Ming-Hua\", \"Katara\", \"Evil Unalaq\", \"Evil Unalaq\", \"Tonraq\", \"Senna\", \"Tarrlok\", \n",
    "                    \"Amon\", \"Yakone\", \"Rebel Leader\", \"Southern Waterbender #2\",\n",
    "                    \"Northern Soldier\", \"Northern Soldier #1\", \"Northern Soldier #2\", \n",
    "                    \"Southern Waterbender #1\", \"Young Unalaq\", \"Shady Shin\", \n",
    "                    \"Viper\", \"Hasook\", \"Kya\", \"Tahno\", \"Unalaq\", \"Eska\", \"Waterbending Thug\",\n",
    "                   \"Desna\", \"Ahnah\", \"Unavaatu\"]\n",
    "    earthBenders = [\"Ghazan\", \"Bandit Leader\", \"Dai Li Agent\", \"Guard #1\", \"Guard #2\", \n",
    "                    \"Guard #3\", \"Head Soldier\", \"Guard Post Soldier\", \"Bathroom Attendant\", \n",
    "                    \"Female Bandit\", \"Male Bandit\",\"Sheriff\", \"Police Radio\",  \n",
    "                    \"Bolin\", \"Lin\", \"Saikhan\", \"Cop\", \"Police Officer\",\n",
    "                    \"Su\", \"Bison Rustler\", \"Bison Rustler Leader\", \"Dai Li Sergeant\", \"Wing\",\"Wei\",\"Huan\",\n",
    "                    \"Kuvira\", \"Toza\", \"Earthbending Thug\", \"Aiwei\", \"Skoochy\", \"Tu\", \"Hong Li\", \"Soldier #1\", \"Police Clerk #1\", \"Police Clerk #2\",\n",
    "                    \"Soldier #2\", \"Head Soldier\", \"Metalbender Cop\"]\n",
    "    airBenders = [\"Zaheer\", \"Female New Airbender #1\", \"Yung\", \"New Airbender #1\", \n",
    "                  \"New Airbender #2\", \"New Airbender #3 & #4\", \n",
    "                  \"Kuon\", \"Male Nomad\", \"Otaku\", \"Daw\", \"Bumi\", \"Tenzin's Kids\",\n",
    "                  \"Kai\", \"Jinora\", \"Tenzin\", \"Meelo\",\n",
    "                 \"Ikki\", \"Opal\", \"Ryu\"]\n",
    "    spirits = [\"Raava\", \"Vaatu\", \"Spirit Frog\", \"Spirit Aye-Aye\", \n",
    "               \"Kind Spirit #1\", \"Kind Spirit #2\", \"Random Spirit #1\", \n",
    "               \"Spirit Mushroom\", \"Fruithog\", \"May\", \"Spirit Flower Bulb\", \"Jim\",\n",
    "               \"Wan Shi Tong\", \"Spirit One\",\n",
    "              \"Random Spirit #2\", \"Fire Lion Turtle\", \"Dark Spider Spirit\"]\n",
    "    if (character in avatar):\n",
    "        return \"Av\"\n",
    "    elif (character in waterBenders):\n",
    "        return \"W\"\n",
    "    elif (character in earthBenders):\n",
    "        return \"E\"\n",
    "    elif (character in fireBenders):\n",
    "        return \"F\"\n",
    "    elif (character in airBenders):\n",
    "        return \"Ai\"\n",
    "    elif (character in spirits):\n",
    "        return \"S\"\n",
    "    else: \n",
    "        return \"N\"\n",
    "    \n",
    "    "
   ]
  },
  {
   "cell_type": "code",
   "execution_count": 17,
   "metadata": {},
   "outputs": [],
   "source": [
    "characters = [\"Asami\", \"Korra\", \"Baraz\", \"Ahnah\", \"Ryu\", \n",
    "              \"Lin\", \"Su\", \"Kuvira\", \"Varrick\", \"Zhu Li\", \n",
    "              \"Mako\", \"Bolin\", \"Zaheer\", \"Hou Ting\", \"Ming-Hua\", \n",
    "              \"P'li\", \"Wan Shi Tong\", \"Jim\", \"Pema\", \"Raava\"]\n",
    "exp = [\"N\", \"Av\", \"F\", \"W\", \"Ai\", \n",
    "     \"E\", \"E\", \"E\", \"N\", \"N\", \n",
    "     \"F\", \"E\", \"Ai\", \"N\", \"W\", \n",
    "       \"F\", \"S\", \"S\", \"N\", \"S\"]"
   ]
  },
  {
   "cell_type": "code",
   "execution_count": 18,
   "metadata": {},
   "outputs": [],
   "source": [
    "characterList = [\"Noatak\", \"Korra\", \"Mako\", \"P'li\", \"Uncle Iroh\", \"Tenzin\", \"Senna\", \"Avatar Korra\", \"Ming-Hua\", \"Young Lin\"]\n",
    "expectedResults = [\"Amon\", \"Korra\", \"Mako\", \"P'Li\", \"Uncle Iroh\", \"Tenzin\", \"Senna\", \"Korra\", \"Ming-Hua\", \"Lin\"]"
   ]
  },
  {
   "cell_type": "code",
   "execution_count": 19,
   "metadata": {},
   "outputs": [],
   "source": [
    "def testCatchAlias(cList, eResults):\n",
    "    score = 0\n",
    "    for c in range(0, len(cList)):\n",
    "        if (catchAlias(cList[c]) == eResults[c]):\n",
    "            score = score + 1\n",
    "        else: \n",
    "            print(\"ERROR: \" + cList[c] + \" actually goes by \" + eResults[c] + \" instead of \" + catchAlias(cList[c]) + \".\" )\n",
    "    print (str((score * 100)/len(eResults)) + \"% \")\n",
    "    "
   ]
  },
  {
   "cell_type": "code",
   "execution_count": 20,
   "metadata": {},
   "outputs": [],
   "source": [
    "def testTypeOfBender(charList, expected):\n",
    "    score = 0\n",
    "    for c in range(0, len(charList)):\n",
    "        if (typeOfBender(catchAlias(charList[c])) == expected[c]):\n",
    "            score = score + 1\n",
    "        else: \n",
    "            print(\"ERROR: \" + charList[c] + \" is a(n) \" + expected[c] + \" marked as a(n) \" + typeOfBender(charList[c]) + \".\" )\n",
    "    print (str((score * 100)/len(expected)) + \"% \")\n",
    "    "
   ]
  },
  {
   "cell_type": "code",
   "execution_count": 21,
   "metadata": {},
   "outputs": [
    {
     "name": "stdout",
     "output_type": "stream",
     "text": [
      "100.0% \n"
     ]
    }
   ],
   "source": [
    "testCatchAlias(characterList, expectedResults)"
   ]
  },
  {
   "cell_type": "code",
   "execution_count": 22,
   "metadata": {},
   "outputs": [
    {
     "name": "stdout",
     "output_type": "stream",
     "text": [
      "100.0% \n"
     ]
    }
   ],
   "source": [
    "testTypeOfBender(characters, exp)"
   ]
  },
  {
   "cell_type": "code",
   "execution_count": 23,
   "metadata": {},
   "outputs": [],
   "source": [
    "import re"
   ]
  },
  {
   "cell_type": "code",
   "execution_count": null,
   "metadata": {},
   "outputs": [],
   "source": []
  },
  {
   "cell_type": "code",
   "execution_count": 24,
   "metadata": {},
   "outputs": [],
   "source": [
    "#map s/e combo to episode number\n",
    "def get_episode_num(season, episode):\n",
    "    epNum = -1\n",
    "    if (season == 1):\n",
    "        epNum = episode\n",
    "    elif (season == 2):\n",
    "        epNum = 12 + episode\n",
    "    elif (season == 3): \n",
    "        epNum = 26 + episode\n",
    "    elif (season == 4):\n",
    "        epNum = 39 + episode\n",
    "    return epNum\n",
    "    "
   ]
  },
  {
   "cell_type": "code",
   "execution_count": 25,
   "metadata": {},
   "outputs": [],
   "source": [
    "#Find the number of lines spoken by each character \n",
    "\n",
    "counterList = []\n",
    "bendingCounterList = []\n",
    "genderCounterList = []\n",
    "wordsSpoken = []\n",
    "dialogue_bending_order_show = []\n",
    "season_to_ep = {1: 12, 2: 14, 3: 13, 4: 13}\n",
    "for j in range(1,5):\n",
    "    numEps = season_to_ep[j]\n",
    "    for i in range(1, numEps+1):\n",
    "        epString = 'http://korra.avatarspirit.net/transcripts.php?num='\n",
    "        epString = epString + str(j)\n",
    "        val = str(i)\n",
    "        if (i < 10):\n",
    "            val = \"0\" + val\n",
    "        epString = epString + val\n",
    "        resp = http.request('GET', epString)\n",
    "        bs = BeautifulSoup(resp.data, 'html.parser')\n",
    "        tags = bs.find_all('b')\n",
    "        lines = bs.find_all('i')\n",
    "        start = False \n",
    "        skip = False\n",
    "        \n",
    "        #Find out how many lines each character has\n",
    "        c = Counter()\n",
    "        bending_count = Counter()\n",
    "        gender_count = Counter()\n",
    "        moral_affiliation = Counter()\n",
    "        bendingHeatMapData = []\n",
    "        for tag in tags:\n",
    "            text = tag.get_text()\n",
    "            if (start and (\"Act\" not in text)): \n",
    "                charName = text[0:len(text)-1]\n",
    "                charName = charName.replace(\"\\\\'\", \"'\")\n",
    "                trueName = catchAlias(charName)\n",
    "                c[trueName] += 1\n",
    "                #trueName = catchAlias(text[0:len(text)-1])\n",
    "                benderType = typeOfBender(trueName)\n",
    "                bendingHeatMapData.append(benderType)\n",
    "                bending_count[benderType] += 1\n",
    "                gender = getGender(trueName)\n",
    "                moralAff = getMoralAffiliation(trueName)\n",
    "                moral_affiliation[moralAff] += 1\n",
    "                gender_count[gender] += 1\n",
    "            elif (text == \"Act I\"):\n",
    "                start = True\n",
    "        counterList.append(c)\n",
    "        dialogue_bending_order_show.append(bendingHeatMapData)\n",
    "        bendingCounterList.append(bending_count)\n",
    "        genderCounterList.append(gender_count)\n",
    "    "
   ]
  },
  {
   "cell_type": "code",
   "execution_count": 26,
   "metadata": {},
   "outputs": [],
   "source": [
    "import math"
   ]
  },
  {
   "cell_type": "code",
   "execution_count": 27,
   "metadata": {},
   "outputs": [],
   "source": [
    "def findClosestSquare(num):\n",
    "    print(\"NUMBER: \", num)\n",
    "    return math.ceil(pow(num, 1/2))"
   ]
  },
  {
   "cell_type": "code",
   "execution_count": 28,
   "metadata": {},
   "outputs": [],
   "source": [
    "def bending_heat_map_by_episode(season, episode):\n",
    "    index = get_episode_num(season, episode)\n",
    "    dialogue_bending_data = dialogue_bending_order_show[index-1]\n",
    "    square_dim = findClosestSquare(len(dialogue_bending_data))\n",
    "    print(square_dim)"
   ]
  },
  {
   "cell_type": "code",
   "execution_count": 29,
   "metadata": {},
   "outputs": [
    {
     "name": "stdout",
     "output_type": "stream",
     "text": [
      "NUMBER:  200\n",
      "15\n"
     ]
    }
   ],
   "source": [
    "bending_heat_map_by_episode(1,2)"
   ]
  },
  {
   "cell_type": "code",
   "execution_count": 30,
   "metadata": {},
   "outputs": [],
   "source": [
    "ep_season_input = [[1,2], [2,3], [4,2], [2,12], [2,14], [3,6], [3,13], [4,1]]\n",
    "ep_season_expected_output = [2, 15, 41, 24, 26, 32, 39, 40]"
   ]
  },
  {
   "cell_type": "code",
   "execution_count": 31,
   "metadata": {},
   "outputs": [],
   "source": [
    "def test_get_episode_num(cList, eResults):\n",
    "    score = 0\n",
    "    for c in range(0, len(cList)):\n",
    "        actual = get_episode_num(cList[c][0], cList[c][1])\n",
    "        if (actual == eResults[c]):\n",
    "            score = score + 1\n",
    "        else: \n",
    "            print(\"ERROR: expected episode number: \" + str(eResults[c]) + \" got \" + str(actual))\n",
    "    print (str((score * 100)/len(eResults)) + \"% \")"
   ]
  },
  {
   "cell_type": "code",
   "execution_count": 32,
   "metadata": {},
   "outputs": [
    {
     "name": "stdout",
     "output_type": "stream",
     "text": [
      "100.0% \n"
     ]
    }
   ],
   "source": [
    "test_get_episode_num(ep_season_input, ep_season_expected_output)"
   ]
  },
  {
   "cell_type": "code",
   "execution_count": 33,
   "metadata": {},
   "outputs": [],
   "source": [
    "import math\n",
    "def round_half_up(n, decimals=0):\n",
    "    multiplier = 10 ** decimals\n",
    "    return math.floor(n*multiplier + 0.5) / multiplier"
   ]
  },
  {
   "cell_type": "code",
   "execution_count": 34,
   "metadata": {},
   "outputs": [],
   "source": [
    "# Make this into a pie graph or something better in d3.js\n",
    "def get_percentage_lines_spoken_by_bending_type_per_episode(season, episode): \n",
    "    total_lines = 0\n",
    "    episode_number = get_episode_num(season, episode)\n",
    "    episode_name = obtain_episode_name(season, episode)\n",
    "    values = [\"N\", \"Av\", \"Ai\", \"S\", \"F\", \"W\", \"E\"]\n",
    "    #indexing starts at 0\n",
    "    abb_to_rep = {\"N\": \"Nonbenders\", \"Av\": \"Avatar(s)\", \"Ai\": \"Airbenders\",\n",
    "              \"S\": \"Spirits\", \"F\": \"Firebenders\", \"W\": \"Waterbenders\", \n",
    "              \"E\": \"Earthbenders\"}\n",
    "    episode_data = bendingCounterList[episode_number-1]\n",
    "    item_rep = episode_data.items()\n",
    "    item_rep = sorted(item_rep, key=lambda x: x[1], reverse=True)\n",
    "    x = []\n",
    "    y = []\n",
    "    color_map = {\"N\": 'tan', \"Av\": 'silver', \n",
    "                  \"Ai\": 'yellow', \"S\": 'pink', \n",
    "                  \"F\": 'red', \"W\": 'blue', \n",
    "                  \"E\":'green'}\n",
    "    color_list = []\n",
    "    for i in range(0, len(item_rep)):\n",
    "        total_lines = total_lines + item_rep[i][1]\n",
    "    for i in range(0, len(item_rep)):\n",
    "        full_form_bender = abb_to_rep[item_rep[i][0]]\n",
    "        color = color_map[item_rep[i][0]]\n",
    "        percentage = (item_rep[i][1] * 100)/total_lines\n",
    "        if (percentage != 0):\n",
    "            percentage = round_half_up(percentage, 1)\n",
    "            x.append(full_form_bender)\n",
    "            y.append(percentage)\n",
    "            color_list.append(color)\n",
    "    matplt.pie(y, labels=x, autopct= '%1.1f%%', colors=color_list)\n",
    "    matplt.title(\"Lines Spoken By Bending Demographics for \" + \"Season \" + str(season) + \", Episode \"\n",
    "                 + str(episode) + \": \" + obtain_episode_name(season, episode))"
   ]
  },
  {
   "cell_type": "code",
   "execution_count": 35,
   "metadata": {},
   "outputs": [],
   "source": [
    "#Full Show Report\n",
    "def get_full_show_report_percentage_lines_spoken_by_bending():\n",
    "    print(\"~~~~~~~~~~~~~~~~~~~~~~ SEASON ONE ~~~~~~~~~~~~~~~~~~~~~~\")\n",
    "    for i in range(1, 13):\n",
    "        get_percentage_lines_spoken_by_bending_type_per_episode(1, i)\n",
    "    print(\"~~~~~~~~~~~~~~~~~~~~~~ SEASON TWO ~~~~~~~~~~~~~~~~~~~~~~\")\n",
    "    for i in range(1, 15):\n",
    "        get_percentage_lines_spoken_by_bending_type_per_episode(2, i)\n",
    "    print(\"~~~~~~~~~~~~~~~~~~~~~~ SEASON THREE ~~~~~~~~~~~~~~~~~~~~~~\")\n",
    "    for i in range(1, 14):\n",
    "        get_percentage_lines_spoken_by_bending_type_per_episode(3, i)\n",
    "    print(\"~~~~~~~~~~~~~~~~~~~~~~ SEASON FOUR ~~~~~~~~~~~~~~~~~~~~~~\")\n",
    "    for i in range(1, 14):\n",
    "        get_percentage_lines_spoken_by_bending_type_per_episode(4, i)\n",
    "\n",
    "def get_episode_report_percentage_lines_spoken_by_bending(s,e):\n",
    "    get_percentage_lines_spoken_by_bending_type_per_episode(s, e)\n",
    "    \n",
    "    \n",
    "        "
   ]
  },
  {
   "cell_type": "code",
   "execution_count": 36,
   "metadata": {},
   "outputs": [
    {
     "data": {
      "image/png": "[encoded data removed]",
      "text/plain": [
       "<Figure size 432x288 with 1 Axes>"
      ]
     },
     "metadata": {},
     "output_type": "display_data"
    }
   ],
   "source": [
    "get_episode_report_percentage_lines_spoken_by_bending(3,12)"
   ]
  },
  {
   "cell_type": "code",
   "execution_count": 37,
   "metadata": {},
   "outputs": [],
   "source": [
    "# Make this into a pie graph or something better in d3.js\n",
    "def get_percentage_lines_spoken_by_gender_per_episode(season, episode): \n",
    "    total_lines = 0\n",
    "    episode_number = get_episode_num(season, episode)\n",
    "    episode_name = obtain_episode_name(season, episode)\n",
    "    values = [\"Males\", \"Females\", \"Characters of Indeterminate Gender\"]\n",
    "    #indexing starts at 0\n",
    "    episode_data = genderCounterList[episode_number-1]\n",
    "    item_rep = episode_data.items()\n",
    "    item_rep = sorted(item_rep, key=lambda x: x[1], reverse=True)\n",
    "    x = []\n",
    "    y = []\n",
    "    color_list = ['pink', 'cyan']\n",
    "    for i in range(0, len(item_rep)):\n",
    "        total_lines = total_lines + item_rep[i][1]\n",
    "    for i in range(0, len(item_rep)):\n",
    "        percentage = (item_rep[i][1] * 100)/total_lines\n",
    "        if (percentage != 0):\n",
    "            percentage = round_half_up(percentage, 1)\n",
    "            x.append(item_rep[i][0])\n",
    "            y.append(percentage)\n",
    "    matplt.pie(y, labels=x, autopct= '%1.1f%%', colors=color_list)\n",
    "    matplt.title(obtain_episode_name(season, episode))"
   ]
  },
  {
   "cell_type": "code",
   "execution_count": 38,
   "metadata": {},
   "outputs": [],
   "source": [
    "#Full Show Report\n",
    "\n",
    "def get_episode_report_percentage_lines_spoken_by_gender(s,e):\n",
    "    get_percentage_lines_spoken_by_gender_per_episode(s, e)\n",
    "    \n",
    "def get_full_show_report_percentage_lines_spoken_by_gender():\n",
    "    print(\"~~~~~~~~~~~~~~~~~~~~~~ SEASON ONE ~~~~~~~~~~~~~~~~~~~~~~\")\n",
    "    for i in range(1, 13):\n",
    "        get_percentage_lines_spoken_by_gender_per_episode(1, i)\n",
    "    print(\"~~~~~~~~~~~~~~~~~~~~~~ SEASON TWO ~~~~~~~~~~~~~~~~~~~~~~\")\n",
    "    for i in range(1, 15):\n",
    "        get_percentage_lines_spoken_by_gender_per_episode(2, i)\n",
    "    print(\"~~~~~~~~~~~~~~~~~~~~~~ SEASON THREE ~~~~~~~~~~~~~~~~~~~~~~\")\n",
    "    for i in range(1, 14):\n",
    "        get_percentage_lines_spoken_by_gender_per_episode(3, i)\n",
    "    print(\"~~~~~~~~~~~~~~~~~~~~~~ SEASON FOUR ~~~~~~~~~~~~~~~~~~~~~~\")\n",
    "    for i in range(1, 14):\n",
    "        get_percentage_lines_spoken_by_gender_per_episode(4, i)\n",
    "\n"
   ]
  },
  {
   "cell_type": "code",
   "execution_count": 39,
   "metadata": {},
   "outputs": [
    {
     "data": {
      "image/png": "[encoded data removed]",
      "text/plain": [
       "<Figure size 432x288 with 1 Axes>"
      ]
     },
     "metadata": {},
     "output_type": "display_data"
    }
   ],
   "source": [
    "get_episode_report_percentage_lines_spoken_by_gender(3,12)"
   ]
  },
  {
   "cell_type": "code",
   "execution_count": 40,
   "metadata": {},
   "outputs": [],
   "source": [
    "def plotCharacterFrequencyOverAll(character, show=False):\n",
    "    frq = []\n",
    "    #character = character + \":\"\n",
    "    character = catchAlias(character)\n",
    "    for c in counterList:\n",
    "        frq.append(c[character])\n",
    "    rangeList = list(range(52))\n",
    "    add_one = [x+1 for x in rangeList]\n",
    "    if (show):\n",
    "        pyplot.plot(add_one, frq)\n",
    "        pyplot.xlabel(\"Episode #\")\n",
    "        pyplot.ylabel(\"Number Of Lines Spoken by \" + character[0:len(character)-1])\n",
    "        pyplot.show()\n",
    "    return frq;\n",
    "        "
   ]
  },
  {
   "cell_type": "code",
   "execution_count": 41,
   "metadata": {},
   "outputs": [],
   "source": [
    "def plotCharacterFrequencyOverAllPerSeason(character, season):\n",
    "    frq = []\n",
    "    #character = character + \":\"\n",
    "    character = catchAlias(character)\n",
    "    seasonList = []\n",
    "    start = -1\n",
    "    end = -1\n",
    "    if (season == 1):\n",
    "        start = 0 \n",
    "        end = 12\n",
    "    elif (season == 2):\n",
    "        start = 12\n",
    "        end = 26\n",
    "    elif (season == 3):\n",
    "        start = 26 \n",
    "        end = 39\n",
    "    elif (season == 4):\n",
    "        start = 39 \n",
    "        end = 52\n",
    "    for i in range(start, end):\n",
    "        seasonList.append(counterList[i])\n",
    "    for s in seasonList:\n",
    "        frq.append(s[character])\n",
    "    return frq\n",
    "    "
   ]
  },
  {
   "cell_type": "code",
   "execution_count": 42,
   "metadata": {},
   "outputs": [
    {
     "data": {
      "text/plain": [
       "[57,\n",
       " 66,\n",
       " 52,\n",
       " 40,\n",
       " 45,\n",
       " 27,\n",
       " 34,\n",
       " 49,\n",
       " 9,\n",
       " 16,\n",
       " 34,\n",
       " 25,\n",
       " 38,\n",
       " 40,\n",
       " 46,\n",
       " 47,\n",
       " 40,\n",
       " 3,\n",
       " 7,\n",
       " 4,\n",
       " 33,\n",
       " 44,\n",
       " 12,\n",
       " 25,\n",
       " 8,\n",
       " 32,\n",
       " 48,\n",
       " 39,\n",
       " 21,\n",
       " 33,\n",
       " 42,\n",
       " 14,\n",
       " 6,\n",
       " 26,\n",
       " 42,\n",
       " 30,\n",
       " 30,\n",
       " 19,\n",
       " 5,\n",
       " 4,\n",
       " 63,\n",
       " 20,\n",
       " 22,\n",
       " 16,\n",
       " 12,\n",
       " 44,\n",
       " 33,\n",
       " 53,\n",
       " 7,\n",
       " 30,\n",
       " 13,\n",
       " 30]"
      ]
     },
     "execution_count": 42,
     "metadata": {},
     "output_type": "execute_result"
    }
   ],
   "source": [
    "plotCharacterFrequencyOverAll(\"Korra\")"
   ]
  },
  {
   "cell_type": "code",
   "execution_count": 158,
   "metadata": {},
   "outputs": [],
   "source": [
    "main_characters = ['Korra','Tenzin','Asami', 'Mako', 'Bolin']"
   ]
  },
  {
   "cell_type": "code",
   "execution_count": 44,
   "metadata": {},
   "outputs": [
    {
     "name": "stdout",
     "output_type": "stream",
     "text": [
      "Requirement already satisfied: plotly in /Library/Frameworks/Python.framework/Versions/3.6/lib/python3.6/site-packages (4.9.0)\n",
      "Requirement already satisfied: retrying>=1.3.3 in /Library/Frameworks/Python.framework/Versions/3.6/lib/python3.6/site-packages (from plotly) (1.3.3)\n",
      "Requirement already satisfied: six in /Library/Frameworks/Python.framework/Versions/3.6/lib/python3.6/site-packages (from plotly) (1.14.0)\n",
      "\u001b[33mWARNING: You are using pip version 20.2.2; however, version 20.2.3 is available.\n",
      "You should consider upgrading via the '/Library/Frameworks/Python.framework/Versions/3.6/bin/python3.6 -m pip install --upgrade pip' command.\u001b[0m\n"
     ]
    }
   ],
   "source": [
    "!pip3 install plotly"
   ]
  },
  {
   "cell_type": "code",
   "execution_count": 45,
   "metadata": {},
   "outputs": [],
   "source": [
    "#Frequency of character dialogue over time\n",
    "import plotly.graph_objects as go\n",
    "\n",
    "def character_dialogue_heatmap(charList):\n",
    "    line_stats = []\n",
    "    for i in range(0, len(main_characters)):\n",
    "        line_stats.append(plotCharacterFrequencyOverAll(catchAlias(charList[i])))\n",
    "    episodes_index = list(range(52))\n",
    "    episode_names = []\n",
    "    season_lengths = [12,14,13,13]\n",
    "    for i in range(1,5):\n",
    "        for j in range(season_lengths[i-1]):\n",
    "            episode_names.append(obtain_episode_name(i, j+1))\n",
    "    fig = go.Figure(data=go.Heatmap(\n",
    "            z=line_stats,\n",
    "            x=episode_names,\n",
    "            y=charList,\n",
    "            colorscale='Viridis'))\n",
    "\n",
    "    fig.update_layout(\n",
    "        title='Lines Spoken Per Episode',\n",
    "        xaxis_nticks=15)\n",
    "\n",
    "    fig.show()"
   ]
  },
  {
   "cell_type": "code",
   "execution_count": 159,
   "metadata": {},
   "outputs": [
    {
     "data": {
      "application/vnd.plotly.v1+json": {
       "config": {
        "plotlyServerURL": "https://plot.ly"
       },
       "data": [
        {
         "colorscale": [
          [
           0,
           "#440154"
          ],
          [
           0.1111111111111111,
           "#482878"
          ],
          [
           0.2222222222222222,
           "#3e4989"
          ],
          [
           0.3333333333333333,
           "#31688e"
          ],
          [
           0.4444444444444444,
           "#26828e"
          ],
          [
           0.5555555555555556,
           "#1f9e89"
          ],
          [
           0.6666666666666666,
           "#35b779"
          ],
          [
           0.7777777777777778,
           "#6ece58"
          ],
          [
           0.8888888888888888,
           "#b5de2b"
          ],
          [
           1,
           "#fde725"
          ]
         ],
         "type": "heatmap",
         "x": [
          "Welcome to Republic City",
          "A Leaf in the Wind",
          "The Revelation",
          "The Voice in the Night",
          "The Spirit of Competition",
          "And the Winner Is...",
          "The Aftermath",
          "When Extremes Meet",
          "Out of the Past",
          "Turning the Tides",
          "Skeletons in the Closet",
          "Endgame",
          "Rebel Spirit",
          "The Southern Lights",
          "Civil Wars: Part 1",
          "Civil Wars: Part 2",
          "Peacekeepers",
          "The Sting",
          "Beginnings, Part 1",
          "Beginnings, Part 2",
          "The Guide",
          "A New Spiritual Age",
          "Night of a Thousand Stars",
          "Harmonic Convergence",
          "Darkness Falls",
          "Light in the Dark",
          "A Breath of Fresh Air",
          "Rebirth",
          "The Earth Queen",
          "In Harm's Way",
          "The Metal Clan",
          "Old Wounds",
          "Original Airbenders",
          "The Terror Within",
          "The Stakeout",
          "Long Live the Queen",
          "The Ultimatum",
          "Enter the Void",
          "Venom of the Red Lotus",
          "After All These Years",
          "Korra Alone",
          "The Coronation",
          "The Calling",
          "Enemy at the Gates",
          "The Battle of Zaofu",
          "Reunion",
          "Remembrances",
          "Beyond the Wilds",
          "Operation Beifong",
          "Kuvira's Gambit",
          "Day of the Colossus",
          "The Last Stand"
         ],
         "y": [
          "Korra",
          "Tenzin",
          "Asami",
          "Mako",
          "Bolin"
         ],
         "z": [
          [
           57,
           66,
           52,
           40,
           45,
           27,
           34,
           49,
           9,
           16,
           34,
           25,
           38,
           40,
           46,
           47,
           40,
           3,
           7,
           4,
           33,
           44,
           12,
           25,
           8,
           32,
           48,
           39,
           21,
           33,
           42,
           14,
           6,
           26,
           42,
           30,
           30,
           19,
           5,
           4,
           63,
           20,
           22,
           16,
           12,
           44,
           33,
           53,
           7,
           30,
           13,
           30
          ],
          [
           23,
           37,
           5,
           23,
           0,
           25,
           12,
           15,
           15,
           37,
           0,
           8,
           16,
           6,
           29,
           14,
           10,
           0,
           0,
           0,
           47,
           9,
           5,
           16,
           28,
           24,
           23,
           24,
           3,
           20,
           0,
           0,
           72,
           0,
           0,
           0,
           13,
           12,
           9,
           5,
           7,
           4,
           4,
           1,
           0,
           5,
           2,
           9,
           0,
           11,
           3,
           8
          ],
          [
           0,
           0,
           0,
           18,
           5,
           0,
           24,
           14,
           11,
           15,
           6,
           6,
           7,
           0,
           0,
           12,
           5,
           32,
           0,
           0,
           13,
           0,
           8,
           9,
           0,
           1,
           14,
           3,
           3,
           6,
           4,
           0,
           0,
           10,
           21,
           21,
           3,
           8,
           4,
           7,
           3,
           0,
           0,
           5,
           0,
           19,
           13,
           2,
           0,
           5,
           14,
           7
          ],
          [
           0,
           22,
           45,
           25,
           44,
           15,
           24,
           15,
           21,
           13,
           26,
           11,
           15,
           17,
           10,
           12,
           31,
           57,
           0,
           0,
           23,
           0,
           17,
           7,
           8,
           9,
           12,
           16,
           24,
           10,
           5,
           2,
           0,
           32,
           29,
           11,
           27,
           17,
           4,
           20,
           3,
           25,
           0,
           0,
           0,
           35,
           54,
           12,
           2,
           8,
           1,
           19
          ],
          [
           0,
           25,
           15,
           10,
           36,
           16,
           16,
           11,
           14,
           3,
           6,
           8,
           19,
           17,
           13,
           25,
           23,
           20,
           0,
           0,
           10,
           0,
           35,
           9,
           9,
           10,
           7,
           20,
           29,
           11,
           20,
           17,
           1,
           27,
           34,
           11,
           26,
           12,
           8,
           8,
           4,
           6,
           0,
           26,
           15,
           23,
           14,
           16,
           27,
           12,
           7,
           18
          ]
         ]
        }
       ],
       "layout": {
        "template": {
         "data": {
          "bar": [
           {
            "error_x": {
             "color": "#2a3f5f"
            },
            "error_y": {
             "color": "#2a3f5f"
            },
            "marker": {
             "line": {
              "color": "#E5ECF6",
              "width": 0.5
             }
            },
            "type": "bar"
           }
          ],
          "barpolar": [
           {
            "marker": {
             "line": {
              "color": "#E5ECF6",
              "width": 0.5
             }
            },
            "type": "barpolar"
           }
          ],
          "carpet": [
           {
            "aaxis": {
             "endlinecolor": "#2a3f5f",
             "gridcolor": "white",
             "linecolor": "white",
             "minorgridcolor": "white",
             "startlinecolor": "#2a3f5f"
            },
            "baxis": {
             "endlinecolor": "#2a3f5f",
             "gridcolor": "white",
             "linecolor": "white",
             "minorgridcolor": "white",
             "startlinecolor": "#2a3f5f"
            },
            "type": "carpet"
           }
          ],
          "choropleth": [
           {
            "colorbar": {
             "outlinewidth": 0,
             "ticks": ""
            },
            "type": "choropleth"
           }
          ],
          "contour": [
           {
            "colorbar": {
             "outlinewidth": 0,
             "ticks": ""
            },
            "colorscale": [
             [
              0,
              "#0d0887"
             ],
             [
              0.1111111111111111,
              "#46039f"
             ],
             [
              0.2222222222222222,
              "#7201a8"
             ],
             [
              0.3333333333333333,
              "#9c179e"
             ],
             [
              0.4444444444444444,
              "#bd3786"
             ],
             [
              0.5555555555555556,
              "#d8576b"
             ],
             [
              0.6666666666666666,
              "#ed7953"
             ],
             [
              0.7777777777777778,
              "#fb9f3a"
             ],
             [
              0.8888888888888888,
              "#fdca26"
             ],
             [
              1,
              "#f0f921"
             ]
            ],
            "type": "contour"
           }
          ],
          "contourcarpet": [
           {
            "colorbar": {
             "outlinewidth": 0,
             "ticks": ""
            },
            "type": "contourcarpet"
           }
          ],
          "heatmap": [
           {
            "colorbar": {
             "outlinewidth": 0,
             "ticks": ""
            },
            "colorscale": [
             [
              0,
              "#0d0887"
             ],
             [
              0.1111111111111111,
              "#46039f"
             ],
             [
              0.2222222222222222,
              "#7201a8"
             ],
             [
              0.3333333333333333,
              "#9c179e"
             ],
             [
              0.4444444444444444,
              "#bd3786"
             ],
             [
              0.5555555555555556,
              "#d8576b"
             ],
             [
              0.6666666666666666,
              "#ed7953"
             ],
             [
              0.7777777777777778,
              "#fb9f3a"
             ],
             [
              0.8888888888888888,
              "#fdca26"
             ],
             [
              1,
              "#f0f921"
             ]
            ],
            "type": "heatmap"
           }
          ],
          "heatmapgl": [
           {
            "colorbar": {
             "outlinewidth": 0,
             "ticks": ""
            },
            "colorscale": [
             [
              0,
              "#0d0887"
             ],
             [
              0.1111111111111111,
              "#46039f"
             ],
             [
              0.2222222222222222,
              "#7201a8"
             ],
             [
              0.3333333333333333,
              "#9c179e"
             ],
             [
              0.4444444444444444,
              "#bd3786"
             ],
             [
              0.5555555555555556,
              "#d8576b"
             ],
             [
              0.6666666666666666,
              "#ed7953"
             ],
             [
              0.7777777777777778,
              "#fb9f3a"
             ],
             [
              0.8888888888888888,
              "#fdca26"
             ],
             [
              1,
              "#f0f921"
             ]
            ],
            "type": "heatmapgl"
           }
          ],
          "histogram": [
           {
            "marker": {
             "colorbar": {
              "outlinewidth": 0,
              "ticks": ""
             }
            },
            "type": "histogram"
           }
          ],
          "histogram2d": [
           {
            "colorbar": {
             "outlinewidth": 0,
             "ticks": ""
            },
            "colorscale": [
             [
              0,
              "#0d0887"
             ],
             [
              0.1111111111111111,
              "#46039f"
             ],
             [
              0.2222222222222222,
              "#7201a8"
             ],
             [
              0.3333333333333333,
              "#9c179e"
             ],
             [
              0.4444444444444444,
              "#bd3786"
             ],
             [
              0.5555555555555556,
              "#d8576b"
             ],
             [
              0.6666666666666666,
              "#ed7953"
             ],
             [
              0.7777777777777778,
              "#fb9f3a"
             ],
             [
              0.8888888888888888,
              "#fdca26"
             ],
             [
              1,
              "#f0f921"
             ]
            ],
            "type": "histogram2d"
           }
          ],
          "histogram2dcontour": [
           {
            "colorbar": {
             "outlinewidth": 0,
             "ticks": ""
            },
            "colorscale": [
             [
              0,
              "#0d0887"
             ],
             [
              0.1111111111111111,
              "#46039f"
             ],
             [
              0.2222222222222222,
              "#7201a8"
             ],
             [
              0.3333333333333333,
              "#9c179e"
             ],
             [
              0.4444444444444444,
              "#bd3786"
             ],
             [
              0.5555555555555556,
              "#d8576b"
             ],
             [
              0.6666666666666666,
              "#ed7953"
             ],
             [
              0.7777777777777778,
              "#fb9f3a"
             ],
             [
              0.8888888888888888,
              "#fdca26"
             ],
             [
              1,
              "#f0f921"
             ]
            ],
            "type": "histogram2dcontour"
           }
          ],
          "mesh3d": [
           {
            "colorbar": {
             "outlinewidth": 0,
             "ticks": ""
            },
            "type": "mesh3d"
           }
          ],
          "parcoords": [
           {
            "line": {
             "colorbar": {
              "outlinewidth": 0,
              "ticks": ""
             }
            },
            "type": "parcoords"
           }
          ],
          "pie": [
           {
            "automargin": true,
            "type": "pie"
           }
          ],
          "scatter": [
           {
            "marker": {
             "colorbar": {
              "outlinewidth": 0,
              "ticks": ""
             }
            },
            "type": "scatter"
           }
          ],
          "scatter3d": [
           {
            "line": {
             "colorbar": {
              "outlinewidth": 0,
              "ticks": ""
             }
            },
            "marker": {
             "colorbar": {
              "outlinewidth": 0,
              "ticks": ""
             }
            },
            "type": "scatter3d"
           }
          ],
          "scattercarpet": [
           {
            "marker": {
             "colorbar": {
              "outlinewidth": 0,
              "ticks": ""
             }
            },
            "type": "scattercarpet"
           }
          ],
          "scattergeo": [
           {
            "marker": {
             "colorbar": {
              "outlinewidth": 0,
              "ticks": ""
             }
            },
            "type": "scattergeo"
           }
          ],
          "scattergl": [
           {
            "marker": {
             "colorbar": {
              "outlinewidth": 0,
              "ticks": ""
             }
            },
            "type": "scattergl"
           }
          ],
          "scattermapbox": [
           {
            "marker": {
             "colorbar": {
              "outlinewidth": 0,
              "ticks": ""
             }
            },
            "type": "scattermapbox"
           }
          ],
          "scatterpolar": [
           {
            "marker": {
             "colorbar": {
              "outlinewidth": 0,
              "ticks": ""
             }
            },
            "type": "scatterpolar"
           }
          ],
          "scatterpolargl": [
           {
            "marker": {
             "colorbar": {
              "outlinewidth": 0,
              "ticks": ""
             }
            },
            "type": "scatterpolargl"
           }
          ],
          "scatterternary": [
           {
            "marker": {
             "colorbar": {
              "outlinewidth": 0,
              "ticks": ""
             }
            },
            "type": "scatterternary"
           }
          ],
          "surface": [
           {
            "colorbar": {
             "outlinewidth": 0,
             "ticks": ""
            },
            "colorscale": [
             [
              0,
              "#0d0887"
             ],
             [
              0.1111111111111111,
              "#46039f"
             ],
             [
              0.2222222222222222,
              "#7201a8"
             ],
             [
              0.3333333333333333,
              "#9c179e"
             ],
             [
              0.4444444444444444,
              "#bd3786"
             ],
             [
              0.5555555555555556,
              "#d8576b"
             ],
             [
              0.6666666666666666,
              "#ed7953"
             ],
             [
              0.7777777777777778,
              "#fb9f3a"
             ],
             [
              0.8888888888888888,
              "#fdca26"
             ],
             [
              1,
              "#f0f921"
             ]
            ],
            "type": "surface"
           }
          ],
          "table": [
           {
            "cells": {
             "fill": {
              "color": "#EBF0F8"
             },
             "line": {
              "color": "white"
             }
            },
            "header": {
             "fill": {
              "color": "#C8D4E3"
             },
             "line": {
              "color": "white"
             }
            },
            "type": "table"
           }
          ]
         },
         "layout": {
          "annotationdefaults": {
           "arrowcolor": "#2a3f5f",
           "arrowhead": 0,
           "arrowwidth": 1
          },
          "coloraxis": {
           "colorbar": {
            "outlinewidth": 0,
            "ticks": ""
           }
          },
          "colorscale": {
           "diverging": [
            [
             0,
             "#8e0152"
            ],
            [
             0.1,
             "#c51b7d"
            ],
            [
             0.2,
             "#de77ae"
            ],
            [
             0.3,
             "#f1b6da"
            ],
            [
             0.4,
             "#fde0ef"
            ],
            [
             0.5,
             "#f7f7f7"
            ],
            [
             0.6,
             "#e6f5d0"
            ],
            [
             0.7,
             "#b8e186"
            ],
            [
             0.8,
             "#7fbc41"
            ],
            [
             0.9,
             "#4d9221"
            ],
            [
             1,
             "#276419"
            ]
           ],
           "sequential": [
            [
             0,
             "#0d0887"
            ],
            [
             0.1111111111111111,
             "#46039f"
            ],
            [
             0.2222222222222222,
             "#7201a8"
            ],
            [
             0.3333333333333333,
             "#9c179e"
            ],
            [
             0.4444444444444444,
             "#bd3786"
            ],
            [
             0.5555555555555556,
             "#d8576b"
            ],
            [
             0.6666666666666666,
             "#ed7953"
            ],
            [
             0.7777777777777778,
             "#fb9f3a"
            ],
            [
             0.8888888888888888,
             "#fdca26"
            ],
            [
             1,
             "#f0f921"
            ]
           ],
           "sequentialminus": [
            [
             0,
             "#0d0887"
            ],
            [
             0.1111111111111111,
             "#46039f"
            ],
            [
             0.2222222222222222,
             "#7201a8"
            ],
            [
             0.3333333333333333,
             "#9c179e"
            ],
            [
             0.4444444444444444,
             "#bd3786"
            ],
            [
             0.5555555555555556,
             "#d8576b"
            ],
            [
             0.6666666666666666,
             "#ed7953"
            ],
            [
             0.7777777777777778,
             "#fb9f3a"
            ],
            [
             0.8888888888888888,
             "#fdca26"
            ],
            [
             1,
             "#f0f921"
            ]
           ]
          },
          "colorway": [
           "#636efa",
           "#EF553B",
           "#00cc96",
           "#ab63fa",
           "#FFA15A",
           "#19d3f3",
           "#FF6692",
           "#B6E880",
           "#FF97FF",
           "#FECB52"
          ],
          "font": {
           "color": "#2a3f5f"
          },
          "geo": {
           "bgcolor": "white",
           "lakecolor": "white",
           "landcolor": "#E5ECF6",
           "showlakes": true,
           "showland": true,
           "subunitcolor": "white"
          },
          "hoverlabel": {
           "align": "left"
          },
          "hovermode": "closest",
          "mapbox": {
           "style": "light"
          },
          "paper_bgcolor": "white",
          "plot_bgcolor": "#E5ECF6",
          "polar": {
           "angularaxis": {
            "gridcolor": "white",
            "linecolor": "white",
            "ticks": ""
           },
           "bgcolor": "#E5ECF6",
           "radialaxis": {
            "gridcolor": "white",
            "linecolor": "white",
            "ticks": ""
           }
          },
          "scene": {
           "xaxis": {
            "backgroundcolor": "#E5ECF6",
            "gridcolor": "white",
            "gridwidth": 2,
            "linecolor": "white",
            "showbackground": true,
            "ticks": "",
            "zerolinecolor": "white"
           },
           "yaxis": {
            "backgroundcolor": "#E5ECF6",
            "gridcolor": "white",
            "gridwidth": 2,
            "linecolor": "white",
            "showbackground": true,
            "ticks": "",
            "zerolinecolor": "white"
           },
           "zaxis": {
            "backgroundcolor": "#E5ECF6",
            "gridcolor": "white",
            "gridwidth": 2,
            "linecolor": "white",
            "showbackground": true,
            "ticks": "",
            "zerolinecolor": "white"
           }
          },
          "shapedefaults": {
           "line": {
            "color": "#2a3f5f"
           }
          },
          "ternary": {
           "aaxis": {
            "gridcolor": "white",
            "linecolor": "white",
            "ticks": ""
           },
           "baxis": {
            "gridcolor": "white",
            "linecolor": "white",
            "ticks": ""
           },
           "bgcolor": "#E5ECF6",
           "caxis": {
            "gridcolor": "white",
            "linecolor": "white",
            "ticks": ""
           }
          },
          "title": {
           "x": 0.05
          },
          "xaxis": {
           "automargin": true,
           "gridcolor": "white",
           "linecolor": "white",
           "ticks": "",
           "title": {
            "standoff": 15
           },
           "zerolinecolor": "white",
           "zerolinewidth": 2
          },
          "yaxis": {
           "automargin": true,
           "gridcolor": "white",
           "linecolor": "white",
           "ticks": "",
           "title": {
            "standoff": 15
           },
           "zerolinecolor": "white",
           "zerolinewidth": 2
          }
         }
        },
        "title": {
         "text": "Lines Spoken Per Episode"
        },
        "xaxis": {
         "nticks": 15
        }
       }
      },
      "text/html": [
       "<div>\n",
       "        \n",
       "        \n",
       "            <div id=\"2c671900-af03-4881-a1ea-ca452302bbba\" class=\"plotly-graph-div\" style=\"height:525px; width:100%;\"></div>\n",
       "            <script type=\"text/javascript\">\n",
       "                require([\"plotly\"], function(Plotly) {\n",
       "                    window.PLOTLYENV=window.PLOTLYENV || {};\n",
       "                    \n",
       "                if (document.getElementById(\"2c671900-af03-4881-a1ea-ca452302bbba\")) {\n",
       "                    Plotly.newPlot(\n",
       "                        '2c671900-af03-4881-a1ea-ca452302bbba',\n",
       "                        [{\"colorscale\": [[0.0, \"#440154\"], [0.1111111111111111, \"#482878\"], [0.2222222222222222, \"#3e4989\"], [0.3333333333333333, \"#31688e\"], [0.4444444444444444, \"#26828e\"], [0.5555555555555556, \"#1f9e89\"], [0.6666666666666666, \"#35b779\"], [0.7777777777777778, \"#6ece58\"], [0.8888888888888888, \"#b5de2b\"], [1.0, \"#fde725\"]], \"type\": \"heatmap\", \"x\": [\"Welcome to Republic City\", \"A Leaf in the Wind\", \"The Revelation\", \"The Voice in the Night\", \"The Spirit of Competition\", \"And the Winner Is...\", \"The Aftermath\", \"When Extremes Meet\", \"Out of the Past\", \"Turning the Tides\", \"Skeletons in the Closet\", \"Endgame\", \"Rebel Spirit\", \"The Southern Lights\", \"Civil Wars: Part 1\", \"Civil Wars: Part 2\", \"Peacekeepers\", \"The Sting\", \"Beginnings, Part 1\", \"Beginnings, Part 2\", \"The Guide\", \"A New Spiritual Age\", \"Night of a Thousand Stars\", \"Harmonic Convergence\", \"Darkness Falls\", \"Light in the Dark\", \"A Breath of Fresh Air\", \"Rebirth\", \"The Earth Queen\", \"In Harm's Way\", \"The Metal Clan\", \"Old Wounds\", \"Original Airbenders\", \"The Terror Within\", \"The Stakeout\", \"Long Live the Queen\", \"The Ultimatum\", \"Enter the Void\", \"Venom of the Red Lotus\", \"After All These Years\", \"Korra Alone\", \"The Coronation\", \"The Calling\", \"Enemy at the Gates\", \"The Battle of Zaofu\", \"Reunion\", \"Remembrances\", \"Beyond the Wilds\", \"Operation Beifong\", \"Kuvira's Gambit\", \"Day of the Colossus\", \"The Last Stand\"], \"y\": [\"Korra\", \"Tenzin\", \"Asami\", \"Mako\", \"Bolin\"], \"z\": [[57, 66, 52, 40, 45, 27, 34, 49, 9, 16, 34, 25, 38, 40, 46, 47, 40, 3, 7, 4, 33, 44, 12, 25, 8, 32, 48, 39, 21, 33, 42, 14, 6, 26, 42, 30, 30, 19, 5, 4, 63, 20, 22, 16, 12, 44, 33, 53, 7, 30, 13, 30], [23, 37, 5, 23, 0, 25, 12, 15, 15, 37, 0, 8, 16, 6, 29, 14, 10, 0, 0, 0, 47, 9, 5, 16, 28, 24, 23, 24, 3, 20, 0, 0, 72, 0, 0, 0, 13, 12, 9, 5, 7, 4, 4, 1, 0, 5, 2, 9, 0, 11, 3, 8], [0, 0, 0, 18, 5, 0, 24, 14, 11, 15, 6, 6, 7, 0, 0, 12, 5, 32, 0, 0, 13, 0, 8, 9, 0, 1, 14, 3, 3, 6, 4, 0, 0, 10, 21, 21, 3, 8, 4, 7, 3, 0, 0, 5, 0, 19, 13, 2, 0, 5, 14, 7], [0, 22, 45, 25, 44, 15, 24, 15, 21, 13, 26, 11, 15, 17, 10, 12, 31, 57, 0, 0, 23, 0, 17, 7, 8, 9, 12, 16, 24, 10, 5, 2, 0, 32, 29, 11, 27, 17, 4, 20, 3, 25, 0, 0, 0, 35, 54, 12, 2, 8, 1, 19], [0, 25, 15, 10, 36, 16, 16, 11, 14, 3, 6, 8, 19, 17, 13, 25, 23, 20, 0, 0, 10, 0, 35, 9, 9, 10, 7, 20, 29, 11, 20, 17, 1, 27, 34, 11, 26, 12, 8, 8, 4, 6, 0, 26, 15, 23, 14, 16, 27, 12, 7, 18]]}],\n",
       "                        {\"template\": {\"data\": {\"bar\": [{\"error_x\": {\"color\": \"#2a3f5f\"}, \"error_y\": {\"color\": \"#2a3f5f\"}, \"marker\": {\"line\": {\"color\": \"#E5ECF6\", \"width\": 0.5}}, \"type\": \"bar\"}], \"barpolar\": [{\"marker\": {\"line\": {\"color\": \"#E5ECF6\", \"width\": 0.5}}, \"type\": \"barpolar\"}], \"carpet\": [{\"aaxis\": {\"endlinecolor\": \"#2a3f5f\", \"gridcolor\": \"white\", \"linecolor\": \"white\", \"minorgridcolor\": \"white\", \"startlinecolor\": \"#2a3f5f\"}, \"baxis\": {\"endlinecolor\": \"#2a3f5f\", \"gridcolor\": \"white\", \"linecolor\": \"white\", \"minorgridcolor\": \"white\", \"startlinecolor\": \"#2a3f5f\"}, \"type\": \"carpet\"}], \"choropleth\": [{\"colorbar\": {\"outlinewidth\": 0, \"ticks\": \"\"}, \"type\": \"choropleth\"}], \"contour\": [{\"colorbar\": {\"outlinewidth\": 0, \"ticks\": \"\"}, \"colorscale\": [[0.0, \"#0d0887\"], [0.1111111111111111, \"#46039f\"], [0.2222222222222222, \"#7201a8\"], [0.3333333333333333, \"#9c179e\"], [0.4444444444444444, \"#bd3786\"], [0.5555555555555556, \"#d8576b\"], [0.6666666666666666, \"#ed7953\"], [0.7777777777777778, \"#fb9f3a\"], [0.8888888888888888, \"#fdca26\"], [1.0, \"#f0f921\"]], \"type\": \"contour\"}], \"contourcarpet\": [{\"colorbar\": {\"outlinewidth\": 0, \"ticks\": \"\"}, \"type\": \"contourcarpet\"}], \"heatmap\": [{\"colorbar\": {\"outlinewidth\": 0, \"ticks\": \"\"}, \"colorscale\": [[0.0, \"#0d0887\"], [0.1111111111111111, \"#46039f\"], [0.2222222222222222, \"#7201a8\"], [0.3333333333333333, \"#9c179e\"], [0.4444444444444444, \"#bd3786\"], [0.5555555555555556, \"#d8576b\"], [0.6666666666666666, \"#ed7953\"], [0.7777777777777778, \"#fb9f3a\"], [0.8888888888888888, \"#fdca26\"], [1.0, \"#f0f921\"]], \"type\": \"heatmap\"}], \"heatmapgl\": [{\"colorbar\": {\"outlinewidth\": 0, \"ticks\": \"\"}, \"colorscale\": [[0.0, \"#0d0887\"], [0.1111111111111111, \"#46039f\"], [0.2222222222222222, \"#7201a8\"], [0.3333333333333333, \"#9c179e\"], [0.4444444444444444, \"#bd3786\"], [0.5555555555555556, \"#d8576b\"], [0.6666666666666666, \"#ed7953\"], [0.7777777777777778, \"#fb9f3a\"], [0.8888888888888888, \"#fdca26\"], [1.0, \"#f0f921\"]], \"type\": \"heatmapgl\"}], \"histogram\": [{\"marker\": {\"colorbar\": {\"outlinewidth\": 0, \"ticks\": \"\"}}, \"type\": \"histogram\"}], \"histogram2d\": [{\"colorbar\": {\"outlinewidth\": 0, \"ticks\": \"\"}, \"colorscale\": [[0.0, \"#0d0887\"], [0.1111111111111111, \"#46039f\"], [0.2222222222222222, \"#7201a8\"], [0.3333333333333333, \"#9c179e\"], [0.4444444444444444, \"#bd3786\"], [0.5555555555555556, \"#d8576b\"], [0.6666666666666666, \"#ed7953\"], [0.7777777777777778, \"#fb9f3a\"], [0.8888888888888888, \"#fdca26\"], [1.0, \"#f0f921\"]], \"type\": \"histogram2d\"}], \"histogram2dcontour\": [{\"colorbar\": {\"outlinewidth\": 0, \"ticks\": \"\"}, \"colorscale\": [[0.0, \"#0d0887\"], [0.1111111111111111, \"#46039f\"], [0.2222222222222222, \"#7201a8\"], [0.3333333333333333, \"#9c179e\"], [0.4444444444444444, \"#bd3786\"], [0.5555555555555556, \"#d8576b\"], [0.6666666666666666, \"#ed7953\"], [0.7777777777777778, \"#fb9f3a\"], [0.8888888888888888, \"#fdca26\"], [1.0, \"#f0f921\"]], \"type\": \"histogram2dcontour\"}], \"mesh3d\": [{\"colorbar\": {\"outlinewidth\": 0, \"ticks\": \"\"}, \"type\": \"mesh3d\"}], \"parcoords\": [{\"line\": {\"colorbar\": {\"outlinewidth\": 0, \"ticks\": \"\"}}, \"type\": \"parcoords\"}], \"pie\": [{\"automargin\": true, \"type\": \"pie\"}], \"scatter\": [{\"marker\": {\"colorbar\": {\"outlinewidth\": 0, \"ticks\": \"\"}}, \"type\": \"scatter\"}], \"scatter3d\": [{\"line\": {\"colorbar\": {\"outlinewidth\": 0, \"ticks\": \"\"}}, \"marker\": {\"colorbar\": {\"outlinewidth\": 0, \"ticks\": \"\"}}, \"type\": \"scatter3d\"}], \"scattercarpet\": [{\"marker\": {\"colorbar\": {\"outlinewidth\": 0, \"ticks\": \"\"}}, \"type\": \"scattercarpet\"}], \"scattergeo\": [{\"marker\": {\"colorbar\": {\"outlinewidth\": 0, \"ticks\": \"\"}}, \"type\": \"scattergeo\"}], \"scattergl\": [{\"marker\": {\"colorbar\": {\"outlinewidth\": 0, \"ticks\": \"\"}}, \"type\": \"scattergl\"}], \"scattermapbox\": [{\"marker\": {\"colorbar\": {\"outlinewidth\": 0, \"ticks\": \"\"}}, \"type\": \"scattermapbox\"}], \"scatterpolar\": [{\"marker\": {\"colorbar\": {\"outlinewidth\": 0, \"ticks\": \"\"}}, \"type\": \"scatterpolar\"}], \"scatterpolargl\": [{\"marker\": {\"colorbar\": {\"outlinewidth\": 0, \"ticks\": \"\"}}, \"type\": \"scatterpolargl\"}], \"scatterternary\": [{\"marker\": {\"colorbar\": {\"outlinewidth\": 0, \"ticks\": \"\"}}, \"type\": \"scatterternary\"}], \"surface\": [{\"colorbar\": {\"outlinewidth\": 0, \"ticks\": \"\"}, \"colorscale\": [[0.0, \"#0d0887\"], [0.1111111111111111, \"#46039f\"], [0.2222222222222222, \"#7201a8\"], [0.3333333333333333, \"#9c179e\"], [0.4444444444444444, \"#bd3786\"], [0.5555555555555556, \"#d8576b\"], [0.6666666666666666, \"#ed7953\"], [0.7777777777777778, \"#fb9f3a\"], [0.8888888888888888, \"#fdca26\"], [1.0, \"#f0f921\"]], \"type\": \"surface\"}], \"table\": [{\"cells\": {\"fill\": {\"color\": \"#EBF0F8\"}, \"line\": {\"color\": \"white\"}}, \"header\": {\"fill\": {\"color\": \"#C8D4E3\"}, \"line\": {\"color\": \"white\"}}, \"type\": \"table\"}]}, \"layout\": {\"annotationdefaults\": {\"arrowcolor\": \"#2a3f5f\", \"arrowhead\": 0, \"arrowwidth\": 1}, \"coloraxis\": {\"colorbar\": {\"outlinewidth\": 0, \"ticks\": \"\"}}, \"colorscale\": {\"diverging\": [[0, \"#8e0152\"], [0.1, \"#c51b7d\"], [0.2, \"#de77ae\"], [0.3, \"#f1b6da\"], [0.4, \"#fde0ef\"], [0.5, \"#f7f7f7\"], [0.6, \"#e6f5d0\"], [0.7, \"#b8e186\"], [0.8, \"#7fbc41\"], [0.9, \"#4d9221\"], [1, \"#276419\"]], \"sequential\": [[0.0, \"#0d0887\"], [0.1111111111111111, \"#46039f\"], [0.2222222222222222, \"#7201a8\"], [0.3333333333333333, \"#9c179e\"], [0.4444444444444444, \"#bd3786\"], [0.5555555555555556, \"#d8576b\"], [0.6666666666666666, \"#ed7953\"], [0.7777777777777778, \"#fb9f3a\"], [0.8888888888888888, \"#fdca26\"], [1.0, \"#f0f921\"]], \"sequentialminus\": [[0.0, \"#0d0887\"], [0.1111111111111111, \"#46039f\"], [0.2222222222222222, \"#7201a8\"], [0.3333333333333333, \"#9c179e\"], [0.4444444444444444, \"#bd3786\"], [0.5555555555555556, \"#d8576b\"], [0.6666666666666666, \"#ed7953\"], [0.7777777777777778, \"#fb9f3a\"], [0.8888888888888888, \"#fdca26\"], [1.0, \"#f0f921\"]]}, \"colorway\": [\"#636efa\", \"#EF553B\", \"#00cc96\", \"#ab63fa\", \"#FFA15A\", \"#19d3f3\", \"#FF6692\", \"#B6E880\", \"#FF97FF\", \"#FECB52\"], \"font\": {\"color\": \"#2a3f5f\"}, \"geo\": {\"bgcolor\": \"white\", \"lakecolor\": \"white\", \"landcolor\": \"#E5ECF6\", \"showlakes\": true, \"showland\": true, \"subunitcolor\": \"white\"}, \"hoverlabel\": {\"align\": \"left\"}, \"hovermode\": \"closest\", \"mapbox\": {\"style\": \"light\"}, \"paper_bgcolor\": \"white\", \"plot_bgcolor\": \"#E5ECF6\", \"polar\": {\"angularaxis\": {\"gridcolor\": \"white\", \"linecolor\": \"white\", \"ticks\": \"\"}, \"bgcolor\": \"#E5ECF6\", \"radialaxis\": {\"gridcolor\": \"white\", \"linecolor\": \"white\", \"ticks\": \"\"}}, \"scene\": {\"xaxis\": {\"backgroundcolor\": \"#E5ECF6\", \"gridcolor\": \"white\", \"gridwidth\": 2, \"linecolor\": \"white\", \"showbackground\": true, \"ticks\": \"\", \"zerolinecolor\": \"white\"}, \"yaxis\": {\"backgroundcolor\": \"#E5ECF6\", \"gridcolor\": \"white\", \"gridwidth\": 2, \"linecolor\": \"white\", \"showbackground\": true, \"ticks\": \"\", \"zerolinecolor\": \"white\"}, \"zaxis\": {\"backgroundcolor\": \"#E5ECF6\", \"gridcolor\": \"white\", \"gridwidth\": 2, \"linecolor\": \"white\", \"showbackground\": true, \"ticks\": \"\", \"zerolinecolor\": \"white\"}}, \"shapedefaults\": {\"line\": {\"color\": \"#2a3f5f\"}}, \"ternary\": {\"aaxis\": {\"gridcolor\": \"white\", \"linecolor\": \"white\", \"ticks\": \"\"}, \"baxis\": {\"gridcolor\": \"white\", \"linecolor\": \"white\", \"ticks\": \"\"}, \"bgcolor\": \"#E5ECF6\", \"caxis\": {\"gridcolor\": \"white\", \"linecolor\": \"white\", \"ticks\": \"\"}}, \"title\": {\"x\": 0.05}, \"xaxis\": {\"automargin\": true, \"gridcolor\": \"white\", \"linecolor\": \"white\", \"ticks\": \"\", \"title\": {\"standoff\": 15}, \"zerolinecolor\": \"white\", \"zerolinewidth\": 2}, \"yaxis\": {\"automargin\": true, \"gridcolor\": \"white\", \"linecolor\": \"white\", \"ticks\": \"\", \"title\": {\"standoff\": 15}, \"zerolinecolor\": \"white\", \"zerolinewidth\": 2}}}, \"title\": {\"text\": \"Lines Spoken Per Episode\"}, \"xaxis\": {\"nticks\": 15}},\n",
       "                        {\"responsive\": true}\n",
       "                    ).then(function(){\n",
       "                            \n",
       "var gd = document.getElementById('2c671900-af03-4881-a1ea-ca452302bbba');\n",
       "var x = new MutationObserver(function (mutations, observer) {{\n",
       "        var display = window.getComputedStyle(gd).display;\n",
       "        if (!display || display === 'none') {{\n",
       "            console.log([gd, 'removed!']);\n",
       "            Plotly.purge(gd);\n",
       "            observer.disconnect();\n",
       "        }}\n",
       "}});\n",
       "\n",
       "// Listen for the removal of the full notebook cells\n",
       "var notebookContainer = gd.closest('#notebook-container');\n",
       "if (notebookContainer) {{\n",
       "    x.observe(notebookContainer, {childList: true});\n",
       "}}\n",
       "\n",
       "// Listen for the clearing of the current output cell\n",
       "var outputEl = gd.closest('.output');\n",
       "if (outputEl) {{\n",
       "    x.observe(outputEl, {childList: true});\n",
       "}}\n",
       "\n",
       "                        })\n",
       "                };\n",
       "                });\n",
       "            </script>\n",
       "        </div>"
      ]
     },
     "metadata": {},
     "output_type": "display_data"
    }
   ],
   "source": [
    "character_dialogue_heatmap(main_characters)"
   ]
  },
  {
   "cell_type": "code",
   "execution_count": 177,
   "metadata": {},
   "outputs": [],
   "source": [
    "def character_dialogue_heatmap_per_season(season, charList):\n",
    "    line_stats = []\n",
    "    for i in range(0, len(charList)):\n",
    "        line_stats.append(plotCharacterFrequencyOverAllPerSeason(catchAlias(charList[i]), season))\n",
    "    episode_names = []\n",
    "    season_lengths = [12,14,13,13]\n",
    "    episodes_index = list(range(season_lengths[season-1]))\n",
    "    for j in range(season_lengths[season-1]):\n",
    "        episode_names.append(obtain_episode_name(season, j+1))\n",
    "    fig = go.Figure(data=go.Heatmap(\n",
    "            z=line_stats,\n",
    "            x=episode_names,\n",
    "            y=charList,\n",
    "            colorscale='Viridis'))\n",
    "\n",
    "    fig.update_layout(\n",
    "        title=season_to_title[season] + \"- Number Of Lines Spoken\",\n",
    "        xaxis_nticks=180)\n",
    "\n",
    "    fig.show()"
   ]
  },
  {
   "cell_type": "code",
   "execution_count": 178,
   "metadata": {},
   "outputs": [
    {
     "data": {
      "application/vnd.plotly.v1+json": {
       "config": {
        "plotlyServerURL": "https://plot.ly"
       },
       "data": [
        {
         "colorscale": [
          [
           0,
           "#440154"
          ],
          [
           0.1111111111111111,
           "#482878"
          ],
          [
           0.2222222222222222,
           "#3e4989"
          ],
          [
           0.3333333333333333,
           "#31688e"
          ],
          [
           0.4444444444444444,
           "#26828e"
          ],
          [
           0.5555555555555556,
           "#1f9e89"
          ],
          [
           0.6666666666666666,
           "#35b779"
          ],
          [
           0.7777777777777778,
           "#6ece58"
          ],
          [
           0.8888888888888888,
           "#b5de2b"
          ],
          [
           1,
           "#fde725"
          ]
         ],
         "type": "heatmap",
         "x": [
          "Welcome to Republic City",
          "A Leaf in the Wind",
          "The Revelation",
          "The Voice in the Night",
          "The Spirit of Competition",
          "And the Winner Is...",
          "The Aftermath",
          "When Extremes Meet",
          "Out of the Past",
          "Turning the Tides",
          "Skeletons in the Closet",
          "Endgame"
         ],
         "y": [
          "Tenzin",
          "Toph",
          "Yakone",
          "Korra"
         ],
         "z": [
          [
           23,
           37,
           5,
           23,
           0,
           25,
           12,
           15,
           15,
           37,
           0,
           8
          ],
          [
           0,
           0,
           0,
           0,
           0,
           0,
           0,
           0,
           5,
           0,
           0,
           0
          ],
          [
           0,
           0,
           0,
           0,
           0,
           0,
           0,
           0,
           5,
           0,
           14,
           0
          ],
          [
           57,
           66,
           52,
           40,
           45,
           27,
           34,
           49,
           9,
           16,
           34,
           25
          ]
         ]
        }
       ],
       "layout": {
        "template": {
         "data": {
          "bar": [
           {
            "error_x": {
             "color": "#2a3f5f"
            },
            "error_y": {
             "color": "#2a3f5f"
            },
            "marker": {
             "line": {
              "color": "#E5ECF6",
              "width": 0.5
             }
            },
            "type": "bar"
           }
          ],
          "barpolar": [
           {
            "marker": {
             "line": {
              "color": "#E5ECF6",
              "width": 0.5
             }
            },
            "type": "barpolar"
           }
          ],
          "carpet": [
           {
            "aaxis": {
             "endlinecolor": "#2a3f5f",
             "gridcolor": "white",
             "linecolor": "white",
             "minorgridcolor": "white",
             "startlinecolor": "#2a3f5f"
            },
            "baxis": {
             "endlinecolor": "#2a3f5f",
             "gridcolor": "white",
             "linecolor": "white",
             "minorgridcolor": "white",
             "startlinecolor": "#2a3f5f"
            },
            "type": "carpet"
           }
          ],
          "choropleth": [
           {
            "colorbar": {
             "outlinewidth": 0,
             "ticks": ""
            },
            "type": "choropleth"
           }
          ],
          "contour": [
           {
            "colorbar": {
             "outlinewidth": 0,
             "ticks": ""
            },
            "colorscale": [
             [
              0,
              "#0d0887"
             ],
             [
              0.1111111111111111,
              "#46039f"
             ],
             [
              0.2222222222222222,
              "#7201a8"
             ],
             [
              0.3333333333333333,
              "#9c179e"
             ],
             [
              0.4444444444444444,
              "#bd3786"
             ],
             [
              0.5555555555555556,
              "#d8576b"
             ],
             [
              0.6666666666666666,
              "#ed7953"
             ],
             [
              0.7777777777777778,
              "#fb9f3a"
             ],
             [
              0.8888888888888888,
              "#fdca26"
             ],
             [
              1,
              "#f0f921"
             ]
            ],
            "type": "contour"
           }
          ],
          "contourcarpet": [
           {
            "colorbar": {
             "outlinewidth": 0,
             "ticks": ""
            },
            "type": "contourcarpet"
           }
          ],
          "heatmap": [
           {
            "colorbar": {
             "outlinewidth": 0,
             "ticks": ""
            },
            "colorscale": [
             [
              0,
              "#0d0887"
             ],
             [
              0.1111111111111111,
              "#46039f"
             ],
             [
              0.2222222222222222,
              "#7201a8"
             ],
             [
              0.3333333333333333,
              "#9c179e"
             ],
             [
              0.4444444444444444,
              "#bd3786"
             ],
             [
              0.5555555555555556,
              "#d8576b"
             ],
             [
              0.6666666666666666,
              "#ed7953"
             ],
             [
              0.7777777777777778,
              "#fb9f3a"
             ],
             [
              0.8888888888888888,
              "#fdca26"
             ],
             [
              1,
              "#f0f921"
             ]
            ],
            "type": "heatmap"
           }
          ],
          "heatmapgl": [
           {
            "colorbar": {
             "outlinewidth": 0,
             "ticks": ""
            },
            "colorscale": [
             [
              0,
              "#0d0887"
             ],
             [
              0.1111111111111111,
              "#46039f"
             ],
             [
              0.2222222222222222,
              "#7201a8"
             ],
             [
              0.3333333333333333,
              "#9c179e"
             ],
             [
              0.4444444444444444,
              "#bd3786"
             ],
             [
              0.5555555555555556,
              "#d8576b"
             ],
             [
              0.6666666666666666,
              "#ed7953"
             ],
             [
              0.7777777777777778,
              "#fb9f3a"
             ],
             [
              0.8888888888888888,
              "#fdca26"
             ],
             [
              1,
              "#f0f921"
             ]
            ],
            "type": "heatmapgl"
           }
          ],
          "histogram": [
           {
            "marker": {
             "colorbar": {
              "outlinewidth": 0,
              "ticks": ""
             }
            },
            "type": "histogram"
           }
          ],
          "histogram2d": [
           {
            "colorbar": {
             "outlinewidth": 0,
             "ticks": ""
            },
            "colorscale": [
             [
              0,
              "#0d0887"
             ],
             [
              0.1111111111111111,
              "#46039f"
             ],
             [
              0.2222222222222222,
              "#7201a8"
             ],
             [
              0.3333333333333333,
              "#9c179e"
             ],
             [
              0.4444444444444444,
              "#bd3786"
             ],
             [
              0.5555555555555556,
              "#d8576b"
             ],
             [
              0.6666666666666666,
              "#ed7953"
             ],
             [
              0.7777777777777778,
              "#fb9f3a"
             ],
             [
              0.8888888888888888,
              "#fdca26"
             ],
             [
              1,
              "#f0f921"
             ]
            ],
            "type": "histogram2d"
           }
          ],
          "histogram2dcontour": [
           {
            "colorbar": {
             "outlinewidth": 0,
             "ticks": ""
            },
            "colorscale": [
             [
              0,
              "#0d0887"
             ],
             [
              0.1111111111111111,
              "#46039f"
             ],
             [
              0.2222222222222222,
              "#7201a8"
             ],
             [
              0.3333333333333333,
              "#9c179e"
             ],
             [
              0.4444444444444444,
              "#bd3786"
             ],
             [
              0.5555555555555556,
              "#d8576b"
             ],
             [
              0.6666666666666666,
              "#ed7953"
             ],
             [
              0.7777777777777778,
              "#fb9f3a"
             ],
             [
              0.8888888888888888,
              "#fdca26"
             ],
             [
              1,
              "#f0f921"
             ]
            ],
            "type": "histogram2dcontour"
           }
          ],
          "mesh3d": [
           {
            "colorbar": {
             "outlinewidth": 0,
             "ticks": ""
            },
            "type": "mesh3d"
           }
          ],
          "parcoords": [
           {
            "line": {
             "colorbar": {
              "outlinewidth": 0,
              "ticks": ""
             }
            },
            "type": "parcoords"
           }
          ],
          "pie": [
           {
            "automargin": true,
            "type": "pie"
           }
          ],
          "scatter": [
           {
            "marker": {
             "colorbar": {
              "outlinewidth": 0,
              "ticks": ""
             }
            },
            "type": "scatter"
           }
          ],
          "scatter3d": [
           {
            "line": {
             "colorbar": {
              "outlinewidth": 0,
              "ticks": ""
             }
            },
            "marker": {
             "colorbar": {
              "outlinewidth": 0,
              "ticks": ""
             }
            },
            "type": "scatter3d"
           }
          ],
          "scattercarpet": [
           {
            "marker": {
             "colorbar": {
              "outlinewidth": 0,
              "ticks": ""
             }
            },
            "type": "scattercarpet"
           }
          ],
          "scattergeo": [
           {
            "marker": {
             "colorbar": {
              "outlinewidth": 0,
              "ticks": ""
             }
            },
            "type": "scattergeo"
           }
          ],
          "scattergl": [
           {
            "marker": {
             "colorbar": {
              "outlinewidth": 0,
              "ticks": ""
             }
            },
            "type": "scattergl"
           }
          ],
          "scattermapbox": [
           {
            "marker": {
             "colorbar": {
              "outlinewidth": 0,
              "ticks": ""
             }
            },
            "type": "scattermapbox"
           }
          ],
          "scatterpolar": [
           {
            "marker": {
             "colorbar": {
              "outlinewidth": 0,
              "ticks": ""
             }
            },
            "type": "scatterpolar"
           }
          ],
          "scatterpolargl": [
           {
            "marker": {
             "colorbar": {
              "outlinewidth": 0,
              "ticks": ""
             }
            },
            "type": "scatterpolargl"
           }
          ],
          "scatterternary": [
           {
            "marker": {
             "colorbar": {
              "outlinewidth": 0,
              "ticks": ""
             }
            },
            "type": "scatterternary"
           }
          ],
          "surface": [
           {
            "colorbar": {
             "outlinewidth": 0,
             "ticks": ""
            },
            "colorscale": [
             [
              0,
              "#0d0887"
             ],
             [
              0.1111111111111111,
              "#46039f"
             ],
             [
              0.2222222222222222,
              "#7201a8"
             ],
             [
              0.3333333333333333,
              "#9c179e"
             ],
             [
              0.4444444444444444,
              "#bd3786"
             ],
             [
              0.5555555555555556,
              "#d8576b"
             ],
             [
              0.6666666666666666,
              "#ed7953"
             ],
             [
              0.7777777777777778,
              "#fb9f3a"
             ],
             [
              0.8888888888888888,
              "#fdca26"
             ],
             [
              1,
              "#f0f921"
             ]
            ],
            "type": "surface"
           }
          ],
          "table": [
           {
            "cells": {
             "fill": {
              "color": "#EBF0F8"
             },
             "line": {
              "color": "white"
             }
            },
            "header": {
             "fill": {
              "color": "#C8D4E3"
             },
             "line": {
              "color": "white"
             }
            },
            "type": "table"
           }
          ]
         },
         "layout": {
          "annotationdefaults": {
           "arrowcolor": "#2a3f5f",
           "arrowhead": 0,
           "arrowwidth": 1
          },
          "coloraxis": {
           "colorbar": {
            "outlinewidth": 0,
            "ticks": ""
           }
          },
          "colorscale": {
           "diverging": [
            [
             0,
             "#8e0152"
            ],
            [
             0.1,
             "#c51b7d"
            ],
            [
             0.2,
             "#de77ae"
            ],
            [
             0.3,
             "#f1b6da"
            ],
            [
             0.4,
             "#fde0ef"
            ],
            [
             0.5,
             "#f7f7f7"
            ],
            [
             0.6,
             "#e6f5d0"
            ],
            [
             0.7,
             "#b8e186"
            ],
            [
             0.8,
             "#7fbc41"
            ],
            [
             0.9,
             "#4d9221"
            ],
            [
             1,
             "#276419"
            ]
           ],
           "sequential": [
            [
             0,
             "#0d0887"
            ],
            [
             0.1111111111111111,
             "#46039f"
            ],
            [
             0.2222222222222222,
             "#7201a8"
            ],
            [
             0.3333333333333333,
             "#9c179e"
            ],
            [
             0.4444444444444444,
             "#bd3786"
            ],
            [
             0.5555555555555556,
             "#d8576b"
            ],
            [
             0.6666666666666666,
             "#ed7953"
            ],
            [
             0.7777777777777778,
             "#fb9f3a"
            ],
            [
             0.8888888888888888,
             "#fdca26"
            ],
            [
             1,
             "#f0f921"
            ]
           ],
           "sequentialminus": [
            [
             0,
             "#0d0887"
            ],
            [
             0.1111111111111111,
             "#46039f"
            ],
            [
             0.2222222222222222,
             "#7201a8"
            ],
            [
             0.3333333333333333,
             "#9c179e"
            ],
            [
             0.4444444444444444,
             "#bd3786"
            ],
            [
             0.5555555555555556,
             "#d8576b"
            ],
            [
             0.6666666666666666,
             "#ed7953"
            ],
            [
             0.7777777777777778,
             "#fb9f3a"
            ],
            [
             0.8888888888888888,
             "#fdca26"
            ],
            [
             1,
             "#f0f921"
            ]
           ]
          },
          "colorway": [
           "#636efa",
           "#EF553B",
           "#00cc96",
           "#ab63fa",
           "#FFA15A",
           "#19d3f3",
           "#FF6692",
           "#B6E880",
           "#FF97FF",
           "#FECB52"
          ],
          "font": {
           "color": "#2a3f5f"
          },
          "geo": {
           "bgcolor": "white",
           "lakecolor": "white",
           "landcolor": "#E5ECF6",
           "showlakes": true,
           "showland": true,
           "subunitcolor": "white"
          },
          "hoverlabel": {
           "align": "left"
          },
          "hovermode": "closest",
          "mapbox": {
           "style": "light"
          },
          "paper_bgcolor": "white",
          "plot_bgcolor": "#E5ECF6",
          "polar": {
           "angularaxis": {
            "gridcolor": "white",
            "linecolor": "white",
            "ticks": ""
           },
           "bgcolor": "#E5ECF6",
           "radialaxis": {
            "gridcolor": "white",
            "linecolor": "white",
            "ticks": ""
           }
          },
          "scene": {
           "xaxis": {
            "backgroundcolor": "#E5ECF6",
            "gridcolor": "white",
            "gridwidth": 2,
            "linecolor": "white",
            "showbackground": true,
            "ticks": "",
            "zerolinecolor": "white"
           },
           "yaxis": {
            "backgroundcolor": "#E5ECF6",
            "gridcolor": "white",
            "gridwidth": 2,
            "linecolor": "white",
            "showbackground": true,
            "ticks": "",
            "zerolinecolor": "white"
           },
           "zaxis": {
            "backgroundcolor": "#E5ECF6",
            "gridcolor": "white",
            "gridwidth": 2,
            "linecolor": "white",
            "showbackground": true,
            "ticks": "",
            "zerolinecolor": "white"
           }
          },
          "shapedefaults": {
           "line": {
            "color": "#2a3f5f"
           }
          },
          "ternary": {
           "aaxis": {
            "gridcolor": "white",
            "linecolor": "white",
            "ticks": ""
           },
           "baxis": {
            "gridcolor": "white",
            "linecolor": "white",
            "ticks": ""
           },
           "bgcolor": "#E5ECF6",
           "caxis": {
            "gridcolor": "white",
            "linecolor": "white",
            "ticks": ""
           }
          },
          "title": {
           "x": 0.05
          },
          "xaxis": {
           "automargin": true,
           "gridcolor": "white",
           "linecolor": "white",
           "ticks": "",
           "title": {
            "standoff": 15
           },
           "zerolinecolor": "white",
           "zerolinewidth": 2
          },
          "yaxis": {
           "automargin": true,
           "gridcolor": "white",
           "linecolor": "white",
           "ticks": "",
           "title": {
            "standoff": 15
           },
           "zerolinecolor": "white",
           "zerolinewidth": 2
          }
         }
        },
        "title": {
         "text": "Book 1: Air- Number Of Lines Spoken"
        },
        "xaxis": {
         "nticks": 180
        }
       }
      },
      "text/html": [
       "<div>\n",
       "        \n",
       "        \n",
       "            <div id=\"3be4e9c5-64ce-4acb-a643-4aba93366f5d\" class=\"plotly-graph-div\" style=\"height:525px; width:100%;\"></div>\n",
       "            <script type=\"text/javascript\">\n",
       "                require([\"plotly\"], function(Plotly) {\n",
       "                    window.PLOTLYENV=window.PLOTLYENV || {};\n",
       "                    \n",
       "                if (document.getElementById(\"3be4e9c5-64ce-4acb-a643-4aba93366f5d\")) {\n",
       "                    Plotly.newPlot(\n",
       "                        '3be4e9c5-64ce-4acb-a643-4aba93366f5d',\n",
       "                        [{\"colorscale\": [[0.0, \"#440154\"], [0.1111111111111111, \"#482878\"], [0.2222222222222222, \"#3e4989\"], [0.3333333333333333, \"#31688e\"], [0.4444444444444444, \"#26828e\"], [0.5555555555555556, \"#1f9e89\"], [0.6666666666666666, \"#35b779\"], [0.7777777777777778, \"#6ece58\"], [0.8888888888888888, \"#b5de2b\"], [1.0, \"#fde725\"]], \"type\": \"heatmap\", \"x\": [\"Welcome to Republic City\", \"A Leaf in the Wind\", \"The Revelation\", \"The Voice in the Night\", \"The Spirit of Competition\", \"And the Winner Is...\", \"The Aftermath\", \"When Extremes Meet\", \"Out of the Past\", \"Turning the Tides\", \"Skeletons in the Closet\", \"Endgame\"], \"y\": [\"Tenzin\", \"Toph\", \"Yakone\", \"Korra\"], \"z\": [[23, 37, 5, 23, 0, 25, 12, 15, 15, 37, 0, 8], [0, 0, 0, 0, 0, 0, 0, 0, 5, 0, 0, 0], [0, 0, 0, 0, 0, 0, 0, 0, 5, 0, 14, 0], [57, 66, 52, 40, 45, 27, 34, 49, 9, 16, 34, 25]]}],\n",
       "                        {\"template\": {\"data\": {\"bar\": [{\"error_x\": {\"color\": \"#2a3f5f\"}, \"error_y\": {\"color\": \"#2a3f5f\"}, \"marker\": {\"line\": {\"color\": \"#E5ECF6\", \"width\": 0.5}}, \"type\": \"bar\"}], \"barpolar\": [{\"marker\": {\"line\": {\"color\": \"#E5ECF6\", \"width\": 0.5}}, \"type\": \"barpolar\"}], \"carpet\": [{\"aaxis\": {\"endlinecolor\": \"#2a3f5f\", \"gridcolor\": \"white\", \"linecolor\": \"white\", \"minorgridcolor\": \"white\", \"startlinecolor\": \"#2a3f5f\"}, \"baxis\": {\"endlinecolor\": \"#2a3f5f\", \"gridcolor\": \"white\", \"linecolor\": \"white\", \"minorgridcolor\": \"white\", \"startlinecolor\": \"#2a3f5f\"}, \"type\": \"carpet\"}], \"choropleth\": [{\"colorbar\": {\"outlinewidth\": 0, \"ticks\": \"\"}, \"type\": \"choropleth\"}], \"contour\": [{\"colorbar\": {\"outlinewidth\": 0, \"ticks\": \"\"}, \"colorscale\": [[0.0, \"#0d0887\"], [0.1111111111111111, \"#46039f\"], [0.2222222222222222, \"#7201a8\"], [0.3333333333333333, \"#9c179e\"], [0.4444444444444444, \"#bd3786\"], [0.5555555555555556, \"#d8576b\"], [0.6666666666666666, \"#ed7953\"], [0.7777777777777778, \"#fb9f3a\"], [0.8888888888888888, \"#fdca26\"], [1.0, \"#f0f921\"]], \"type\": \"contour\"}], \"contourcarpet\": [{\"colorbar\": {\"outlinewidth\": 0, \"ticks\": \"\"}, \"type\": \"contourcarpet\"}], \"heatmap\": [{\"colorbar\": {\"outlinewidth\": 0, \"ticks\": \"\"}, \"colorscale\": [[0.0, \"#0d0887\"], [0.1111111111111111, \"#46039f\"], [0.2222222222222222, \"#7201a8\"], [0.3333333333333333, \"#9c179e\"], [0.4444444444444444, \"#bd3786\"], [0.5555555555555556, \"#d8576b\"], [0.6666666666666666, \"#ed7953\"], [0.7777777777777778, \"#fb9f3a\"], [0.8888888888888888, \"#fdca26\"], [1.0, \"#f0f921\"]], \"type\": \"heatmap\"}], \"heatmapgl\": [{\"colorbar\": {\"outlinewidth\": 0, \"ticks\": \"\"}, \"colorscale\": [[0.0, \"#0d0887\"], [0.1111111111111111, \"#46039f\"], [0.2222222222222222, \"#7201a8\"], [0.3333333333333333, \"#9c179e\"], [0.4444444444444444, \"#bd3786\"], [0.5555555555555556, \"#d8576b\"], [0.6666666666666666, \"#ed7953\"], [0.7777777777777778, \"#fb9f3a\"], [0.8888888888888888, \"#fdca26\"], [1.0, \"#f0f921\"]], \"type\": \"heatmapgl\"}], \"histogram\": [{\"marker\": {\"colorbar\": {\"outlinewidth\": 0, \"ticks\": \"\"}}, \"type\": \"histogram\"}], \"histogram2d\": [{\"colorbar\": {\"outlinewidth\": 0, \"ticks\": \"\"}, \"colorscale\": [[0.0, \"#0d0887\"], [0.1111111111111111, \"#46039f\"], [0.2222222222222222, \"#7201a8\"], [0.3333333333333333, \"#9c179e\"], [0.4444444444444444, \"#bd3786\"], [0.5555555555555556, \"#d8576b\"], [0.6666666666666666, \"#ed7953\"], [0.7777777777777778, \"#fb9f3a\"], [0.8888888888888888, \"#fdca26\"], [1.0, \"#f0f921\"]], \"type\": \"histogram2d\"}], \"histogram2dcontour\": [{\"colorbar\": {\"outlinewidth\": 0, \"ticks\": \"\"}, \"colorscale\": [[0.0, \"#0d0887\"], [0.1111111111111111, \"#46039f\"], [0.2222222222222222, \"#7201a8\"], [0.3333333333333333, \"#9c179e\"], [0.4444444444444444, \"#bd3786\"], [0.5555555555555556, \"#d8576b\"], [0.6666666666666666, \"#ed7953\"], [0.7777777777777778, \"#fb9f3a\"], [0.8888888888888888, \"#fdca26\"], [1.0, \"#f0f921\"]], \"type\": \"histogram2dcontour\"}], \"mesh3d\": [{\"colorbar\": {\"outlinewidth\": 0, \"ticks\": \"\"}, \"type\": \"mesh3d\"}], \"parcoords\": [{\"line\": {\"colorbar\": {\"outlinewidth\": 0, \"ticks\": \"\"}}, \"type\": \"parcoords\"}], \"pie\": [{\"automargin\": true, \"type\": \"pie\"}], \"scatter\": [{\"marker\": {\"colorbar\": {\"outlinewidth\": 0, \"ticks\": \"\"}}, \"type\": \"scatter\"}], \"scatter3d\": [{\"line\": {\"colorbar\": {\"outlinewidth\": 0, \"ticks\": \"\"}}, \"marker\": {\"colorbar\": {\"outlinewidth\": 0, \"ticks\": \"\"}}, \"type\": \"scatter3d\"}], \"scattercarpet\": [{\"marker\": {\"colorbar\": {\"outlinewidth\": 0, \"ticks\": \"\"}}, \"type\": \"scattercarpet\"}], \"scattergeo\": [{\"marker\": {\"colorbar\": {\"outlinewidth\": 0, \"ticks\": \"\"}}, \"type\": \"scattergeo\"}], \"scattergl\": [{\"marker\": {\"colorbar\": {\"outlinewidth\": 0, \"ticks\": \"\"}}, \"type\": \"scattergl\"}], \"scattermapbox\": [{\"marker\": {\"colorbar\": {\"outlinewidth\": 0, \"ticks\": \"\"}}, \"type\": \"scattermapbox\"}], \"scatterpolar\": [{\"marker\": {\"colorbar\": {\"outlinewidth\": 0, \"ticks\": \"\"}}, \"type\": \"scatterpolar\"}], \"scatterpolargl\": [{\"marker\": {\"colorbar\": {\"outlinewidth\": 0, \"ticks\": \"\"}}, \"type\": \"scatterpolargl\"}], \"scatterternary\": [{\"marker\": {\"colorbar\": {\"outlinewidth\": 0, \"ticks\": \"\"}}, \"type\": \"scatterternary\"}], \"surface\": [{\"colorbar\": {\"outlinewidth\": 0, \"ticks\": \"\"}, \"colorscale\": [[0.0, \"#0d0887\"], [0.1111111111111111, \"#46039f\"], [0.2222222222222222, \"#7201a8\"], [0.3333333333333333, \"#9c179e\"], [0.4444444444444444, \"#bd3786\"], [0.5555555555555556, \"#d8576b\"], [0.6666666666666666, \"#ed7953\"], [0.7777777777777778, \"#fb9f3a\"], [0.8888888888888888, \"#fdca26\"], [1.0, \"#f0f921\"]], \"type\": \"surface\"}], \"table\": [{\"cells\": {\"fill\": {\"color\": \"#EBF0F8\"}, \"line\": {\"color\": \"white\"}}, \"header\": {\"fill\": {\"color\": \"#C8D4E3\"}, \"line\": {\"color\": \"white\"}}, \"type\": \"table\"}]}, \"layout\": {\"annotationdefaults\": {\"arrowcolor\": \"#2a3f5f\", \"arrowhead\": 0, \"arrowwidth\": 1}, \"coloraxis\": {\"colorbar\": {\"outlinewidth\": 0, \"ticks\": \"\"}}, \"colorscale\": {\"diverging\": [[0, \"#8e0152\"], [0.1, \"#c51b7d\"], [0.2, \"#de77ae\"], [0.3, \"#f1b6da\"], [0.4, \"#fde0ef\"], [0.5, \"#f7f7f7\"], [0.6, \"#e6f5d0\"], [0.7, \"#b8e186\"], [0.8, \"#7fbc41\"], [0.9, \"#4d9221\"], [1, \"#276419\"]], \"sequential\": [[0.0, \"#0d0887\"], [0.1111111111111111, \"#46039f\"], [0.2222222222222222, \"#7201a8\"], [0.3333333333333333, \"#9c179e\"], [0.4444444444444444, \"#bd3786\"], [0.5555555555555556, \"#d8576b\"], [0.6666666666666666, \"#ed7953\"], [0.7777777777777778, \"#fb9f3a\"], [0.8888888888888888, \"#fdca26\"], [1.0, \"#f0f921\"]], \"sequentialminus\": [[0.0, \"#0d0887\"], [0.1111111111111111, \"#46039f\"], [0.2222222222222222, \"#7201a8\"], [0.3333333333333333, \"#9c179e\"], [0.4444444444444444, \"#bd3786\"], [0.5555555555555556, \"#d8576b\"], [0.6666666666666666, \"#ed7953\"], [0.7777777777777778, \"#fb9f3a\"], [0.8888888888888888, \"#fdca26\"], [1.0, \"#f0f921\"]]}, \"colorway\": [\"#636efa\", \"#EF553B\", \"#00cc96\", \"#ab63fa\", \"#FFA15A\", \"#19d3f3\", \"#FF6692\", \"#B6E880\", \"#FF97FF\", \"#FECB52\"], \"font\": {\"color\": \"#2a3f5f\"}, \"geo\": {\"bgcolor\": \"white\", \"lakecolor\": \"white\", \"landcolor\": \"#E5ECF6\", \"showlakes\": true, \"showland\": true, \"subunitcolor\": \"white\"}, \"hoverlabel\": {\"align\": \"left\"}, \"hovermode\": \"closest\", \"mapbox\": {\"style\": \"light\"}, \"paper_bgcolor\": \"white\", \"plot_bgcolor\": \"#E5ECF6\", \"polar\": {\"angularaxis\": {\"gridcolor\": \"white\", \"linecolor\": \"white\", \"ticks\": \"\"}, \"bgcolor\": \"#E5ECF6\", \"radialaxis\": {\"gridcolor\": \"white\", \"linecolor\": \"white\", \"ticks\": \"\"}}, \"scene\": {\"xaxis\": {\"backgroundcolor\": \"#E5ECF6\", \"gridcolor\": \"white\", \"gridwidth\": 2, \"linecolor\": \"white\", \"showbackground\": true, \"ticks\": \"\", \"zerolinecolor\": \"white\"}, \"yaxis\": {\"backgroundcolor\": \"#E5ECF6\", \"gridcolor\": \"white\", \"gridwidth\": 2, \"linecolor\": \"white\", \"showbackground\": true, \"ticks\": \"\", \"zerolinecolor\": \"white\"}, \"zaxis\": {\"backgroundcolor\": \"#E5ECF6\", \"gridcolor\": \"white\", \"gridwidth\": 2, \"linecolor\": \"white\", \"showbackground\": true, \"ticks\": \"\", \"zerolinecolor\": \"white\"}}, \"shapedefaults\": {\"line\": {\"color\": \"#2a3f5f\"}}, \"ternary\": {\"aaxis\": {\"gridcolor\": \"white\", \"linecolor\": \"white\", \"ticks\": \"\"}, \"baxis\": {\"gridcolor\": \"white\", \"linecolor\": \"white\", \"ticks\": \"\"}, \"bgcolor\": \"#E5ECF6\", \"caxis\": {\"gridcolor\": \"white\", \"linecolor\": \"white\", \"ticks\": \"\"}}, \"title\": {\"x\": 0.05}, \"xaxis\": {\"automargin\": true, \"gridcolor\": \"white\", \"linecolor\": \"white\", \"ticks\": \"\", \"title\": {\"standoff\": 15}, \"zerolinecolor\": \"white\", \"zerolinewidth\": 2}, \"yaxis\": {\"automargin\": true, \"gridcolor\": \"white\", \"linecolor\": \"white\", \"ticks\": \"\", \"title\": {\"standoff\": 15}, \"zerolinecolor\": \"white\", \"zerolinewidth\": 2}}}, \"title\": {\"text\": \"Book 1: Air- Number Of Lines Spoken\"}, \"xaxis\": {\"nticks\": 180}},\n",
       "                        {\"responsive\": true}\n",
       "                    ).then(function(){\n",
       "                            \n",
       "var gd = document.getElementById('3be4e9c5-64ce-4acb-a643-4aba93366f5d');\n",
       "var x = new MutationObserver(function (mutations, observer) {{\n",
       "        var display = window.getComputedStyle(gd).display;\n",
       "        if (!display || display === 'none') {{\n",
       "            console.log([gd, 'removed!']);\n",
       "            Plotly.purge(gd);\n",
       "            observer.disconnect();\n",
       "        }}\n",
       "}});\n",
       "\n",
       "// Listen for the removal of the full notebook cells\n",
       "var notebookContainer = gd.closest('#notebook-container');\n",
       "if (notebookContainer) {{\n",
       "    x.observe(notebookContainer, {childList: true});\n",
       "}}\n",
       "\n",
       "// Listen for the clearing of the current output cell\n",
       "var outputEl = gd.closest('.output');\n",
       "if (outputEl) {{\n",
       "    x.observe(outputEl, {childList: true});\n",
       "}}\n",
       "\n",
       "                        })\n",
       "                };\n",
       "                });\n",
       "            </script>\n",
       "        </div>"
      ]
     },
     "metadata": {},
     "output_type": "display_data"
    }
   ],
   "source": [
    "character_dialogue_heatmap_per_season(1, [\"Tenzin\", \"Toph\", \"Yakone\", \"Korra\"])"
   ]
  },
  {
   "cell_type": "code",
   "execution_count": null,
   "metadata": {},
   "outputs": [],
   "source": []
  },
  {
   "cell_type": "code",
   "execution_count": null,
   "metadata": {},
   "outputs": [],
   "source": []
  },
  {
   "cell_type": "code",
   "execution_count": 49,
   "metadata": {},
   "outputs": [],
   "source": [
    "def removeItalics(string):\n",
    "    start = 0\n",
    "    first = True\n",
    "    noItalics = \"\"\n",
    "    i = string.find('<i>(')\n",
    "    j = string.find(')</i>')\n",
    "    noItalics = string[0:i]\n",
    "    if (string.find('<i>(', j+5) == -1):\n",
    "        noItalics = noItalics + string[j+4:]\n",
    "    while(string.find('<i>(', j+5) != -1):\n",
    "        prev = j+5\n",
    "        i = string.find('<i>(', j+5)\n",
    "        noItalics = noItalics + \" \" + string[prev:i] \n",
    "        j = string.find(')</i>', i+4)\n",
    "        if ((string.find('<i>(', j+5) == -1) or (j == -1)):\n",
    "            noItalics = noItalics + string[j+5:]\n",
    "            break\n",
    "    return noItalics"
   ]
  },
  {
   "cell_type": "code",
   "execution_count": 50,
   "metadata": {},
   "outputs": [],
   "source": [
    "def separateCharacterAndQuote(line):\n",
    "    start = line.find('<b>')\n",
    "    end = line.find('</b>')\n",
    "    endQuote = line.find('\\\\r')\n",
    "    if (endQuote == -1):\n",
    "        endQuote = line.find('\\r')\n",
    "    character_name = line[start+3:end-1]\n",
    "    quote = line[end+4:endQuote]\n",
    "    #print(\"Character Name: \" + character_name)\n",
    "    quote = quote.replace(\"\\\\'\", \"'\")\n",
    "    quote = quote.replace(\"\\\\\\'\", \"'\")\n",
    "    quote = quote.replace(\"\\'\", \"'\")\n",
    "    quote = quote.replace(\"<i>\", \"\")\n",
    "    quote = quote.replace(\"</i>\" , \"\")\n",
    "    quote = quote.strip()\n",
    "    character_name = character_name.replace(\"\\\\'\", \"'\")\n",
    "    return character_name, quote\n",
    "    \n",
    "    "
   ]
  },
  {
   "cell_type": "code",
   "execution_count": 51,
   "metadata": {},
   "outputs": [
    {
     "name": "stdout",
     "output_type": "stream",
     "text": [
      "character name: Kya\n",
      "quote: There's no sign of her anywhere.\n"
     ]
    }
   ],
   "source": [
    "qwot = \"<b>Kya:</b> <i>There's no sign of her anywhere.</i>\\\\r\"\n",
    "character_name, quote = separateCharacterAndQuote(qwot)\n",
    "print(\"character name: \" + character_name)\n",
    "print(\"quote: \" + quote)"
   ]
  },
  {
   "cell_type": "code",
   "execution_count": 52,
   "metadata": {},
   "outputs": [
    {
     "data": {
      "text/plain": [
       "('Korra',\n",
       " \"Man, I got a good feeling about tonight. I don't care if we are the underdogs, we can take those pompous Wolfbats.\")"
      ]
     },
     "execution_count": 52,
     "metadata": {},
     "output_type": "execute_result"
    }
   ],
   "source": [
    "separateCharacterAndQuote(\"<b>Korra:</b> Man, I got a good feeling about tonight. I don\\'t care if we are the underdogs, we can take those pompous Wolfbats. \\r<br>\")"
   ]
  },
  {
   "cell_type": "code",
   "execution_count": 53,
   "metadata": {},
   "outputs": [
    {
     "data": {
      "text/plain": [
       "('Radio Host',\n",
       " \"...brought to you by Cabbage Corp. Republic City's trusted name in technology for over fifty years.\")"
      ]
     },
     "execution_count": 53,
     "metadata": {},
     "output_type": "execute_result"
    }
   ],
   "source": [
    "separateCharacterAndQuote(\"<b>Radio Host:</b> ...brought to you by Cabbage Corp. Republic City\\'s trusted name in technology for over fifty years.\\r<br>\\r<br> \\r<br>\\r<br>\")"
   ]
  },
  {
   "cell_type": "code",
   "execution_count": 54,
   "metadata": {},
   "outputs": [],
   "source": [
    "import time\n"
   ]
  },
  {
   "cell_type": "code",
   "execution_count": 87,
   "metadata": {},
   "outputs": [
    {
     "name": "stdout",
     "output_type": "stream",
     "text": [
      "http://korra.avatarspirit.net/transcripts.php?num=101\n",
      "http://korra.avatarspirit.net/transcripts.php?num=102\n",
      "http://korra.avatarspirit.net/transcripts.php?num=103\n",
      "http://korra.avatarspirit.net/transcripts.php?num=104\n",
      "http://korra.avatarspirit.net/transcripts.php?num=105\n",
      "http://korra.avatarspirit.net/transcripts.php?num=106\n",
      "http://korra.avatarspirit.net/transcripts.php?num=107\n",
      "http://korra.avatarspirit.net/transcripts.php?num=108\n",
      "http://korra.avatarspirit.net/transcripts.php?num=109\n",
      "http://korra.avatarspirit.net/transcripts.php?num=110\n",
      "http://korra.avatarspirit.net/transcripts.php?num=111\n",
      "http://korra.avatarspirit.net/transcripts.php?num=112\n",
      "http://korra.avatarspirit.net/transcripts.php?num=201\n",
      "http://korra.avatarspirit.net/transcripts.php?num=202\n",
      "http://korra.avatarspirit.net/transcripts.php?num=203\n",
      "http://korra.avatarspirit.net/transcripts.php?num=204\n",
      "http://korra.avatarspirit.net/transcripts.php?num=205\n",
      "http://korra.avatarspirit.net/transcripts.php?num=206\n",
      "http://korra.avatarspirit.net/transcripts.php?num=207\n",
      "http://korra.avatarspirit.net/transcripts.php?num=208\n",
      "http://korra.avatarspirit.net/transcripts.php?num=209\n",
      "http://korra.avatarspirit.net/transcripts.php?num=210\n",
      "http://korra.avatarspirit.net/transcripts.php?num=211\n",
      "http://korra.avatarspirit.net/transcripts.php?num=212\n",
      "http://korra.avatarspirit.net/transcripts.php?num=213\n",
      "http://korra.avatarspirit.net/transcripts.php?num=214\n",
      "http://korra.avatarspirit.net/transcripts.php?num=301\n",
      "http://korra.avatarspirit.net/transcripts.php?num=302\n",
      "http://korra.avatarspirit.net/transcripts.php?num=303\n",
      "http://korra.avatarspirit.net/transcripts.php?num=304\n",
      "http://korra.avatarspirit.net/transcripts.php?num=305\n",
      "http://korra.avatarspirit.net/transcripts.php?num=306\n",
      "http://korra.avatarspirit.net/transcripts.php?num=307\n",
      "http://korra.avatarspirit.net/transcripts.php?num=308\n",
      "http://korra.avatarspirit.net/transcripts.php?num=309\n",
      "http://korra.avatarspirit.net/transcripts.php?num=310\n",
      "http://korra.avatarspirit.net/transcripts.php?num=311\n",
      "http://korra.avatarspirit.net/transcripts.php?num=312\n",
      "http://korra.avatarspirit.net/transcripts.php?num=313\n",
      "http://korra.avatarspirit.net/transcripts.php?num=401\n",
      "http://korra.avatarspirit.net/transcripts.php?num=402\n",
      "http://korra.avatarspirit.net/transcripts.php?num=403\n",
      "http://korra.avatarspirit.net/transcripts.php?num=404\n",
      "http://korra.avatarspirit.net/transcripts.php?num=405\n",
      "http://korra.avatarspirit.net/transcripts.php?num=406\n",
      "http://korra.avatarspirit.net/transcripts.php?num=407\n",
      "http://korra.avatarspirit.net/transcripts.php?num=408\n",
      "http://korra.avatarspirit.net/transcripts.php?num=409\n",
      "http://korra.avatarspirit.net/transcripts.php?num=410\n",
      "http://korra.avatarspirit.net/transcripts.php?num=411\n",
      "http://korra.avatarspirit.net/transcripts.php?num=412\n",
      "http://korra.avatarspirit.net/transcripts.php?num=413\n",
      "This process took: 3.1780715780332685 seconds.\n"
     ]
    }
   ],
   "source": [
    "episode_quote_tracker = {}\n",
    "lines = []\n",
    "season_to_ep = {1: 12, 2: 14, 3: 13, 4: 13}\n",
    "episode_num = 1\n",
    "start_time = time.perf_counter()\n",
    "#1. character\n",
    "#2. quote \n",
    "#3. bending type\n",
    "#4. gender\n",
    "for season in range(1,5):\n",
    "    numEps = season_to_ep[season]\n",
    "    for episode in range(1, numEps+1):\n",
    "        episode_quote_list = []\n",
    "        epString = 'http://korra.avatarspirit.net/transcripts.php?num='\n",
    "        epString = epString + str(season)\n",
    "        val = str(episode)\n",
    "        if (episode < 10):\n",
    "            val = \"0\" + val\n",
    "        epString = epString + val\n",
    "        resp = http.request('GET', epString)\n",
    "        no_italics = removeItalics(str(resp.data))\n",
    "        length = len(no_italics)\n",
    "        i = no_italics.find('Act I')\n",
    "        bold = no_italics.find('<b>', i+4)\n",
    "        print(epString)\n",
    "        while (bold != -1):\n",
    "            store = bold\n",
    "            bold = no_italics.find('<b>', bold+3)\n",
    "            line = no_italics[store:bold]\n",
    "            character, quote = separateCharacterAndQuote(line)\n",
    "            gender = getGender(catchAlias(character))\n",
    "            element = typeOfBender(catchAlias(character))\n",
    "            rating = seasons_dict_list[season-1][episode][1]\n",
    "            episode_quote_list.append([character, quote, gender, element, rating])\n",
    "        episode_quote_tracker[episode_num] = episode_quote_list\n",
    "        episode_num += 1\n",
    "end_time = time.perf_counter()\n",
    "print(\"This process took: \" + str((end_time - start_time)) + \" seconds.\")"
   ]
  },
  {
   "cell_type": "code",
   "execution_count": 88,
   "metadata": {},
   "outputs": [
    {
     "name": "stdout",
     "output_type": "stream",
     "text": [
      "8.4\n",
      "8.4\n",
      "8.5\n",
      "8.3\n",
      "8.0\n",
      "8.9\n",
      "8.5\n",
      "8.7\n",
      "8.9\n",
      "8.9\n",
      "8.9\n",
      "9.3\n",
      "8.0\n",
      "7.9\n",
      "7.8\n",
      "8.1\n",
      "7.8\n",
      "7.8\n",
      "9.3\n",
      "9.6\n",
      "8.2\n",
      "8.7\n",
      "8.4\n",
      "8.5\n",
      "8.7\n",
      "8.4\n",
      "8.6\n",
      "8.7\n",
      "8.4\n",
      "8.6\n",
      "8.6\n",
      "8.6\n",
      "8.3\n",
      "8.9\n",
      "8.8\n",
      "9.0\n",
      "9.3\n",
      "9.4\n",
      "9.6\n",
      "8.7\n",
      "9.3\n",
      "8.5\n",
      "8.7\n",
      "8.6\n",
      "8.6\n",
      "8.3\n",
      "6.0\n",
      "8.6\n",
      "9.0\n",
      "8.7\n",
      "9.2\n",
      "9.0\n"
     ]
    }
   ],
   "source": [
    "for episode in range(1, 13):\n",
    "    print(seasons_dict_list[0][episode][1])\n",
    "for episode in range(1, 15):\n",
    "    print(seasons_dict_list[1][episode][1])\n",
    "for episode in range(1, 14):\n",
    "    print(seasons_dict_list[2][episode][1])\n",
    "for episode in range(1, 14):\n",
    "    print(seasons_dict_list[3][episode][1])"
   ]
  },
  {
   "cell_type": "code",
   "execution_count": 89,
   "metadata": {},
   "outputs": [],
   "source": [
    "#What Visualizations Do We Want to Accomplish?\n",
    "\n",
    "#What are the 10 most spoken by each character (n-gram) 1 <= n <= 3\n",
    "#Percent of Lines spoken by each type of character per episode (heat map)\n",
    "#How many lines does each character have per episode?\n",
    "#Look up by phrase/line, see what characters speak that phrase the most?\n",
    "\n",
    "#Viewership per episode (if obtainable)\n",
    "#IMDB Rating per episode (over time for each season)\n",
    "\n",
    "#Possible AI Things?\n",
    "#Make a \n",
    "\n",
    "\n"
   ]
  },
  {
   "cell_type": "code",
   "execution_count": 90,
   "metadata": {},
   "outputs": [],
   "source": [
    "def removePunctuation(line):\n",
    "    punctuation = [\".\", \",\", \"...\", \"!\", \"?\"]\n",
    "    for p in punctuation:\n",
    "        line = line.replace(p, \"\")\n",
    "    return line\n"
   ]
  },
  {
   "cell_type": "code",
   "execution_count": 91,
   "metadata": {},
   "outputs": [],
   "source": [
    "#What are the 10 most and least common words spoken by each character\n",
    "def getTopTenMostSpokenWords(characterName, filterUnwanted=True):\n",
    "    word_count = Counter()\n",
    "    exclude_words = [\"i\", \"you're\", \"he'll\", \"i'll\", \"we'll\", \"it's\", \"we\", \"who\", \"what\", \"where\", \"when\", \"why\", \"how\", \"yes\", \"no\", \"on\",\n",
    "    \"i'm\", \"not\", \"you\", \"me\", \"they\", \n",
    "    \"he\", \"she\", \"it\", \"my\", \"this\", \"that\", \"of\", \"at\",\n",
    "    \"the\", \"is\", \"(\", \")\", \"in\", \"be\", \"to\", \n",
    "    \"your\", \"has\", \"have\", \"under\", \"above\", \n",
    "    \"below\", \"a\", \"so\",\"and\", \"but\", \"for\", \"nor\", \"yet\", \"or\"]\n",
    "    banWords = exclude_words if filterUnwanted else []\n",
    "    for episode in range(1, len(episode_quote_tracker)+1):\n",
    "        script = episode_quote_tracker[episode]\n",
    "        for line in script:\n",
    "            character = line[0] \n",
    "            character = catchAlias(character)\n",
    "            if (characterName == character):\n",
    "                quote = line[1]\n",
    "                noPunctuation = removePunctuation(quote)\n",
    "                listOfWords = noPunctuation.split(\" \")\n",
    "                for word in listOfWords:\n",
    "                    if (word.lower() not in banWords and len(word) > 0):\n",
    "                        word_count[word.lower()] += 1            \n",
    "    mcw = word_count.most_common(10)\n",
    "    x_list = []\n",
    "    y_list = []\n",
    "    for i in range(0, len(mcw)):\n",
    "        x_list.append(mcw[i][0])\n",
    "        y_list.append(mcw[i][1])\n",
    "    matplt.bar(x_list, y_list)\n",
    "    matplt.xticks(rotation=90)\n",
    "    xLabel = characterName + \"'s Most Common Words\"\n",
    "    appendix = \"(no stop words)\" if filterUnwanted else \"\";\n",
    "    xLabelFinal = xLabel + appendix\n",
    "    matplt.xlabel(xLabelFinal)\n",
    "    matplt.ylabel(\"Frequency\")\n",
    "    matplt.show()\n",
    "    "
   ]
  },
  {
   "cell_type": "code",
   "execution_count": 92,
   "metadata": {},
   "outputs": [
    {
     "data": {
      "image/png": "[encoded data removed]",
      "text/plain": [
       "<Figure size 432x288 with 1 Axes>"
      ]
     },
     "metadata": {
      "needs_background": "light"
     },
     "output_type": "display_data"
    }
   ],
   "source": [
    "getTopTenMostSpokenWords(\"P'Li\", True)"
   ]
  },
  {
   "cell_type": "code",
   "execution_count": 93,
   "metadata": {},
   "outputs": [],
   "source": [
    "from collections import defaultdict"
   ]
  },
  {
   "cell_type": "code",
   "execution_count": 94,
   "metadata": {},
   "outputs": [],
   "source": [
    "def getTopTenMostSpokenTwoGram(characterName):\n",
    "    word_count = Counter()\n",
    "    for episode in range(1, len(episode_quote_tracker)+1):\n",
    "        script = episode_quote_tracker[episode]\n",
    "        for line in script:\n",
    "            character = line[0] \n",
    "            character = catchAlias(character)\n",
    "            if (characterName == character):\n",
    "                quote = line[1]\n",
    "                noPunctuation = removePunctuation(quote)\n",
    "                listOfWords = noPunctuation.split(\" \")\n",
    "                if (\" \" in listOfWords):\n",
    "                    listOfWords.remove(\" \")\n",
    "                if (\"\" in listOfWords):\n",
    "                    listOfWords.remove(\"\")\n",
    "                if (\"(\" in listOfWords):   \n",
    "                    listOfWords.remove(\"(\")\n",
    "                if (\")\" in listOfWords):\n",
    "                    listOfWords.remove(\")\")\n",
    "                for i in range(0, len(listOfWords)-1):\n",
    "                    prev = listOfWords[i].lower()\n",
    "                    curr = listOfWords[i+1].lower()\n",
    "                    two_gram = prev + \" \" + curr\n",
    "                    if (len(prev) > 0 and len(curr) > 0):\n",
    "                        word_count[two_gram] += 1\n",
    "    mostCommonWords = word_count.most_common(10)\n",
    "    x_list = []\n",
    "    y_list = []\n",
    "    for i in range(0, len(mostCommonWords)):\n",
    "        x_list.append(mostCommonWords[i][0])\n",
    "        y_list.append(mostCommonWords[i][1])\n",
    "    matplt.bar(x_list, \n",
    "               y_list)\n",
    "    matplt.xticks(rotation=90)\n",
    "    matplt.xlabel(\"Most Common Two-Gram Phrases Spoken By \" + characterName)\n",
    "    matplt.ylabel(\"Frequency\")\n",
    "    matplt.show()"
   ]
  },
  {
   "cell_type": "code",
   "execution_count": 95,
   "metadata": {},
   "outputs": [],
   "source": [
    "def get_top_ten_most_spoken_three_gram(characterName):\n",
    "    word_count = Counter()\n",
    "    for episode in range(1, len(episode_quote_tracker)+1):\n",
    "        script = episode_quote_tracker[episode]\n",
    "        for line in script:\n",
    "            character = line[0] \n",
    "            character = catchAlias(character)\n",
    "            if (characterName == character):\n",
    "                quote = line[1]\n",
    "                noPunctuation = removePunctuation(quote)\n",
    "                listOfWords = noPunctuation.split(\" \")\n",
    "                if (\" \" in listOfWords):\n",
    "                    listOfWords.remove(\" \")\n",
    "                if (\"\" in listOfWords):\n",
    "                    listOfWords.remove(\"\")\n",
    "                if (\"(\" in listOfWords):   \n",
    "                    listOfWords.remove(\"(\")\n",
    "                if (\")\" in listOfWords):\n",
    "                    listOfWords.remove(\")\")\n",
    "                for i in range(0, len(listOfWords)-2):\n",
    "                    prev = listOfWords[i].lower()\n",
    "                    curr = listOfWords[i+1].lower()\n",
    "                    nxt = listOfWords[i+2].lower()\n",
    "                    three_gram = prev + \" \" + curr + \" \" + nxt\n",
    "                    if (len(prev) > 0 and len(curr) > 0):\n",
    "                        word_count[three_gram] += 1\n",
    "    mostCommonWords = word_count.most_common(10)\n",
    "    x_list = []\n",
    "    y_list = []\n",
    "    for i in range(0, len(mostCommonWords)):\n",
    "        x_list.append(mostCommonWords[i][0])\n",
    "        y_list.append(mostCommonWords[i][1])\n",
    "    matplt.bar(x_list, \n",
    "               y_list)\n",
    "    matplt.xticks(rotation=90)\n",
    "    matplt.xlabel(\"Most Common Three-Gram Phrases Spoken By \" + characterName)\n",
    "    matplt.ylabel(\"Frequency\")\n",
    "    matplt.show()"
   ]
  },
  {
   "cell_type": "code",
   "execution_count": 96,
   "metadata": {},
   "outputs": [
    {
     "data": {
      "image/png": "[encoded data removed]",
      "text/plain": [
       "<Figure size 432x288 with 1 Axes>"
      ]
     },
     "metadata": {
      "needs_background": "light"
     },
     "output_type": "display_data"
    }
   ],
   "source": [
    "getTopTenMostSpokenWords(\"Varrick\")"
   ]
  },
  {
   "cell_type": "code",
   "execution_count": 97,
   "metadata": {},
   "outputs": [
    {
     "data": {
      "image/png": "[encoded data removed]",
      "text/plain": [
       "<Figure size 432x288 with 1 Axes>"
      ]
     },
     "metadata": {
      "needs_background": "light"
     },
     "output_type": "display_data"
    }
   ],
   "source": [
    "getTopTenMostSpokenTwoGram(\"Varrick\")"
   ]
  },
  {
   "cell_type": "code",
   "execution_count": 98,
   "metadata": {},
   "outputs": [
    {
     "data": {
      "image/png": "[encoded data removed]",
      "text/plain": [
       "<Figure size 432x288 with 1 Axes>"
      ]
     },
     "metadata": {
      "needs_background": "light"
     },
     "output_type": "display_data"
    }
   ],
   "source": [
    "get_top_ten_most_spoken_three_gram(\"Varrick\")"
   ]
  },
  {
   "cell_type": "code",
   "execution_count": null,
   "metadata": {},
   "outputs": [],
   "source": []
  },
  {
   "cell_type": "code",
   "execution_count": 147,
   "metadata": {},
   "outputs": [],
   "source": [
    "#How often is a phrase spoken in each episode?\n",
    "def frequencyOfWordsByEpisode(phrase):\n",
    "    frequency_counter = Counter()\n",
    "    for episode in range(1, len(episode_quote_tracker)+1):\n",
    "        script = episode_quote_tracker[episode]\n",
    "        for line in script:\n",
    "            quote = line[1]\n",
    "            noPunctuation = removePunctuation(quote)\n",
    "            listOfWords = noPunctuation.split(\" \")\n",
    "            for word in listOfWords:\n",
    "                 if (word.lower() == phrase.lower()):\n",
    "                    frequency_counter[episode] += 1\n",
    "    x_list = []\n",
    "    y_list = []\n",
    "    for i in range(52):\n",
    "        x_list.append(i)\n",
    "        y_list.append(frequency_counter[i])\n",
    "    pyplot.plot(x_list, y_list)\n",
    "    pyplot.xlabel(\"Episode #\")\n",
    "    y_label = \"Number Of Times \" + \"'\" + phrase + \"'\" + \" Is Spoken:\"\n",
    "    pyplot.ylabel(y_label)\n",
    "    pyplot.show()\n",
    "    #return frequency_counter"
   ]
  },
  {
   "cell_type": "code",
   "execution_count": 150,
   "metadata": {},
   "outputs": [
    {
     "data": {
      "image/png": "[encoded data removed]",
      "text/plain": [
       "<Figure size 432x288 with 1 Axes>"
      ]
     },
     "metadata": {
      "needs_background": "light"
     },
     "output_type": "display_data"
    }
   ],
   "source": [
    "frequencyOfWordsByEpisode(\"Airbending\")"
   ]
  },
  {
   "cell_type": "code",
   "execution_count": 101,
   "metadata": {},
   "outputs": [
    {
     "name": "stdout",
     "output_type": "stream",
     "text": [
      "I'm not oppressing anyone You're you're oppressing yourself\n"
     ]
    }
   ],
   "source": [
    "# Test Punctuation\n",
    "newLine = removePunctuation(\"I'm not oppressing anyone! You're... you're oppressing yourself.\")\n",
    "print(newLine)"
   ]
  },
  {
   "cell_type": "code",
   "execution_count": 102,
   "metadata": {},
   "outputs": [
    {
     "data": {
      "image/png": "[encoded data removed]",
      "text/plain": [
       "<Figure size 432x288 with 1 Axes>"
      ]
     },
     "metadata": {
      "needs_background": "light"
     },
     "output_type": "display_data"
    }
   ],
   "source": [
    "getTopTenMostSpokenWords(\"Zaheer\", True)"
   ]
  },
  {
   "cell_type": "code",
   "execution_count": 103,
   "metadata": {},
   "outputs": [],
   "source": [
    "def obtain_episode_quote_info(s, e):\n",
    "    ep_num = get_episode_num(s, e)\n",
    "    return episode_quote_tracker[ep_num]"
   ]
  },
  {
   "cell_type": "code",
   "execution_count": 104,
   "metadata": {},
   "outputs": [],
   "source": [
    "#W = Water, E = Earth, F = Fire, Ai = Air, Av = Avatar, N = Nonbender/Unknown, S = Spirit\n",
    "#Male, Female, Indeterminate Gender\n",
    "def gender_and_element_map(g, e):\n",
    "    elemental_map = {\"W\": 0, \"E\": 1, \"F\": 2, \"Ai\": 3, \"Av\": 4, \n",
    "                  \"N\": 5, \"S\": 6}\n",
    "    gender_map = {\"Male\": 0, \"Female\": 1, \"Indeterminate Gender\": 2}\n",
    "    return [gender_map[g], elemental_map[e]]\n",
    "            \n",
    "            "
   ]
  },
  {
   "cell_type": "code",
   "execution_count": 111,
   "metadata": {},
   "outputs": [],
   "source": [
    "def heat_map_of_benders_by_episode(s, e, show_indeterminate=False):\n",
    "    ep_name = obtain_episode_name(s, e)\n",
    "    quote_data = obtain_episode_quote_info(s, e)\n",
    "    x_labels = [\"Waterbenders\", \"Earthbenders\", \"Firebenders\", \"Airbenders\", \"Avatar\", \"Non-Bender\", \"Spirit\"]\n",
    "    y_labels = [\"Male\", \"Female\", \"Indeterminate\"] if show_indeterminate else [\"Male\", \"Female\"]\n",
    "    z_values = [[0, 0, 0, 0, 0, 0, 0], [0, 0, 0, 0, 0, 0, 0], [0, 0, 0, 0, 0, 0, 0]] if show_indeterminate else [[0, 0, 0, 0, 0, 0, 0], [0, 0, 0, 0, 0, 0, 0]]\n",
    "    for q in quote_data:\n",
    "        [g_index, e_index] = gender_and_element_map(q[2], q[3])\n",
    "        z_values[g_index][e_index] = z_values[g_index][e_index] + 1\n",
    "    fig2 = go.Figure(data=go.Heatmap(\n",
    "                   z=z_values,\n",
    "                   x=x_labels,\n",
    "                   y=y_labels,\n",
    "                   hoverongaps = False))\n",
    "    fig2.update_layout(\n",
    "        title=\"Lines Spoken by Demographic for Book \" + str(s) + \" Episode \" + str(e) + \": \" + ep_name)\n",
    "    fig2.show()\n",
    "    \n",
    "        \n",
    "    \n",
    "    \n",
    "    "
   ]
  },
  {
   "cell_type": "code",
   "execution_count": 137,
   "metadata": {},
   "outputs": [
    {
     "data": {
      "application/vnd.plotly.v1+json": {
       "config": {
        "plotlyServerURL": "https://plot.ly"
       },
       "data": [
        {
         "hoverongaps": false,
         "type": "heatmap",
         "x": [
          "Waterbenders",
          "Earthbenders",
          "Firebenders",
          "Airbenders",
          "Avatar",
          "Non-Bender",
          "Spirit"
         ],
         "y": [
          "Male",
          "Female"
         ],
         "z": [
          [
           23,
           17,
           15,
           25,
           0,
           23,
           0
          ],
          [
           0,
           19,
           0,
           0,
           27,
           0,
           0
          ]
         ]
        }
       ],
       "layout": {
        "template": {
         "data": {
          "bar": [
           {
            "error_x": {
             "color": "#2a3f5f"
            },
            "error_y": {
             "color": "#2a3f5f"
            },
            "marker": {
             "line": {
              "color": "#E5ECF6",
              "width": 0.5
             }
            },
            "type": "bar"
           }
          ],
          "barpolar": [
           {
            "marker": {
             "line": {
              "color": "#E5ECF6",
              "width": 0.5
             }
            },
            "type": "barpolar"
           }
          ],
          "carpet": [
           {
            "aaxis": {
             "endlinecolor": "#2a3f5f",
             "gridcolor": "white",
             "linecolor": "white",
             "minorgridcolor": "white",
             "startlinecolor": "#2a3f5f"
            },
            "baxis": {
             "endlinecolor": "#2a3f5f",
             "gridcolor": "white",
             "linecolor": "white",
             "minorgridcolor": "white",
             "startlinecolor": "#2a3f5f"
            },
            "type": "carpet"
           }
          ],
          "choropleth": [
           {
            "colorbar": {
             "outlinewidth": 0,
             "ticks": ""
            },
            "type": "choropleth"
           }
          ],
          "contour": [
           {
            "colorbar": {
             "outlinewidth": 0,
             "ticks": ""
            },
            "colorscale": [
             [
              0,
              "#0d0887"
             ],
             [
              0.1111111111111111,
              "#46039f"
             ],
             [
              0.2222222222222222,
              "#7201a8"
             ],
             [
              0.3333333333333333,
              "#9c179e"
             ],
             [
              0.4444444444444444,
              "#bd3786"
             ],
             [
              0.5555555555555556,
              "#d8576b"
             ],
             [
              0.6666666666666666,
              "#ed7953"
             ],
             [
              0.7777777777777778,
              "#fb9f3a"
             ],
             [
              0.8888888888888888,
              "#fdca26"
             ],
             [
              1,
              "#f0f921"
             ]
            ],
            "type": "contour"
           }
          ],
          "contourcarpet": [
           {
            "colorbar": {
             "outlinewidth": 0,
             "ticks": ""
            },
            "type": "contourcarpet"
           }
          ],
          "heatmap": [
           {
            "colorbar": {
             "outlinewidth": 0,
             "ticks": ""
            },
            "colorscale": [
             [
              0,
              "#0d0887"
             ],
             [
              0.1111111111111111,
              "#46039f"
             ],
             [
              0.2222222222222222,
              "#7201a8"
             ],
             [
              0.3333333333333333,
              "#9c179e"
             ],
             [
              0.4444444444444444,
              "#bd3786"
             ],
             [
              0.5555555555555556,
              "#d8576b"
             ],
             [
              0.6666666666666666,
              "#ed7953"
             ],
             [
              0.7777777777777778,
              "#fb9f3a"
             ],
             [
              0.8888888888888888,
              "#fdca26"
             ],
             [
              1,
              "#f0f921"
             ]
            ],
            "type": "heatmap"
           }
          ],
          "heatmapgl": [
           {
            "colorbar": {
             "outlinewidth": 0,
             "ticks": ""
            },
            "colorscale": [
             [
              0,
              "#0d0887"
             ],
             [
              0.1111111111111111,
              "#46039f"
             ],
             [
              0.2222222222222222,
              "#7201a8"
             ],
             [
              0.3333333333333333,
              "#9c179e"
             ],
             [
              0.4444444444444444,
              "#bd3786"
             ],
             [
              0.5555555555555556,
              "#d8576b"
             ],
             [
              0.6666666666666666,
              "#ed7953"
             ],
             [
              0.7777777777777778,
              "#fb9f3a"
             ],
             [
              0.8888888888888888,
              "#fdca26"
             ],
             [
              1,
              "#f0f921"
             ]
            ],
            "type": "heatmapgl"
           }
          ],
          "histogram": [
           {
            "marker": {
             "colorbar": {
              "outlinewidth": 0,
              "ticks": ""
             }
            },
            "type": "histogram"
           }
          ],
          "histogram2d": [
           {
            "colorbar": {
             "outlinewidth": 0,
             "ticks": ""
            },
            "colorscale": [
             [
              0,
              "#0d0887"
             ],
             [
              0.1111111111111111,
              "#46039f"
             ],
             [
              0.2222222222222222,
              "#7201a8"
             ],
             [
              0.3333333333333333,
              "#9c179e"
             ],
             [
              0.4444444444444444,
              "#bd3786"
             ],
             [
              0.5555555555555556,
              "#d8576b"
             ],
             [
              0.6666666666666666,
              "#ed7953"
             ],
             [
              0.7777777777777778,
              "#fb9f3a"
             ],
             [
              0.8888888888888888,
              "#fdca26"
             ],
             [
              1,
              "#f0f921"
             ]
            ],
            "type": "histogram2d"
           }
          ],
          "histogram2dcontour": [
           {
            "colorbar": {
             "outlinewidth": 0,
             "ticks": ""
            },
            "colorscale": [
             [
              0,
              "#0d0887"
             ],
             [
              0.1111111111111111,
              "#46039f"
             ],
             [
              0.2222222222222222,
              "#7201a8"
             ],
             [
              0.3333333333333333,
              "#9c179e"
             ],
             [
              0.4444444444444444,
              "#bd3786"
             ],
             [
              0.5555555555555556,
              "#d8576b"
             ],
             [
              0.6666666666666666,
              "#ed7953"
             ],
             [
              0.7777777777777778,
              "#fb9f3a"
             ],
             [
              0.8888888888888888,
              "#fdca26"
             ],
             [
              1,
              "#f0f921"
             ]
            ],
            "type": "histogram2dcontour"
           }
          ],
          "mesh3d": [
           {
            "colorbar": {
             "outlinewidth": 0,
             "ticks": ""
            },
            "type": "mesh3d"
           }
          ],
          "parcoords": [
           {
            "line": {
             "colorbar": {
              "outlinewidth": 0,
              "ticks": ""
             }
            },
            "type": "parcoords"
           }
          ],
          "pie": [
           {
            "automargin": true,
            "type": "pie"
           }
          ],
          "scatter": [
           {
            "marker": {
             "colorbar": {
              "outlinewidth": 0,
              "ticks": ""
             }
            },
            "type": "scatter"
           }
          ],
          "scatter3d": [
           {
            "line": {
             "colorbar": {
              "outlinewidth": 0,
              "ticks": ""
             }
            },
            "marker": {
             "colorbar": {
              "outlinewidth": 0,
              "ticks": ""
             }
            },
            "type": "scatter3d"
           }
          ],
          "scattercarpet": [
           {
            "marker": {
             "colorbar": {
              "outlinewidth": 0,
              "ticks": ""
             }
            },
            "type": "scattercarpet"
           }
          ],
          "scattergeo": [
           {
            "marker": {
             "colorbar": {
              "outlinewidth": 0,
              "ticks": ""
             }
            },
            "type": "scattergeo"
           }
          ],
          "scattergl": [
           {
            "marker": {
             "colorbar": {
              "outlinewidth": 0,
              "ticks": ""
             }
            },
            "type": "scattergl"
           }
          ],
          "scattermapbox": [
           {
            "marker": {
             "colorbar": {
              "outlinewidth": 0,
              "ticks": ""
             }
            },
            "type": "scattermapbox"
           }
          ],
          "scatterpolar": [
           {
            "marker": {
             "colorbar": {
              "outlinewidth": 0,
              "ticks": ""
             }
            },
            "type": "scatterpolar"
           }
          ],
          "scatterpolargl": [
           {
            "marker": {
             "colorbar": {
              "outlinewidth": 0,
              "ticks": ""
             }
            },
            "type": "scatterpolargl"
           }
          ],
          "scatterternary": [
           {
            "marker": {
             "colorbar": {
              "outlinewidth": 0,
              "ticks": ""
             }
            },
            "type": "scatterternary"
           }
          ],
          "surface": [
           {
            "colorbar": {
             "outlinewidth": 0,
             "ticks": ""
            },
            "colorscale": [
             [
              0,
              "#0d0887"
             ],
             [
              0.1111111111111111,
              "#46039f"
             ],
             [
              0.2222222222222222,
              "#7201a8"
             ],
             [
              0.3333333333333333,
              "#9c179e"
             ],
             [
              0.4444444444444444,
              "#bd3786"
             ],
             [
              0.5555555555555556,
              "#d8576b"
             ],
             [
              0.6666666666666666,
              "#ed7953"
             ],
             [
              0.7777777777777778,
              "#fb9f3a"
             ],
             [
              0.8888888888888888,
              "#fdca26"
             ],
             [
              1,
              "#f0f921"
             ]
            ],
            "type": "surface"
           }
          ],
          "table": [
           {
            "cells": {
             "fill": {
              "color": "#EBF0F8"
             },
             "line": {
              "color": "white"
             }
            },
            "header": {
             "fill": {
              "color": "#C8D4E3"
             },
             "line": {
              "color": "white"
             }
            },
            "type": "table"
           }
          ]
         },
         "layout": {
          "annotationdefaults": {
           "arrowcolor": "#2a3f5f",
           "arrowhead": 0,
           "arrowwidth": 1
          },
          "coloraxis": {
           "colorbar": {
            "outlinewidth": 0,
            "ticks": ""
           }
          },
          "colorscale": {
           "diverging": [
            [
             0,
             "#8e0152"
            ],
            [
             0.1,
             "#c51b7d"
            ],
            [
             0.2,
             "#de77ae"
            ],
            [
             0.3,
             "#f1b6da"
            ],
            [
             0.4,
             "#fde0ef"
            ],
            [
             0.5,
             "#f7f7f7"
            ],
            [
             0.6,
             "#e6f5d0"
            ],
            [
             0.7,
             "#b8e186"
            ],
            [
             0.8,
             "#7fbc41"
            ],
            [
             0.9,
             "#4d9221"
            ],
            [
             1,
             "#276419"
            ]
           ],
           "sequential": [
            [
             0,
             "#0d0887"
            ],
            [
             0.1111111111111111,
             "#46039f"
            ],
            [
             0.2222222222222222,
             "#7201a8"
            ],
            [
             0.3333333333333333,
             "#9c179e"
            ],
            [
             0.4444444444444444,
             "#bd3786"
            ],
            [
             0.5555555555555556,
             "#d8576b"
            ],
            [
             0.6666666666666666,
             "#ed7953"
            ],
            [
             0.7777777777777778,
             "#fb9f3a"
            ],
            [
             0.8888888888888888,
             "#fdca26"
            ],
            [
             1,
             "#f0f921"
            ]
           ],
           "sequentialminus": [
            [
             0,
             "#0d0887"
            ],
            [
             0.1111111111111111,
             "#46039f"
            ],
            [
             0.2222222222222222,
             "#7201a8"
            ],
            [
             0.3333333333333333,
             "#9c179e"
            ],
            [
             0.4444444444444444,
             "#bd3786"
            ],
            [
             0.5555555555555556,
             "#d8576b"
            ],
            [
             0.6666666666666666,
             "#ed7953"
            ],
            [
             0.7777777777777778,
             "#fb9f3a"
            ],
            [
             0.8888888888888888,
             "#fdca26"
            ],
            [
             1,
             "#f0f921"
            ]
           ]
          },
          "colorway": [
           "#636efa",
           "#EF553B",
           "#00cc96",
           "#ab63fa",
           "#FFA15A",
           "#19d3f3",
           "#FF6692",
           "#B6E880",
           "#FF97FF",
           "#FECB52"
          ],
          "font": {
           "color": "#2a3f5f"
          },
          "geo": {
           "bgcolor": "white",
           "lakecolor": "white",
           "landcolor": "#E5ECF6",
           "showlakes": true,
           "showland": true,
           "subunitcolor": "white"
          },
          "hoverlabel": {
           "align": "left"
          },
          "hovermode": "closest",
          "mapbox": {
           "style": "light"
          },
          "paper_bgcolor": "white",
          "plot_bgcolor": "#E5ECF6",
          "polar": {
           "angularaxis": {
            "gridcolor": "white",
            "linecolor": "white",
            "ticks": ""
           },
           "bgcolor": "#E5ECF6",
           "radialaxis": {
            "gridcolor": "white",
            "linecolor": "white",
            "ticks": ""
           }
          },
          "scene": {
           "xaxis": {
            "backgroundcolor": "#E5ECF6",
            "gridcolor": "white",
            "gridwidth": 2,
            "linecolor": "white",
            "showbackground": true,
            "ticks": "",
            "zerolinecolor": "white"
           },
           "yaxis": {
            "backgroundcolor": "#E5ECF6",
            "gridcolor": "white",
            "gridwidth": 2,
            "linecolor": "white",
            "showbackground": true,
            "ticks": "",
            "zerolinecolor": "white"
           },
           "zaxis": {
            "backgroundcolor": "#E5ECF6",
            "gridcolor": "white",
            "gridwidth": 2,
            "linecolor": "white",
            "showbackground": true,
            "ticks": "",
            "zerolinecolor": "white"
           }
          },
          "shapedefaults": {
           "line": {
            "color": "#2a3f5f"
           }
          },
          "ternary": {
           "aaxis": {
            "gridcolor": "white",
            "linecolor": "white",
            "ticks": ""
           },
           "baxis": {
            "gridcolor": "white",
            "linecolor": "white",
            "ticks": ""
           },
           "bgcolor": "#E5ECF6",
           "caxis": {
            "gridcolor": "white",
            "linecolor": "white",
            "ticks": ""
           }
          },
          "title": {
           "x": 0.05
          },
          "xaxis": {
           "automargin": true,
           "gridcolor": "white",
           "linecolor": "white",
           "ticks": "",
           "title": {
            "standoff": 15
           },
           "zerolinecolor": "white",
           "zerolinewidth": 2
          },
          "yaxis": {
           "automargin": true,
           "gridcolor": "white",
           "linecolor": "white",
           "ticks": "",
           "title": {
            "standoff": 15
           },
           "zerolinecolor": "white",
           "zerolinewidth": 2
          }
         }
        },
        "title": {
         "text": "Lines Spoken by Demographic for Book 1 Episode 6: And the Winner Is..."
        }
       }
      },
      "text/html": [
       "<div>\n",
       "        \n",
       "        \n",
       "            <div id=\"a0947239-55f0-47cb-add6-0c40e090712c\" class=\"plotly-graph-div\" style=\"height:525px; width:100%;\"></div>\n",
       "            <script type=\"text/javascript\">\n",
       "                require([\"plotly\"], function(Plotly) {\n",
       "                    window.PLOTLYENV=window.PLOTLYENV || {};\n",
       "                    \n",
       "                if (document.getElementById(\"a0947239-55f0-47cb-add6-0c40e090712c\")) {\n",
       "                    Plotly.newPlot(\n",
       "                        'a0947239-55f0-47cb-add6-0c40e090712c',\n",
       "                        [{\"hoverongaps\": false, \"type\": \"heatmap\", \"x\": [\"Waterbenders\", \"Earthbenders\", \"Firebenders\", \"Airbenders\", \"Avatar\", \"Non-Bender\", \"Spirit\"], \"y\": [\"Male\", \"Female\"], \"z\": [[23, 17, 15, 25, 0, 23, 0], [0, 19, 0, 0, 27, 0, 0]]}],\n",
       "                        {\"template\": {\"data\": {\"bar\": [{\"error_x\": {\"color\": \"#2a3f5f\"}, \"error_y\": {\"color\": \"#2a3f5f\"}, \"marker\": {\"line\": {\"color\": \"#E5ECF6\", \"width\": 0.5}}, \"type\": \"bar\"}], \"barpolar\": [{\"marker\": {\"line\": {\"color\": \"#E5ECF6\", \"width\": 0.5}}, \"type\": \"barpolar\"}], \"carpet\": [{\"aaxis\": {\"endlinecolor\": \"#2a3f5f\", \"gridcolor\": \"white\", \"linecolor\": \"white\", \"minorgridcolor\": \"white\", \"startlinecolor\": \"#2a3f5f\"}, \"baxis\": {\"endlinecolor\": \"#2a3f5f\", \"gridcolor\": \"white\", \"linecolor\": \"white\", \"minorgridcolor\": \"white\", \"startlinecolor\": \"#2a3f5f\"}, \"type\": \"carpet\"}], \"choropleth\": [{\"colorbar\": {\"outlinewidth\": 0, \"ticks\": \"\"}, \"type\": \"choropleth\"}], \"contour\": [{\"colorbar\": {\"outlinewidth\": 0, \"ticks\": \"\"}, \"colorscale\": [[0.0, \"#0d0887\"], [0.1111111111111111, \"#46039f\"], [0.2222222222222222, \"#7201a8\"], [0.3333333333333333, \"#9c179e\"], [0.4444444444444444, \"#bd3786\"], [0.5555555555555556, \"#d8576b\"], [0.6666666666666666, \"#ed7953\"], [0.7777777777777778, \"#fb9f3a\"], [0.8888888888888888, \"#fdca26\"], [1.0, \"#f0f921\"]], \"type\": \"contour\"}], \"contourcarpet\": [{\"colorbar\": {\"outlinewidth\": 0, \"ticks\": \"\"}, \"type\": \"contourcarpet\"}], \"heatmap\": [{\"colorbar\": {\"outlinewidth\": 0, \"ticks\": \"\"}, \"colorscale\": [[0.0, \"#0d0887\"], [0.1111111111111111, \"#46039f\"], [0.2222222222222222, \"#7201a8\"], [0.3333333333333333, \"#9c179e\"], [0.4444444444444444, \"#bd3786\"], [0.5555555555555556, \"#d8576b\"], [0.6666666666666666, \"#ed7953\"], [0.7777777777777778, \"#fb9f3a\"], [0.8888888888888888, \"#fdca26\"], [1.0, \"#f0f921\"]], \"type\": \"heatmap\"}], \"heatmapgl\": [{\"colorbar\": {\"outlinewidth\": 0, \"ticks\": \"\"}, \"colorscale\": [[0.0, \"#0d0887\"], [0.1111111111111111, \"#46039f\"], [0.2222222222222222, \"#7201a8\"], [0.3333333333333333, \"#9c179e\"], [0.4444444444444444, \"#bd3786\"], [0.5555555555555556, \"#d8576b\"], [0.6666666666666666, \"#ed7953\"], [0.7777777777777778, \"#fb9f3a\"], [0.8888888888888888, \"#fdca26\"], [1.0, \"#f0f921\"]], \"type\": \"heatmapgl\"}], \"histogram\": [{\"marker\": {\"colorbar\": {\"outlinewidth\": 0, \"ticks\": \"\"}}, \"type\": \"histogram\"}], \"histogram2d\": [{\"colorbar\": {\"outlinewidth\": 0, \"ticks\": \"\"}, \"colorscale\": [[0.0, \"#0d0887\"], [0.1111111111111111, \"#46039f\"], [0.2222222222222222, \"#7201a8\"], [0.3333333333333333, \"#9c179e\"], [0.4444444444444444, \"#bd3786\"], [0.5555555555555556, \"#d8576b\"], [0.6666666666666666, \"#ed7953\"], [0.7777777777777778, \"#fb9f3a\"], [0.8888888888888888, \"#fdca26\"], [1.0, \"#f0f921\"]], \"type\": \"histogram2d\"}], \"histogram2dcontour\": [{\"colorbar\": {\"outlinewidth\": 0, \"ticks\": \"\"}, \"colorscale\": [[0.0, \"#0d0887\"], [0.1111111111111111, \"#46039f\"], [0.2222222222222222, \"#7201a8\"], [0.3333333333333333, \"#9c179e\"], [0.4444444444444444, \"#bd3786\"], [0.5555555555555556, \"#d8576b\"], [0.6666666666666666, \"#ed7953\"], [0.7777777777777778, \"#fb9f3a\"], [0.8888888888888888, \"#fdca26\"], [1.0, \"#f0f921\"]], \"type\": \"histogram2dcontour\"}], \"mesh3d\": [{\"colorbar\": {\"outlinewidth\": 0, \"ticks\": \"\"}, \"type\": \"mesh3d\"}], \"parcoords\": [{\"line\": {\"colorbar\": {\"outlinewidth\": 0, \"ticks\": \"\"}}, \"type\": \"parcoords\"}], \"pie\": [{\"automargin\": true, \"type\": \"pie\"}], \"scatter\": [{\"marker\": {\"colorbar\": {\"outlinewidth\": 0, \"ticks\": \"\"}}, \"type\": \"scatter\"}], \"scatter3d\": [{\"line\": {\"colorbar\": {\"outlinewidth\": 0, \"ticks\": \"\"}}, \"marker\": {\"colorbar\": {\"outlinewidth\": 0, \"ticks\": \"\"}}, \"type\": \"scatter3d\"}], \"scattercarpet\": [{\"marker\": {\"colorbar\": {\"outlinewidth\": 0, \"ticks\": \"\"}}, \"type\": \"scattercarpet\"}], \"scattergeo\": [{\"marker\": {\"colorbar\": {\"outlinewidth\": 0, \"ticks\": \"\"}}, \"type\": \"scattergeo\"}], \"scattergl\": [{\"marker\": {\"colorbar\": {\"outlinewidth\": 0, \"ticks\": \"\"}}, \"type\": \"scattergl\"}], \"scattermapbox\": [{\"marker\": {\"colorbar\": {\"outlinewidth\": 0, \"ticks\": \"\"}}, \"type\": \"scattermapbox\"}], \"scatterpolar\": [{\"marker\": {\"colorbar\": {\"outlinewidth\": 0, \"ticks\": \"\"}}, \"type\": \"scatterpolar\"}], \"scatterpolargl\": [{\"marker\": {\"colorbar\": {\"outlinewidth\": 0, \"ticks\": \"\"}}, \"type\": \"scatterpolargl\"}], \"scatterternary\": [{\"marker\": {\"colorbar\": {\"outlinewidth\": 0, \"ticks\": \"\"}}, \"type\": \"scatterternary\"}], \"surface\": [{\"colorbar\": {\"outlinewidth\": 0, \"ticks\": \"\"}, \"colorscale\": [[0.0, \"#0d0887\"], [0.1111111111111111, \"#46039f\"], [0.2222222222222222, \"#7201a8\"], [0.3333333333333333, \"#9c179e\"], [0.4444444444444444, \"#bd3786\"], [0.5555555555555556, \"#d8576b\"], [0.6666666666666666, \"#ed7953\"], [0.7777777777777778, \"#fb9f3a\"], [0.8888888888888888, \"#fdca26\"], [1.0, \"#f0f921\"]], \"type\": \"surface\"}], \"table\": [{\"cells\": {\"fill\": {\"color\": \"#EBF0F8\"}, \"line\": {\"color\": \"white\"}}, \"header\": {\"fill\": {\"color\": \"#C8D4E3\"}, \"line\": {\"color\": \"white\"}}, \"type\": \"table\"}]}, \"layout\": {\"annotationdefaults\": {\"arrowcolor\": \"#2a3f5f\", \"arrowhead\": 0, \"arrowwidth\": 1}, \"coloraxis\": {\"colorbar\": {\"outlinewidth\": 0, \"ticks\": \"\"}}, \"colorscale\": {\"diverging\": [[0, \"#8e0152\"], [0.1, \"#c51b7d\"], [0.2, \"#de77ae\"], [0.3, \"#f1b6da\"], [0.4, \"#fde0ef\"], [0.5, \"#f7f7f7\"], [0.6, \"#e6f5d0\"], [0.7, \"#b8e186\"], [0.8, \"#7fbc41\"], [0.9, \"#4d9221\"], [1, \"#276419\"]], \"sequential\": [[0.0, \"#0d0887\"], [0.1111111111111111, \"#46039f\"], [0.2222222222222222, \"#7201a8\"], [0.3333333333333333, \"#9c179e\"], [0.4444444444444444, \"#bd3786\"], [0.5555555555555556, \"#d8576b\"], [0.6666666666666666, \"#ed7953\"], [0.7777777777777778, \"#fb9f3a\"], [0.8888888888888888, \"#fdca26\"], [1.0, \"#f0f921\"]], \"sequentialminus\": [[0.0, \"#0d0887\"], [0.1111111111111111, \"#46039f\"], [0.2222222222222222, \"#7201a8\"], [0.3333333333333333, \"#9c179e\"], [0.4444444444444444, \"#bd3786\"], [0.5555555555555556, \"#d8576b\"], [0.6666666666666666, \"#ed7953\"], [0.7777777777777778, \"#fb9f3a\"], [0.8888888888888888, \"#fdca26\"], [1.0, \"#f0f921\"]]}, \"colorway\": [\"#636efa\", \"#EF553B\", \"#00cc96\", \"#ab63fa\", \"#FFA15A\", \"#19d3f3\", \"#FF6692\", \"#B6E880\", \"#FF97FF\", \"#FECB52\"], \"font\": {\"color\": \"#2a3f5f\"}, \"geo\": {\"bgcolor\": \"white\", \"lakecolor\": \"white\", \"landcolor\": \"#E5ECF6\", \"showlakes\": true, \"showland\": true, \"subunitcolor\": \"white\"}, \"hoverlabel\": {\"align\": \"left\"}, \"hovermode\": \"closest\", \"mapbox\": {\"style\": \"light\"}, \"paper_bgcolor\": \"white\", \"plot_bgcolor\": \"#E5ECF6\", \"polar\": {\"angularaxis\": {\"gridcolor\": \"white\", \"linecolor\": \"white\", \"ticks\": \"\"}, \"bgcolor\": \"#E5ECF6\", \"radialaxis\": {\"gridcolor\": \"white\", \"linecolor\": \"white\", \"ticks\": \"\"}}, \"scene\": {\"xaxis\": {\"backgroundcolor\": \"#E5ECF6\", \"gridcolor\": \"white\", \"gridwidth\": 2, \"linecolor\": \"white\", \"showbackground\": true, \"ticks\": \"\", \"zerolinecolor\": \"white\"}, \"yaxis\": {\"backgroundcolor\": \"#E5ECF6\", \"gridcolor\": \"white\", \"gridwidth\": 2, \"linecolor\": \"white\", \"showbackground\": true, \"ticks\": \"\", \"zerolinecolor\": \"white\"}, \"zaxis\": {\"backgroundcolor\": \"#E5ECF6\", \"gridcolor\": \"white\", \"gridwidth\": 2, \"linecolor\": \"white\", \"showbackground\": true, \"ticks\": \"\", \"zerolinecolor\": \"white\"}}, \"shapedefaults\": {\"line\": {\"color\": \"#2a3f5f\"}}, \"ternary\": {\"aaxis\": {\"gridcolor\": \"white\", \"linecolor\": \"white\", \"ticks\": \"\"}, \"baxis\": {\"gridcolor\": \"white\", \"linecolor\": \"white\", \"ticks\": \"\"}, \"bgcolor\": \"#E5ECF6\", \"caxis\": {\"gridcolor\": \"white\", \"linecolor\": \"white\", \"ticks\": \"\"}}, \"title\": {\"x\": 0.05}, \"xaxis\": {\"automargin\": true, \"gridcolor\": \"white\", \"linecolor\": \"white\", \"ticks\": \"\", \"title\": {\"standoff\": 15}, \"zerolinecolor\": \"white\", \"zerolinewidth\": 2}, \"yaxis\": {\"automargin\": true, \"gridcolor\": \"white\", \"linecolor\": \"white\", \"ticks\": \"\", \"title\": {\"standoff\": 15}, \"zerolinecolor\": \"white\", \"zerolinewidth\": 2}}}, \"title\": {\"text\": \"Lines Spoken by Demographic for Book 1 Episode 6: And the Winner Is...\"}},\n",
       "                        {\"responsive\": true}\n",
       "                    ).then(function(){\n",
       "                            \n",
       "var gd = document.getElementById('a0947239-55f0-47cb-add6-0c40e090712c');\n",
       "var x = new MutationObserver(function (mutations, observer) {{\n",
       "        var display = window.getComputedStyle(gd).display;\n",
       "        if (!display || display === 'none') {{\n",
       "            console.log([gd, 'removed!']);\n",
       "            Plotly.purge(gd);\n",
       "            observer.disconnect();\n",
       "        }}\n",
       "}});\n",
       "\n",
       "// Listen for the removal of the full notebook cells\n",
       "var notebookContainer = gd.closest('#notebook-container');\n",
       "if (notebookContainer) {{\n",
       "    x.observe(notebookContainer, {childList: true});\n",
       "}}\n",
       "\n",
       "// Listen for the clearing of the current output cell\n",
       "var outputEl = gd.closest('.output');\n",
       "if (outputEl) {{\n",
       "    x.observe(outputEl, {childList: true});\n",
       "}}\n",
       "\n",
       "                        })\n",
       "                };\n",
       "                });\n",
       "            </script>\n",
       "        </div>"
      ]
     },
     "metadata": {},
     "output_type": "display_data"
    }
   ],
   "source": [
    "heat_map_of_benders_by_episode(1,6)"
   ]
  },
  {
   "cell_type": "code",
   "execution_count": 107,
   "metadata": {},
   "outputs": [],
   "source": [
    "import altair as alt\n",
    "import pandas as pd\n",
    "\n",
    "def scatter_plot_of_word_by_character(character):\n",
    "    df = pd.DataFrame(episode_quote_tracker[episode],columns=['Name','Quote','Gender', 'Element'])\n",
    "    print(df.tail())\n",
    "    \n",
    "\n"
   ]
  },
  {
   "cell_type": "code",
   "execution_count": 129,
   "metadata": {},
   "outputs": [],
   "source": [
    "from wordcloud import WordCloud, STOPWORDS\n",
    "import numpy\n",
    "#import Image\n",
    "from PIL import Image\n",
    "\n",
    "#What are the 10 most and least common words spoken by each character\n",
    "def generate_word_cloud(characterName):\n",
    "    try:\n",
    "        mask = numpy.array(Image.open(\"korra_picture.png\"))\n",
    "        large_word_string = \"\"\n",
    "        for episode in range(1, len(episode_quote_tracker)+1):\n",
    "            script = episode_quote_tracker[episode]\n",
    "            for line in script:\n",
    "                character = line[0] \n",
    "                character = catchAlias(character)\n",
    "                if (characterName == character):\n",
    "                    quote = line[1]\n",
    "                    noPunctuation = removePunctuation(quote)\n",
    "                    listOfWords = noPunctuation.split(\" \")\n",
    "                    for word in listOfWords:\n",
    "                        if (len(word) > 0):\n",
    "                            large_word_string = large_word_string + word + \" \"       \n",
    "        stopwords = set(STOPWORDS)\n",
    "        cloud = WordCloud(stopwords=stopwords, max_words = 100, background_color='white').generate(large_word_string)\n",
    "\n",
    "\n",
    "        matplt.imshow(cloud)\n",
    "        matplt.axis('off')\n",
    "        matplt.show()\n",
    "    except: \n",
    "        print(\"No Cloud for: \" + \"'\" + characterName + \"'. Please check your spelling\")"
   ]
  },
  {
   "cell_type": "code",
   "execution_count": 157,
   "metadata": {},
   "outputs": [
    {
     "data": {
      "image/png": "[encoded data removed]",
      "text/plain": [
       "<Figure size 432x288 with 1 Axes>"
      ]
     },
     "metadata": {
      "needs_background": "light"
     },
     "output_type": "display_data"
    }
   ],
   "source": [
    "generate_word_cloud(\"Varrick\")"
   ]
  },
  {
   "cell_type": "code",
   "execution_count": 135,
   "metadata": {},
   "outputs": [],
   "source": [
    "#GOAL: Create a heat map visualization using the Avatar Map of where everything is by location:"
   ]
  },
  {
   "cell_type": "code",
   "execution_count": 136,
   "metadata": {},
   "outputs": [
    {
     "name": "stdout",
     "output_type": "stream",
     "text": [
      "52\n",
      "i:  0\n",
      "['Tonraq', 'The White Lotus has honored my family by coming. Thank you.', 'Male', 'W', 8.4]\n",
      "-------\n",
      "i:  1\n",
      "['Korra', '-and in the final round, the Buzzard Wasps won with a decisive knockout.   What do you say we go to the arena tonight, catch a few pro-bending matches?', 'Female', 'Av', 8.4]\n",
      "-------\n",
      "i:  2\n",
      "['Korra', \"What's the big idea with making me train this early in the morning? The morning is evil.\", 'Female', 'Av', 8.5]\n",
      "-------\n",
      "i:  3\n",
      "['Amon', 'After I take your bending away you will be nothing.', 'Male', 'W', 8.3]\n",
      "-------\n",
      "i:  4\n",
      "['Mako', \"It's been great having you in so many back to back practices Korra.\", 'Male', 'F', 8.0]\n",
      "-------\n",
      "i:  5\n",
      "['Radio Host', \"You're listening to The Music Hour...\", 'Male', 'N', 8.9]\n",
      "-------\n",
      "i:  6\n",
      "['Mako', \"I still don't believe they're shutting this place down.\", 'Male', 'F', 8.5]\n",
      "-------\n",
      "i:  7\n",
      "['Ikki', \"You're finally here!   Welcome to Air Temple Island!   Your new home!\", 'Female', 'Ai', 8.7]\n",
      "-------\n",
      "i:  8\n",
      "['Korra', \"What are you doing?   TARRLOK!   You can't keep me in here forever!\", 'Female', 'Av', 8.9]\n",
      "-------\n",
      "i:  9\n",
      "['Jinora', \"Daddy, you're home. We waited up for you. Is Korra okay?\", 'Female', 'Ai', 8.9]\n",
      "-------\n",
      "i:  10\n",
      "['Hiroshi', 'It is a glorious day, my Equalist brothers and sisters. Amon has torn down the tyrannical bending government.   He has declared bending illegal   and  he has the Avatar on the run.   Our great leader has a vision for the future,   one day soon bending will no longer exist and we will live in a world everyone is finally equal!  The United Forces are on their way right now to try and stop that dream   but we will prevail!', 'Male', 'N', 8.9]\n",
      "-------\n",
      "i:  11\n",
      "['Iroh', \"I think we found our secret airfield. Bolin, once we get down there I need you to tear up those runways. We can't let those aircraft take off.\", 'Male', 'F', 9.3]\n",
      "-------\n",
      "i:  12\n",
      "['Old Salt', 'This your first watch?', 'Male', 'N', 8.0]\n",
      "-------\n",
      "i:  13\n",
      "['Unalaq', \"You're early.\", 'Male', 'W', 7.9]\n",
      "-------\n",
      "i:  14\n",
      "['Northern Soldier', 'Everyone, clear the streets. Get back in your homes.', 'Male', 'W', 7.8]\n",
      "-------\n",
      "i:  15\n",
      "['Korra', \"You're making a mistake.\", 'Female', 'Av', 8.1]\n",
      "-------\n",
      "i:  16\n",
      "['Lin', 'Welcome home, Avatar. Thanks for starting a war.', 'Female', 'E', 7.8]\n",
      "-------\n",
      "i:  17\n",
      "['Ship Captain', \"We're under attack!\", 'Male', 'N', 7.8]\n",
      "-------\n",
      "i:  18\n",
      "['Female Sage', \"We found the Avatar washed up onshore, but she doesn't remember anything.\", 'Male', 'N', 9.3]\n",
      "-------\n",
      "i:  19\n",
      "['Karu', 'Should we pull her up?', 'Male', 'F', 9.6]\n",
      "-------\n",
      "i:  20\n",
      "['Jinora', 'Gotcha!   Furry-Foot, come back.', 'Female', 'Ai', 8.2]\n",
      "-------\n",
      "i:  21\n",
      "['Tenzin', \"I can't believe my little girl had to guide Korra into the Spirit World instead of me.\", 'Male', 'Ai', 8.7]\n",
      "-------\n",
      "i:  22\n",
      "['Meelo', \"Dad's back!\", 'Male', 'Ai', 8.4]\n",
      "-------\n",
      "i:  23\n",
      "['Mako', \"What's up with the coat? And where did you get that pie?\", 'Male', 'F', 8.5]\n",
      "-------\n",
      "i:  24\n",
      "['Vaatu', 'Raava, nothing could stop this moment. Harmonic Convergence is upon us again.', 'Male', 'S', 8.7]\n",
      "-------\n",
      "i:  25\n",
      "['Ikki', 'Ooh. Pretty.', 'Female', 'Ai', 8.4]\n",
      "-------\n",
      "i:  26\n",
      "['Bumi', 'Come back, Bum-Ju!', 'Male', 'Ai', 8.6]\n",
      "-------\n",
      "i:  27\n",
      "['Asami', 'Did someone order   a fully-equipped Future Industries airship?', 'Female', 'N', 8.7]\n",
      "-------\n",
      "i:  28\n",
      "['Jinora', 'Light on your feet, Uncle Bumi.   Remember, you want to be quick and evasive.', 'Female', 'Ai', 8.4]\n",
      "-------\n",
      "i:  29\n",
      "['Tonraq', 'Did you see Zaheer?', 'Male', 'W', 8.6]\n",
      "-------\n",
      "i:  30\n",
      "['Lin', \"While you're playing fetch, four of the most dangerous criminals in the world are hunting you down. We should get moving.\", 'Female', 'E', 8.6]\n",
      "-------\n",
      "i:  31\n",
      "['Mako', 'Hey, has anyone seen Chief Bei Fong?', 'Male', 'F', 8.6]\n",
      "-------\n",
      "i:  32\n",
      "['Tenzin', 'His pupils once again pleaded with their master   to eat something, but he refused,   just like he had each day the entire summer.   Instead, he simply meditated, getting his nourishmen from the universe. So Monk Tang Xu completed the ninty-seventh day of his historic fast on which island?', 'Male', 'Ai', 8.3]\n",
      "-------\n",
      "i:  33\n",
      "['Wing', \"I can't believe I'm sparring with the Avatar!\", 'Male', 'E', 8.9]\n",
      "-------\n",
      "i:  34\n",
      "['Korra', \"Aiwei's definitely been through here.   Nice tracking, girl.\", 'Female', 'Av', 8.8]\n",
      "-------\n",
      "i:  35\n",
      "['Korra', \"You have to let me out! The Earth Queen is in danger from a group of terrorists calling themselves the Red Lotus!   I talked to one of them in the Spirit World yesterday. He- he's insane.\", 'Female', 'Av', 9.0]\n",
      "-------\n",
      "i:  36\n",
      "['Mako', \"I can't believe it. The Upper Ring is in chaos.\", 'Male', 'F', 9.3]\n",
      "-------\n",
      "i:  37\n",
      "['Su', 'I say we make our approach from the West, drop down from the airship on cables.   Ambush these Red Lotus lowlifes before they know what hit them.', 'Female', 'E', 9.4]\n",
      "-------\n",
      "i:  38\n",
      "['Korra', 'When I get out of here, none of you will survive!', 'Female', 'Av', 9.6]\n",
      "-------\n",
      "i:  39\n",
      "['Shiro Shinobi', \"Welcome to Republic City, the place of hopes, dreams, and Spirit Wilds.   This metropolis truly has something for everyone.   Visit Air Temple Island, the hub for all air benders as   they travel the World helping others.   Or take a stroll through beautiful Avatar Korra Park, named in honor of you-know-who.   We've missed her these past three years and we can't wait to welcome her home. Get well soon, Korra.   And of course you'll want to see our most unique attractions,   the Spirit Wilds. Here spirits and people live harmoniously together,   like this old codger and his new pals.   Yes sirree, this town is truly on the up and up.   Come be a part of the action in Republic City.\", 'Male', 'N', 8.7]\n",
      "-------\n",
      "i:  40\n",
      "['Man', 'Hurry up in there!   Come on,   I got an emergency situation!', 'Male', 'N', 9.3]\n",
      "-------\n",
      "i:  41\n",
      "['Wu', \"So then the crowds are gathered,   all excited to see my coronation,   when all of a sudden, these boulders come rolling through.   And guess what pops out of 'em? Earthbender dames! These gals start banging the boulders like drums and sing the song of my royal lineage. It's the most dynamite six-hour show you've ever seen in your life.\", 'Male', 'N', 8.5]\n",
      "-------\n",
      "i:  42\n",
      "['Pema', \"Tenzin, are you sure you can't go with them?\", 'Female', 'N', 8.7]\n",
      "-------\n",
      "i:  43\n",
      "['Guard', 'We have an emergency!', 'Male', 'N', 8.6]\n",
      "-------\n",
      "i:  44\n",
      "['Wing', 'Are you sure this will work?   Even without Kuvira, they could still crush us.', 'Male', 'E', 8.6]\n",
      "-------\n",
      "i:  45\n",
      "['Korra', 'Naga!', 'Female', 'Av', 8.3]\n",
      "-------\n",
      "i:  46\n",
      "['Wu', \"You know, there's something about being kidnapped   that makes a guy realize he needs to get his act together.\", 'Male', 'N', 6.0]\n",
      "-------\n",
      "i:  47\n",
      "['Ryu', \"Everyone, Mom, can we stay together, please? The tour's about to begin.\", 'Male', 'Ai', 8.6]\n",
      "-------\n",
      "i:  48\n",
      "['Bolin', \"All right, let's do this.   Saving the Bei Fongs and saving our love   because I vow to repair the rift that has grown betwixt us   and make us whole again!\", 'Male', 'E', 9.0]\n",
      "-------\n",
      "i:  49\n",
      "['Kuvira', \"Today we stand on the precipice of history. For the past three years, we've fought   side by side to unite the Earth Empire and we've proven that no one can stand in our way.   Not even the Avatar. But our mission is not yet complete.   There is a grave injustice that must be corrected. As you all know, after the hundred year war, Avatar Aang,   along with Fire Lord Zuko stole Earth Empire land and formed the United Republic.   This land belongs to the people of the Earth Empire   and it's time to take it back. Republic City will be ours!\", 'Female', 'E', 8.7]\n",
      "-------\n",
      "i:  50\n",
      "['Bolin', 'Go ahead. Take your time. Just bending a giant wall. Man, we got a lot of people here. Is that everybody?', 'Male', 'E', 9.2]\n",
      "-------\n",
      "i:  51\n",
      "['Kuvira', 'Initiate lockdown. Find the Avatar and whoever else is with her.', 'Female', 'E', 9.0]\n",
      "-------\n"
     ]
    }
   ],
   "source": [
    "harms_way = episode_quote_tracker[1][1]\n",
    "print(len(episode_quote_tracker))\n",
    "for i in range(0, len(episode_quote_tracker)):\n",
    "    print(\"i: \", i)\n",
    "    print(episode_quote_tracker[i+1][0])\n",
    "    print(\"-------\")\n"
   ]
  },
  {
   "cell_type": "code",
   "execution_count": 183,
   "metadata": {},
   "outputs": [],
   "source": [
    "#ratings over time based on season: \n",
    "#How often is a phrase spoken in each episode?\n",
    "def ratingGraphBySeason(season):\n",
    "    ssnLen = [12, 14, 13, 13]\n",
    "    frequency_counter = Counter()\n",
    "    season_information_dictionary = seasons_dict_list[season-1]\n",
    "    length = ssnLen[season-1]\n",
    "    x_list = []\n",
    "    y_list = []\n",
    "    for episode in range(1, length+1):\n",
    "        e_name = season_information_dictionary[episode][0]\n",
    "        e_rating = season_information_dictionary[episode][1]\n",
    "        \n",
    "        x_list.append(e_name)\n",
    "        y_list.append(e_rating)\n",
    "    pyplot.plot(x_list, y_list)\n",
    "    pyplot.xlabel(\"Episode Title\")\n",
    "    y_label = \"IMDB Rating\"\n",
    "    pyplot.ylabel(y_label)\n",
    "    pyplot.title(season_to_title[season])\n",
    "    pyplot.xticks(rotation=90)\n",
    "    pyplot.show()\n",
    "    "
   ]
  },
  {
   "cell_type": "code",
   "execution_count": 186,
   "metadata": {},
   "outputs": [],
   "source": [
    "def allSeasonsRating(): \n",
    "    for i in range(1, 5):\n",
    "        ratingGraphBySeason(i)"
   ]
  },
  {
   "cell_type": "code",
   "execution_count": 187,
   "metadata": {},
   "outputs": [
    {
     "data": {
      "image/png": "[encoded data removed]",
      "text/plain": [
       "<Figure size 432x288 with 1 Axes>"
      ]
     },
     "metadata": {
      "needs_background": "light"
     },
     "output_type": "display_data"
    },
    {
     "data": {
      "image/png": "[encoded data removed]",
      "text/plain": [
       "<Figure size 432x288 with 1 Axes>"
      ]
     },
     "metadata": {
      "needs_background": "light"
     },
     "output_type": "display_data"
    },
    {
     "data": {
      "image/png": "[encoded data removed]",
      "text/plain": [
       "<Figure size 432x288 with 1 Axes>"
      ]
     },
     "metadata": {
      "needs_background": "light"
     },
     "output_type": "display_data"
    },
    {
     "data": {
      "image/png": "[encoded data removed]",
      "text/plain": [
       "<Figure size 432x288 with 1 Axes>"
      ]
     },
     "metadata": {
      "needs_background": "light"
     },
     "output_type": "display_data"
    }
   ],
   "source": [
    "allSeasonsRating()"
   ]
  }
 ],
 "metadata": {
  "kernelspec": {
   "display_name": "Python 3",
   "language": "python",
   "name": "python3"
  },
  "language_info": {
   "codemirror_mode": {
    "name": "ipython",
    "version": 3
   },
   "file_extension": ".py",
   "mimetype": "text/x-python",
   "name": "python",
   "nbconvert_exporter": "python",
   "pygments_lexer": "ipython3",
   "version": "3.6.4"
  }
 },
 "nbformat": 4,
 "nbformat_minor": 2
}
