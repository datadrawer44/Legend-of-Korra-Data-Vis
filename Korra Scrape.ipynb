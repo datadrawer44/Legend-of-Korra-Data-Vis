{
 "cells": [
  {
   "cell_type": "code",
   "execution_count": 148,
   "metadata": {},
   "outputs": [],
   "source": [
    "def extract_imdb_episode_name_and_rating(season_log, num_eps):\n",
    "    i = 0\n",
    "    episode_to_rating_and_name = {}\n",
    "    end_index_episode = season_log.find('Reverse the order')\n",
    "    while (i < num_eps):\n",
    "        episodeInfo = []\n",
    "        start_index_episode = season_log.find('title=\"', end_index_episode+1)\n",
    "        end_index_episode = season_log.find('\"', start_index_episode+7)\n",
    "        st_ind_rating = season_log.find('ipl-rating-star__rating', end_index_episode)\n",
    "        en_ind_rating = season_log.find('</span>', st_ind_rating)\n",
    "        if (i % 2 == 0):\n",
    "            episode_name = season_log[start_index_episode+7:end_index_episode]\n",
    "            rating = float(season_log[st_ind_rating+25:en_ind_rating])\n",
    "            \n",
    "            episode_name = episode_name.replace('\\\\', '')\n",
    "            episodeInfo.append(episode_name)\n",
    "            episodeInfo.append(rating)\n",
    "            episode_to_rating_and_name[int((i+2)/2)] = episodeInfo\n",
    "            \n",
    "        i = i + 1\n",
    "    return episode_to_rating_and_name\n",
    "    \n",
    "\n",
    "    "
   ]
  },
  {
   "cell_type": "code",
   "execution_count": 149,
   "metadata": {},
   "outputs": [],
   "source": [
    "season_one = \"https://www.imdb.com/title/tt1695360/episodes?season=1&ref_=ttep_ep_sn_nx\"\n",
    "season_two = \"https://www.imdb.com/title/tt1695360/episodes?season=2&ref_=ttep_ep_sn_nx\"\n",
    "season_three = \"https://www.imdb.com/title/tt1695360/episodes?season=3&ref_=ttep_ep_sn_nx\"\n",
    "season_four = \"https://www.imdb.com/title/tt1695360/episodes?season=4&ref_=ttep_ep_sn_nx\""
   ]
  },
  {
   "cell_type": "code",
   "execution_count": 150,
   "metadata": {},
   "outputs": [],
   "source": [
    "import urllib3\n",
    "\n",
    "\n",
    "http = urllib3.PoolManager()"
   ]
  },
  {
   "cell_type": "code",
   "execution_count": 151,
   "metadata": {},
   "outputs": [],
   "source": [
    "imdb = http.request('GET', season_one)\n",
    "imdb_data_1 = imdb.data\n",
    "string_rep_1 = str(imdb_data_1)\n",
    "s1_dict = extract_imdb_episode_name_and_rating(string_rep_1, 24)\n",
    "\n",
    "#--------------------------------------------\n",
    "imdb = http.request('GET', season_two)\n",
    "imdb_data_2 = imdb.data\n",
    "string_rep_2 = str(imdb_data_2)\n",
    "s2_dict = extract_imdb_episode_name_and_rating(string_rep_2, 28)\n",
    "\n",
    "#--------------------------------------------\n",
    "imdb = http.request('GET', season_three)\n",
    "imdb_data_3 = imdb.data\n",
    "string_rep_3 = str(imdb_data_3)\n",
    "s3_dict = extract_imdb_episode_name_and_rating(string_rep_3, 26)\n",
    "\n",
    "#--------------------------------------------\n",
    "imdb = http.request('GET', season_four)\n",
    "imdb_data_4 = imdb.data\n",
    "string_rep_4 = str(imdb_data_4)\n",
    "s4_dict = extract_imdb_episode_name_and_rating(string_rep_4, 26)\n",
    "\n",
    "seasons_dict_list = [s1_dict, s2_dict, s3_dict, s4_dict]"
   ]
  },
  {
   "cell_type": "code",
   "execution_count": 152,
   "metadata": {},
   "outputs": [],
   "source": [
    "def obtain_episode_name(s, e):\n",
    "    if (s == 1):\n",
    "        season_dictionary = seasons_dict_list[0]\n",
    "    elif (s == 2):\n",
    "        season_dictionary = seasons_dict_list[1]\n",
    "    elif (s == 3):\n",
    "        season_dictionary = seasons_dict_list[2]\n",
    "    else:\n",
    "        season_dictionary = seasons_dict_list[3]\n",
    "    episode_name = season_dictionary[e][0]\n",
    "    return episode_name"
   ]
  },
  {
   "cell_type": "code",
   "execution_count": 153,
   "metadata": {},
   "outputs": [],
   "source": [
    "def catchAlias(char):\n",
    "    if (char == \"Young General\"):\n",
    "        return \"Iroh\"\n",
    "    elif (char == \"Young Lin\" or char == \"Chief Beifong\"):\n",
    "        return \"Lin\"\n",
    "    elif (char == \"Young Korra\" or char == \"Avatar Korra\"):\n",
    "        return \"Korra\"\n",
    "    elif (char == \"Young Su\"):\n",
    "        return \"Su\"\n",
    "    elif (char == \"Noatak\"):\n",
    "        return \"Amon\"\n",
    "    elif (char == \"Hiroshi Sato\"):\n",
    "        return \"Hiroshi\"\n",
    "    elif (char == \"Prince Wu\"):\n",
    "        return \"Wu\"\n",
    "    elif (char == \"P'li\"):\n",
    "        return \"P'Li\"\n",
    "    elif (char == \"Unavaatu\"):\n",
    "        return \"Unalaq\"\n",
    "    elif (char == \"Baatar\"):\n",
    "        return \"Baatar Sr.\"\n",
    "    else:\n",
    "        return char"
   ]
  },
  {
   "cell_type": "code",
   "execution_count": 154,
   "metadata": {},
   "outputs": [],
   "source": [
    "from matplotlib import pyplot\n",
    "import matplotlib.pyplot as matplt\n",
    "from bs4 import BeautifulSoup"
   ]
  },
  {
   "cell_type": "code",
   "execution_count": 155,
   "metadata": {},
   "outputs": [],
   "source": [
    "import urllib3\n",
    "\n",
    "\n",
    "http = urllib3.PoolManager()\n",
    "\n",
    "url = 'http://korra.avatarspirit.net/transcripts.php?num=106'\n",
    "\n",
    "resp = http.request('GET', url)\n",
    "bs = BeautifulSoup(resp.data, 'html.parser')\n",
    "tags = bs.find_all('b')"
   ]
  },
  {
   "cell_type": "code",
   "execution_count": 156,
   "metadata": {},
   "outputs": [],
   "source": [
    "from collections import Counter"
   ]
  },
  {
   "cell_type": "code",
   "execution_count": 157,
   "metadata": {},
   "outputs": [
    {
     "name": "stdout",
     "output_type": "stream",
     "text": [
      "Counter({'Korra:': 27, 'Tenzin:': 25, 'Lin:': 19, 'Bolin:': 16, 'Mako:': 15, 'Radio Broadcaster:': 10, 'Tarrlok:': 9, 'Amon:': 7, 'Tahno:': 7, 'Ring Announcer:': 5, 'Referee:': 3, 'Radio Host:': 2, 'Lieutenant:': 1, 'Metalbender Cop:': 1})\n"
     ]
    }
   ],
   "source": [
    "start = False \n",
    "skip = False\n",
    "c = Counter()\n",
    "for tag in tags:\n",
    "    text = tag.get_text()\n",
    "    if (start and (\"Act\" not in text)): \n",
    "        c[text] += 1\n",
    "    elif (text == \"Act I\"):\n",
    "        start = True\n",
    "print(c)\n",
    "        \n",
    "    "
   ]
  },
  {
   "cell_type": "code",
   "execution_count": 158,
   "metadata": {},
   "outputs": [],
   "source": [
    "def getGender(character):\n",
    "    female = [\"Korra\", \"P'Li\", \"Shaman\", \"Fire Nation Councilwoman\", \"Ming-Hua\", \"Katara\", \"Senna\",\n",
    "             \"Kya\", \"Eska\", \"Ahnah\", \"Female Bandit\", \"Su\", \"Kuvira\", \"Lin\", \"Radio Operator\", \"Female Pilot\", \n",
    "              \"Jinora\", \"Ikki\", \"Opal\", \"Raava\", \"May\", \"Dark Spider Spirit\", \"Asami\", \"Pema\", \n",
    "              \"Shop Woman\", \"Queen Hou-Ting\", \"Nonbender Woman\", \"Prosecutor\", \"Elderly Air Acolyte\", \"Woman\", \n",
    "             \"Air Acolyte woman\", \"Zhu Li\", \"Ginger\", \"Buttercup\", \"Female Reporter #1\", \"Female Reporter #2\", \n",
    "              \"Wife\", \"Little Girl\", \"Ryu's Mom\", \"Aunt\",\"Yin\", \"Female New Airbender #1\", \"Vendor\", \"Girl 1\", \n",
    "             \"Girl 2\", \"Elderly Woman\", \"Tuyen\", \"Radio Operator\"]\n",
    "    unknown = [\"Kind Spirit #1\", \"Kind Spirit #2\", \"Light Spirit\"]\n",
    "    if (character in female):\n",
    "        return \"Female\"\n",
    "    elif (character in unknown):\n",
    "        return \"Indeterminate Gender\"\n",
    "    return \"Male\""
   ]
  },
  {
   "cell_type": "code",
   "execution_count": 159,
   "metadata": {},
   "outputs": [],
   "source": [
    "genderListTest = [\"Noatak\", \"Kind Spirit #1\", \"Korra\", \"Mako\", \"P'li\", \"Uncle Iroh\", \"Tenzin\", \"Senna\", \"Avatar Korra\", \"Ming-Hua\", \"Young Lin\", \"Asami\", \"Bumi\"]\n",
    "expectation = [\"Male\", \"Indeterminate Gender\", \"Female\",\"Male\", \"Female\", \"Male\", \"Male\", \"Female\", \"Female\", \"Female\", \"Female\", \"Female\", \"Male\"]\n",
    "\n",
    "\n"
   ]
  },
  {
   "cell_type": "code",
   "execution_count": 160,
   "metadata": {},
   "outputs": [],
   "source": [
    "def testGetGender(cList, eResults):\n",
    "    score = 0\n",
    "    for c in range(0, len(cList)):\n",
    "        if (getGender(catchAlias(cList[c])) == eResults[c]):\n",
    "            score = score + 1\n",
    "        else: \n",
    "            print(\"ERROR: \" + cList[c] + \" is not a \" + getGender(catchAlias(cList[c])) + \"Character.\" )\n",
    "    print (str((score * 100)/len(eResults)) + \"% \")"
   ]
  },
  {
   "cell_type": "code",
   "execution_count": 161,
   "metadata": {},
   "outputs": [
    {
     "name": "stdout",
     "output_type": "stream",
     "text": [
      "100.0% \n"
     ]
    }
   ],
   "source": [
    "testGetGender(genderListTest, expectation)"
   ]
  },
  {
   "cell_type": "code",
   "execution_count": 162,
   "metadata": {},
   "outputs": [],
   "source": [
    "\n",
    "#Maps the character to the appropriate bending \n",
    "#W = Water, E = Earth, F = Fire, Ai = Air, Av = Avatar, N = Nonbender/Unknown, S = Spirit\n",
    "\n",
    "def typeOfBender(character):\n",
    "    avatar = [\"Korra\", \"Aang\", \"Wan\", \"Young Korra\"]\n",
    "    fireBenders = [\"P'Li\", \"Acupuncturist\", \"Mako\", \"Zolt\", \"Two Toed Ping\", \"Huntsman\",\n",
    "                   \"Iroh\", \"Lord Zuko\", \"White Lotus Guard #1\", \"Zhao\", \"Uncle Iroh\", \"Zuko\", \n",
    "                   \"Young General\", \"Karu\", \"White Lotus guard\", \"Firebending Master\",\n",
    "                   \"Baraz\", \"Shaman\", \"Jaya\", \"Fire Nation Councilwoman\"]\n",
    "    waterBenders = [\"Ming-Hua\", \"Katara\", \"Evil Unalaq\", \"Nuktuk\", \"Tonraq\", \"Senna\", \"Tarrlok\", \n",
    "                    \"Amon\", \"Yakone\", \"Rebel Leader\", \"Southern Waterbender #2\",\n",
    "                    \"Northern Soldier\", \"Northern Soldier #1\", \"Northern Soldier #2\", \n",
    "                    \"Southern Waterbender #1\", \"Young Unalaq\", \"Shady Shin\", \n",
    "                    \"Viper\", \"Hasook\", \"Kya\", \"Tahno\", \"Unalaq\", \"Eska\", \"Waterbending Thug\",\n",
    "                   \"Desna\", \"Ahnah\", \"Unavaatu\"]\n",
    "    earthBenders = [\"Ghazan\", \"Bandit Leader\", \"Dai Li Agent\", \"Guard #1\", \"Guard #2\", \n",
    "                    \"Guard #3\", \"Head Soldier\", \"Guard Post Soldier\", \"Bathroom Attendant\", \n",
    "                    \"Female Bandit\", \"Male Bandit\",\"Sheriff\", \"Police Radio\",  \n",
    "                    \"Bolin\", \"Lin\", \"Saikhan\", \"Cop\", \"Police Officer\",\n",
    "                    \"Su\", \"Bison Rustler\", \"Bison Rustler Leader\", \"Dai Li Sergeant\", \"Wing\",\"Wei\",\"Huan\",\n",
    "                    \"Kuvira\", \"Toza\", \"Earthbending Thug\", \"Aiwei\", \"Skoochy\", \"Tu\", \"Hong Li\", \"Soldier #1\", \"Police Clerk #1\", \"Police Clerk #2\",\n",
    "                    \"Soldier #2\", \"Head Soldier\", \"Metalbender Cop\"]\n",
    "    airBenders = [\"Zaheer\", \"Female New Airbender #1\", \"Yung\", \"New Airbender #1\", \n",
    "                  \"New Airbender #2\", \"New Airbender #3 & #4\", \n",
    "                  \"Kuon\", \"Male Nomad\", \"Otaku\", \"Daw\", \"Bumi\", \"Tenzin's Kids\",\n",
    "                  \"Kai\", \"Jinora\", \"Tenzin\", \"Meelo\",\n",
    "                 \"Ikki\", \"Opal\", \"Ryu\"]\n",
    "    spirits = [\"Raava\", \"Vaatu\", \"Spirit Frog\", \"Spirit Aye-Aye\", \n",
    "               \"Kind Spirit #1\", \"Kind Spirit #2\", \"Random Spirit #1\", \n",
    "               \"Spirit Mushroom\", \"Fruithog\", \"May\", \"Spirit Flower Bulb\", \"Jim\",\n",
    "               \"Wan Shi Tong\", \"Spirit One\",\n",
    "              \"Random Spirit #2\", \"Fire Lion Turtle\", \"Dark Spider Spirit\"]\n",
    "    if (character in avatar):\n",
    "        return \"Av\"\n",
    "    elif (character in waterBenders):\n",
    "        return \"W\"\n",
    "    elif (character in earthBenders):\n",
    "        return \"E\"\n",
    "    elif (character in fireBenders):\n",
    "        return \"F\"\n",
    "    elif (character in airBenders):\n",
    "        return \"Ai\"\n",
    "    elif (character in spirits):\n",
    "        return \"S\"\n",
    "    else: \n",
    "        return \"N\"\n",
    "    \n",
    "    "
   ]
  },
  {
   "cell_type": "code",
   "execution_count": 163,
   "metadata": {},
   "outputs": [],
   "source": [
    "characters = [\"Asami\", \"Korra\", \"Baraz\", \"Ahnah\", \"Ryu\", \n",
    "              \"Lin\", \"Su\", \"Kuvira\", \"Varrick\", \"Zhu Li\", \n",
    "              \"Mako\", \"Bolin\", \"Zaheer\", \"Hou Ting\", \"Ming-Hua\", \n",
    "              \"P'li\", \"Wan Shi Tong\", \"Jim\", \"Pema\", \"Raava\"]\n",
    "exp = [\"N\", \"Av\", \"F\", \"W\", \"Ai\", \n",
    "     \"E\", \"E\", \"E\", \"N\", \"N\", \n",
    "     \"F\", \"E\", \"Ai\", \"N\", \"W\", \n",
    "       \"F\", \"S\", \"S\", \"N\", \"S\"]"
   ]
  },
  {
   "cell_type": "code",
   "execution_count": 164,
   "metadata": {},
   "outputs": [],
   "source": [
    "characterList = [\"Noatak\", \"Korra\", \"Mako\", \"P'li\", \"Uncle Iroh\", \"Tenzin\", \"Senna\", \"Avatar Korra\", \"Ming-Hua\", \"Young Lin\"]\n",
    "expectedResults = [\"Amon\", \"Korra\", \"Mako\", \"P'Li\", \"Uncle Iroh\", \"Tenzin\", \"Senna\", \"Korra\", \"Ming-Hua\", \"Lin\"]"
   ]
  },
  {
   "cell_type": "code",
   "execution_count": 165,
   "metadata": {},
   "outputs": [],
   "source": [
    "def testCatchAlias(cList, eResults):\n",
    "    score = 0\n",
    "    for c in range(0, len(cList)):\n",
    "        if (catchAlias(cList[c]) == eResults[c]):\n",
    "            score = score + 1\n",
    "        else: \n",
    "            print(\"ERROR: \" + cList[c] + \" actually goes by \" + eResults[c] + \" instead of \" + catchAlias(cList[c]) + \".\" )\n",
    "    print (str((score * 100)/len(eResults)) + \"% \")\n",
    "    "
   ]
  },
  {
   "cell_type": "code",
   "execution_count": 166,
   "metadata": {},
   "outputs": [],
   "source": [
    "def testTypeOfBender(charList, expected):\n",
    "    score = 0\n",
    "    for c in range(0, len(charList)):\n",
    "        if (typeOfBender(catchAlias(charList[c])) == expected[c]):\n",
    "            score = score + 1\n",
    "        else: \n",
    "            print(\"ERROR: \" + charList[c] + \" is a(n) \" + expected[c] + \" marked as a(n) \" + typeOfBender(charList[c]) + \".\" )\n",
    "    print (str((score * 100)/len(expected)) + \"% \")\n",
    "    "
   ]
  },
  {
   "cell_type": "code",
   "execution_count": 167,
   "metadata": {},
   "outputs": [
    {
     "name": "stdout",
     "output_type": "stream",
     "text": [
      "100.0% \n"
     ]
    }
   ],
   "source": [
    "testCatchAlias(characterList, expectedResults)"
   ]
  },
  {
   "cell_type": "code",
   "execution_count": 168,
   "metadata": {},
   "outputs": [
    {
     "name": "stdout",
     "output_type": "stream",
     "text": [
      "100.0% \n"
     ]
    }
   ],
   "source": [
    "testTypeOfBender(characters, exp)"
   ]
  },
  {
   "cell_type": "code",
   "execution_count": 169,
   "metadata": {},
   "outputs": [],
   "source": [
    "import re"
   ]
  },
  {
   "cell_type": "code",
   "execution_count": null,
   "metadata": {},
   "outputs": [],
   "source": []
  },
  {
   "cell_type": "code",
   "execution_count": 170,
   "metadata": {},
   "outputs": [],
   "source": [
    "#map s/e combo to episode number\n",
    "def get_episode_num(season, episode):\n",
    "    epNum = -1\n",
    "    if (season == 1):\n",
    "        epNum = episode\n",
    "    elif (season == 2):\n",
    "        epNum = 12 + episode\n",
    "    elif (season == 3): \n",
    "        epNum = 26 + episode\n",
    "    elif (season == 4):\n",
    "        epNum = 39 + episode\n",
    "    return epNum\n",
    "    "
   ]
  },
  {
   "cell_type": "code",
   "execution_count": 171,
   "metadata": {},
   "outputs": [],
   "source": [
    "#Find the number of lines spoken by each character \n",
    "\n",
    "counterList = []\n",
    "bendingCounterList = []\n",
    "genderCounterList = []\n",
    "wordsSpoken = []\n",
    "dialogue_bending_order_show = []\n",
    "season_to_ep = {1: 12, 2: 14, 3: 13, 4: 13}\n",
    "for j in range(1,5):\n",
    "    numEps = season_to_ep[j]\n",
    "    for i in range(1, numEps+1):\n",
    "        epString = 'http://korra.avatarspirit.net/transcripts.php?num='\n",
    "        epString = epString + str(j)\n",
    "        val = str(i)\n",
    "        if (i < 10):\n",
    "            val = \"0\" + val\n",
    "        epString = epString + val\n",
    "        resp = http.request('GET', epString)\n",
    "        bs = BeautifulSoup(resp.data, 'html.parser')\n",
    "        tags = bs.find_all('b')\n",
    "        lines = bs.find_all('i')\n",
    "        start = False \n",
    "        skip = False\n",
    "        \n",
    "        #Find out how many lines each character has\n",
    "        c = Counter()\n",
    "        bending_count = Counter()\n",
    "        gender_count = Counter()\n",
    "        bendingHeatMapData = []\n",
    "        for tag in tags:\n",
    "            text = tag.get_text()\n",
    "            if (start and (\"Act\" not in text)): \n",
    "                charName = text[0:len(text)-1]\n",
    "                charName = charName.replace(\"\\\\'\", \"'\")\n",
    "                trueName = catchAlias(charName)\n",
    "                c[trueName] += 1\n",
    "                #trueName = catchAlias(text[0:len(text)-1])\n",
    "                benderType = typeOfBender(trueName)\n",
    "                bendingHeatMapData.append(benderType)\n",
    "                bending_count[benderType] += 1\n",
    "                gender = getGender(trueName)\n",
    "                gender_count[gender] += 1\n",
    "            elif (text == \"Act I\"):\n",
    "                start = True\n",
    "        counterList.append(c)\n",
    "        dialogue_bending_order_show.append(bendingHeatMapData)\n",
    "        bendingCounterList.append(bending_count)\n",
    "        genderCounterList.append(gender_count)\n",
    "    "
   ]
  },
  {
   "cell_type": "code",
   "execution_count": 172,
   "metadata": {},
   "outputs": [],
   "source": [
    "import math"
   ]
  },
  {
   "cell_type": "code",
   "execution_count": 173,
   "metadata": {},
   "outputs": [],
   "source": [
    "def findClosestSquare(num):\n",
    "    print(\"NUMBER: \", num)\n",
    "    return math.ceil(pow(num, 1/2))"
   ]
  },
  {
   "cell_type": "code",
   "execution_count": 174,
   "metadata": {},
   "outputs": [],
   "source": [
    "def bending_heat_map_by_episode(season, episode):\n",
    "    index = get_episode_num(season, episode)\n",
    "    dialogue_bending_data = dialogue_bending_order_show[index-1]\n",
    "    square_dim = findClosestSquare(len(dialogue_bending_data))\n",
    "    print(square_dim)"
   ]
  },
  {
   "cell_type": "code",
   "execution_count": 175,
   "metadata": {},
   "outputs": [
    {
     "name": "stdout",
     "output_type": "stream",
     "text": [
      "NUMBER:  200\n",
      "15\n"
     ]
    }
   ],
   "source": [
    "bending_heat_map_by_episode(1,2)"
   ]
  },
  {
   "cell_type": "code",
   "execution_count": 176,
   "metadata": {},
   "outputs": [],
   "source": [
    "ep_season_input = [[1,2], [2,3], [4,2], [2,12], [2,14], [3,6], [3,13], [4,1]]\n",
    "ep_season_expected_output = [2, 15, 41, 24, 26, 32, 39, 40]"
   ]
  },
  {
   "cell_type": "code",
   "execution_count": 177,
   "metadata": {},
   "outputs": [],
   "source": [
    "def test_get_episode_num(cList, eResults):\n",
    "    score = 0\n",
    "    for c in range(0, len(cList)):\n",
    "        actual = get_episode_num(cList[c][0], cList[c][1])\n",
    "        if (actual == eResults[c]):\n",
    "            score = score + 1\n",
    "        else: \n",
    "            print(\"ERROR: expected episode number: \" + str(eResults[c]) + \" got \" + str(actual))\n",
    "    print (str((score * 100)/len(eResults)) + \"% \")"
   ]
  },
  {
   "cell_type": "code",
   "execution_count": 178,
   "metadata": {},
   "outputs": [
    {
     "name": "stdout",
     "output_type": "stream",
     "text": [
      "100.0% \n"
     ]
    }
   ],
   "source": [
    "test_get_episode_num(ep_season_input, ep_season_expected_output)"
   ]
  },
  {
   "cell_type": "code",
   "execution_count": 179,
   "metadata": {},
   "outputs": [],
   "source": [
    "import math\n",
    "def round_half_up(n, decimals=0):\n",
    "    multiplier = 10 ** decimals\n",
    "    return math.floor(n*multiplier + 0.5) / multiplier"
   ]
  },
  {
   "cell_type": "code",
   "execution_count": 180,
   "metadata": {},
   "outputs": [],
   "source": [
    "# Make this into a pie graph or something better in d3.js\n",
    "def get_percentage_lines_spoken_by_bending_type_per_episode(season, episode): \n",
    "    total_lines = 0\n",
    "    episode_number = get_episode_num(season, episode)\n",
    "    episode_name = obtain_episode_name(season, episode)\n",
    "    values = [\"N\", \"Av\", \"Ai\", \"S\", \"F\", \"W\", \"E\"]\n",
    "    #indexing starts at 0\n",
    "    abb_to_rep = {\"N\": \"Nonbenders\", \"Av\": \"Avatar(s)\", \"Ai\": \"Airbenders\",\n",
    "              \"S\": \"Spirits\", \"F\": \"Firebenders\", \"W\": \"Waterbenders\", \n",
    "              \"E\": \"Earthbenders\"}\n",
    "    episode_data = bendingCounterList[episode_number-1]\n",
    "    item_rep = episode_data.items()\n",
    "    item_rep = sorted(item_rep, key=lambda x: x[1], reverse=True)\n",
    "    x = []\n",
    "    y = []\n",
    "    color_map = {\"N\": 'tan', \"Av\": 'silver', \n",
    "                  \"Ai\": 'yellow', \"S\": 'pink', \n",
    "                  \"F\": 'red', \"W\": 'blue', \n",
    "                  \"E\":'green'}\n",
    "    color_list = []\n",
    "    for i in range(0, len(item_rep)):\n",
    "        total_lines = total_lines + item_rep[i][1]\n",
    "    for i in range(0, len(item_rep)):\n",
    "        full_form_bender = abb_to_rep[item_rep[i][0]]\n",
    "        color = color_map[item_rep[i][0]]\n",
    "        percentage = (item_rep[i][1] * 100)/total_lines\n",
    "        if (percentage != 0):\n",
    "            percentage = round_half_up(percentage, 1)\n",
    "            x.append(full_form_bender)\n",
    "            y.append(percentage)\n",
    "            color_list.append(color)\n",
    "    matplt.pie(y, labels=x, autopct= '%1.1f%%', colors=color_list)\n",
    "    matplt.title(\"Lines Spoken By Bending Demographics for \" + \"Season \" + str(season) + \", Episode \"\n",
    "                 + str(episode) + \": \" + obtain_episode_name(season, episode))"
   ]
  },
  {
   "cell_type": "code",
   "execution_count": 181,
   "metadata": {},
   "outputs": [],
   "source": [
    "#Full Show Report\n",
    "def get_full_show_report_percentage_lines_spoken_by_bending():\n",
    "    print(\"~~~~~~~~~~~~~~~~~~~~~~ SEASON ONE ~~~~~~~~~~~~~~~~~~~~~~\")\n",
    "    for i in range(1, 13):\n",
    "        get_percentage_lines_spoken_by_bending_type_per_episode(1, i)\n",
    "    print(\"~~~~~~~~~~~~~~~~~~~~~~ SEASON TWO ~~~~~~~~~~~~~~~~~~~~~~\")\n",
    "    for i in range(1, 15):\n",
    "        get_percentage_lines_spoken_by_bending_type_per_episode(2, i)\n",
    "    print(\"~~~~~~~~~~~~~~~~~~~~~~ SEASON THREE ~~~~~~~~~~~~~~~~~~~~~~\")\n",
    "    for i in range(1, 14):\n",
    "        get_percentage_lines_spoken_by_bending_type_per_episode(3, i)\n",
    "    print(\"~~~~~~~~~~~~~~~~~~~~~~ SEASON FOUR ~~~~~~~~~~~~~~~~~~~~~~\")\n",
    "    for i in range(1, 14):\n",
    "        get_percentage_lines_spoken_by_bending_type_per_episode(4, i)\n",
    "\n",
    "def get_episode_report_percentage_lines_spoken_by_bending(s,e):\n",
    "    get_percentage_lines_spoken_by_bending_type_per_episode(s, e)\n",
    "    \n",
    "    \n",
    "        "
   ]
  },
  {
   "cell_type": "code",
   "execution_count": 182,
   "metadata": {},
   "outputs": [
    {
     "data": {
      "image/png": "[encoded data removed]",
      "text/plain": [
       "<Figure size 432x288 with 1 Axes>"
      ]
     },
     "metadata": {},
     "output_type": "display_data"
    }
   ],
   "source": [
    "get_episode_report_percentage_lines_spoken_by_bending(3,12)"
   ]
  },
  {
   "cell_type": "code",
   "execution_count": 183,
   "metadata": {},
   "outputs": [],
   "source": [
    "# Make this into a pie graph or something better in d3.js\n",
    "def get_percentage_lines_spoken_by_gender_per_episode(season, episode): \n",
    "    total_lines = 0\n",
    "    episode_number = get_episode_num(season, episode)\n",
    "    episode_name = obtain_episode_name(season, episode)\n",
    "    values = [\"Males\", \"Females\", \"Characters of Indeterminate Gender\"]\n",
    "    #indexing starts at 0\n",
    "    episode_data = genderCounterList[episode_number-1]\n",
    "    item_rep = episode_data.items()\n",
    "    item_rep = sorted(item_rep, key=lambda x: x[1], reverse=True)\n",
    "    x = []\n",
    "    y = []\n",
    "    color_list = ['pink', 'cyan']\n",
    "    for i in range(0, len(item_rep)):\n",
    "        total_lines = total_lines + item_rep[i][1]\n",
    "    for i in range(0, len(item_rep)):\n",
    "        percentage = (item_rep[i][1] * 100)/total_lines\n",
    "        if (percentage != 0):\n",
    "            percentage = round_half_up(percentage, 1)\n",
    "            x.append(item_rep[i][0])\n",
    "            y.append(percentage)\n",
    "    matplt.pie(y, labels=x, autopct= '%1.1f%%', colors=color_list)\n",
    "    matplt.title(obtain_episode_name(season, episode))"
   ]
  },
  {
   "cell_type": "code",
   "execution_count": 184,
   "metadata": {},
   "outputs": [],
   "source": [
    "#Full Show Report\n",
    "\n",
    "def get_episode_report_percentage_lines_spoken_by_gender(s,e):\n",
    "    get_percentage_lines_spoken_by_gender_per_episode(s, e)\n",
    "    \n",
    "def get_full_show_report_percentage_lines_spoken_by_gender():\n",
    "    print(\"~~~~~~~~~~~~~~~~~~~~~~ SEASON ONE ~~~~~~~~~~~~~~~~~~~~~~\")\n",
    "    for i in range(1, 13):\n",
    "        get_percentage_lines_spoken_by_gender_per_episode(1, i)\n",
    "    print(\"~~~~~~~~~~~~~~~~~~~~~~ SEASON TWO ~~~~~~~~~~~~~~~~~~~~~~\")\n",
    "    for i in range(1, 15):\n",
    "        get_percentage_lines_spoken_by_gender_per_episode(2, i)\n",
    "    print(\"~~~~~~~~~~~~~~~~~~~~~~ SEASON THREE ~~~~~~~~~~~~~~~~~~~~~~\")\n",
    "    for i in range(1, 14):\n",
    "        get_percentage_lines_spoken_by_gender_per_episode(3, i)\n",
    "    print(\"~~~~~~~~~~~~~~~~~~~~~~ SEASON FOUR ~~~~~~~~~~~~~~~~~~~~~~\")\n",
    "    for i in range(1, 14):\n",
    "        get_percentage_lines_spoken_by_gender_per_episode(4, i)\n",
    "\n"
   ]
  },
  {
   "cell_type": "code",
   "execution_count": 185,
   "metadata": {},
   "outputs": [
    {
     "data": {
      "image/png": "[encoded data removed]",
      "text/plain": [
       "<Figure size 432x288 with 1 Axes>"
      ]
     },
     "metadata": {},
     "output_type": "display_data"
    }
   ],
   "source": [
    "get_episode_report_percentage_lines_spoken_by_gender(3,12)"
   ]
  },
  {
   "cell_type": "code",
   "execution_count": 186,
   "metadata": {},
   "outputs": [],
   "source": [
    "def plotCharacterFrequencyOverAll(character, show=False):\n",
    "    frq = []\n",
    "    #character = character + \":\"\n",
    "    character = catchAlias(character)\n",
    "    for c in counterList:\n",
    "        frq.append(c[character])\n",
    "    rangeList = list(range(52))\n",
    "    add_one = [x+1 for x in rangeList]\n",
    "    if (show):\n",
    "        pyplot.plot(add_one, frq)\n",
    "        pyplot.xlabel(\"Episode #\")\n",
    "        pyplot.ylabel(\"Number Of Lines Spoken by \" + character[0:len(character)-1])\n",
    "        pyplot.show()\n",
    "    return frq;\n",
    "        "
   ]
  },
  {
   "cell_type": "code",
   "execution_count": 187,
   "metadata": {},
   "outputs": [],
   "source": [
    "def plotCharacterFrequencyOverAllPerSeason(character, season):\n",
    "    frq = []\n",
    "    #character = character + \":\"\n",
    "    character = catchAlias(character)\n",
    "    seasonList = []\n",
    "    start = -1\n",
    "    end = -1\n",
    "    if (season == 1):\n",
    "        start = 0 \n",
    "        end = 12\n",
    "    elif (season == 2):\n",
    "        start = 12\n",
    "        end = 26\n",
    "    elif (season == 3):\n",
    "        start = 26 \n",
    "        end = 39\n",
    "    elif (season == 4):\n",
    "        start = 39 \n",
    "        end = 52\n",
    "    for i in range(start, end):\n",
    "        seasonList.append(counterList[i])\n",
    "    for s in seasonList:\n",
    "        frq.append(s[character])\n",
    "    return frq\n",
    "    "
   ]
  },
  {
   "cell_type": "code",
   "execution_count": 188,
   "metadata": {},
   "outputs": [
    {
     "data": {
      "text/plain": [
       "[57,\n",
       " 66,\n",
       " 52,\n",
       " 40,\n",
       " 45,\n",
       " 27,\n",
       " 34,\n",
       " 49,\n",
       " 9,\n",
       " 16,\n",
       " 34,\n",
       " 25,\n",
       " 38,\n",
       " 40,\n",
       " 46,\n",
       " 47,\n",
       " 40,\n",
       " 3,\n",
       " 7,\n",
       " 4,\n",
       " 33,\n",
       " 44,\n",
       " 12,\n",
       " 25,\n",
       " 8,\n",
       " 32,\n",
       " 48,\n",
       " 39,\n",
       " 21,\n",
       " 33,\n",
       " 42,\n",
       " 14,\n",
       " 6,\n",
       " 26,\n",
       " 42,\n",
       " 30,\n",
       " 30,\n",
       " 19,\n",
       " 5,\n",
       " 4,\n",
       " 63,\n",
       " 20,\n",
       " 22,\n",
       " 16,\n",
       " 12,\n",
       " 44,\n",
       " 33,\n",
       " 53,\n",
       " 7,\n",
       " 30,\n",
       " 13,\n",
       " 30]"
      ]
     },
     "execution_count": 188,
     "metadata": {},
     "output_type": "execute_result"
    }
   ],
   "source": [
    "plotCharacterFrequencyOverAll(\"Korra\")"
   ]
  },
  {
   "cell_type": "code",
   "execution_count": 189,
   "metadata": {},
   "outputs": [],
   "source": [
    "main_characters = ['Korra','Tenzin','Asami']"
   ]
  },
  {
   "cell_type": "code",
   "execution_count": null,
   "metadata": {},
   "outputs": [],
   "source": []
  },
  {
   "cell_type": "code",
   "execution_count": 190,
   "metadata": {},
   "outputs": [],
   "source": [
    "#Frequency of character dialogue over time\n",
    "import plotly.graph_objects as go\n",
    "\n",
    "def character_dialogue_heatmap(charList):\n",
    "    line_stats = []\n",
    "    for i in range(0, len(main_characters)):\n",
    "        line_stats.append(plotCharacterFrequencyOverAll(catchAlias(charList[i])))\n",
    "    episodes_index = list(range(52))\n",
    "    episode_names = []\n",
    "    season_lengths = [12,14,13,13]\n",
    "    for i in range(1,5):\n",
    "        for j in range(season_lengths[i-1]):\n",
    "            episode_names.append(obtain_episode_name(i, j+1))\n",
    "    fig = go.Figure(data=go.Heatmap(\n",
    "            z=line_stats,\n",
    "            x=episode_names,\n",
    "            y=charList,\n",
    "            colorscale='Viridis'))\n",
    "\n",
    "    fig.update_layout(\n",
    "        title='Lines Spoken Per Episode',\n",
    "        xaxis_nticks=15)\n",
    "\n",
    "    fig.show()"
   ]
  },
  {
   "cell_type": "code",
   "execution_count": 191,
   "metadata": {},
   "outputs": [
    {
     "data": {
      "application/vnd.plotly.v1+json": {
       "config": {
        "plotlyServerURL": "https://plot.ly"
       },
       "data": [
        {
         "colorscale": [
          [
           0,
           "#440154"
          ],
          [
           0.1111111111111111,
           "#482878"
          ],
          [
           0.2222222222222222,
           "#3e4989"
          ],
          [
           0.3333333333333333,
           "#31688e"
          ],
          [
           0.4444444444444444,
           "#26828e"
          ],
          [
           0.5555555555555556,
           "#1f9e89"
          ],
          [
           0.6666666666666666,
           "#35b779"
          ],
          [
           0.7777777777777778,
           "#6ece58"
          ],
          [
           0.8888888888888888,
           "#b5de2b"
          ],
          [
           1,
           "#fde725"
          ]
         ],
         "type": "heatmap",
         "x": [
          "Welcome to Republic City",
          "A Leaf in the Wind",
          "The Revelation",
          "The Voice in the Night",
          "The Spirit of Competition",
          "And the Winner Is...",
          "The Aftermath",
          "When Extremes Meet",
          "Out of the Past",
          "Turning the Tides",
          "Skeletons in the Closet",
          "Endgame",
          "Rebel Spirit",
          "The Southern Lights",
          "Civil Wars: Part 1",
          "Civil Wars: Part 2",
          "Peacekeepers",
          "The Sting",
          "Beginnings, Part 1",
          "Beginnings, Part 2",
          "The Guide",
          "A New Spiritual Age",
          "Night of a Thousand Stars",
          "Harmonic Convergence",
          "Darkness Falls",
          "Light in the Dark",
          "A Breath of Fresh Air",
          "Rebirth",
          "The Earth Queen",
          "In Harm's Way",
          "The Metal Clan",
          "Old Wounds",
          "Original Airbenders",
          "The Terror Within",
          "The Stakeout",
          "Long Live the Queen",
          "The Ultimatum",
          "Enter the Void",
          "Venom of the Red Lotus",
          "After All These Years",
          "Korra Alone",
          "The Coronation",
          "The Calling",
          "Enemy at the Gates",
          "The Battle of Zaofu",
          "Reunion",
          "Remembrances",
          "Beyond the Wilds",
          "Operation Beifong",
          "Kuvira's Gambit",
          "Day of the Colossus",
          "The Last Stand"
         ],
         "y": [
          "Korra",
          "Tenzin",
          "Asami"
         ],
         "z": [
          [
           57,
           66,
           52,
           40,
           45,
           27,
           34,
           49,
           9,
           16,
           34,
           25,
           38,
           40,
           46,
           47,
           40,
           3,
           7,
           4,
           33,
           44,
           12,
           25,
           8,
           32,
           48,
           39,
           21,
           33,
           42,
           14,
           6,
           26,
           42,
           30,
           30,
           19,
           5,
           4,
           63,
           20,
           22,
           16,
           12,
           44,
           33,
           53,
           7,
           30,
           13,
           30
          ],
          [
           23,
           37,
           5,
           23,
           0,
           25,
           12,
           15,
           15,
           37,
           0,
           8,
           16,
           6,
           29,
           14,
           10,
           0,
           0,
           0,
           47,
           9,
           5,
           16,
           28,
           24,
           23,
           24,
           3,
           20,
           0,
           0,
           72,
           0,
           0,
           0,
           13,
           12,
           9,
           5,
           7,
           4,
           4,
           1,
           0,
           5,
           2,
           9,
           0,
           11,
           3,
           8
          ],
          [
           0,
           0,
           0,
           18,
           5,
           0,
           24,
           14,
           11,
           15,
           6,
           6,
           7,
           0,
           0,
           12,
           5,
           32,
           0,
           0,
           13,
           0,
           8,
           9,
           0,
           1,
           14,
           3,
           3,
           6,
           4,
           0,
           0,
           10,
           21,
           21,
           3,
           8,
           4,
           7,
           3,
           0,
           0,
           5,
           0,
           19,
           13,
           2,
           0,
           5,
           14,
           7
          ]
         ]
        }
       ],
       "layout": {
        "template": {
         "data": {
          "bar": [
           {
            "error_x": {
             "color": "#2a3f5f"
            },
            "error_y": {
             "color": "#2a3f5f"
            },
            "marker": {
             "line": {
              "color": "#E5ECF6",
              "width": 0.5
             }
            },
            "type": "bar"
           }
          ],
          "barpolar": [
           {
            "marker": {
             "line": {
              "color": "#E5ECF6",
              "width": 0.5
             }
            },
            "type": "barpolar"
           }
          ],
          "carpet": [
           {
            "aaxis": {
             "endlinecolor": "#2a3f5f",
             "gridcolor": "white",
             "linecolor": "white",
             "minorgridcolor": "white",
             "startlinecolor": "#2a3f5f"
            },
            "baxis": {
             "endlinecolor": "#2a3f5f",
             "gridcolor": "white",
             "linecolor": "white",
             "minorgridcolor": "white",
             "startlinecolor": "#2a3f5f"
            },
            "type": "carpet"
           }
          ],
          "choropleth": [
           {
            "colorbar": {
             "outlinewidth": 0,
             "ticks": ""
            },
            "type": "choropleth"
           }
          ],
          "contour": [
           {
            "colorbar": {
             "outlinewidth": 0,
             "ticks": ""
            },
            "colorscale": [
             [
              0,
              "#0d0887"
             ],
             [
              0.1111111111111111,
              "#46039f"
             ],
             [
              0.2222222222222222,
              "#7201a8"
             ],
             [
              0.3333333333333333,
              "#9c179e"
             ],
             [
              0.4444444444444444,
              "#bd3786"
             ],
             [
              0.5555555555555556,
              "#d8576b"
             ],
             [
              0.6666666666666666,
              "#ed7953"
             ],
             [
              0.7777777777777778,
              "#fb9f3a"
             ],
             [
              0.8888888888888888,
              "#fdca26"
             ],
             [
              1,
              "#f0f921"
             ]
            ],
            "type": "contour"
           }
          ],
          "contourcarpet": [
           {
            "colorbar": {
             "outlinewidth": 0,
             "ticks": ""
            },
            "type": "contourcarpet"
           }
          ],
          "heatmap": [
           {
            "colorbar": {
             "outlinewidth": 0,
             "ticks": ""
            },
            "colorscale": [
             [
              0,
              "#0d0887"
             ],
             [
              0.1111111111111111,
              "#46039f"
             ],
             [
              0.2222222222222222,
              "#7201a8"
             ],
             [
              0.3333333333333333,
              "#9c179e"
             ],
             [
              0.4444444444444444,
              "#bd3786"
             ],
             [
              0.5555555555555556,
              "#d8576b"
             ],
             [
              0.6666666666666666,
              "#ed7953"
             ],
             [
              0.7777777777777778,
              "#fb9f3a"
             ],
             [
              0.8888888888888888,
              "#fdca26"
             ],
             [
              1,
              "#f0f921"
             ]
            ],
            "type": "heatmap"
           }
          ],
          "heatmapgl": [
           {
            "colorbar": {
             "outlinewidth": 0,
             "ticks": ""
            },
            "colorscale": [
             [
              0,
              "#0d0887"
             ],
             [
              0.1111111111111111,
              "#46039f"
             ],
             [
              0.2222222222222222,
              "#7201a8"
             ],
             [
              0.3333333333333333,
              "#9c179e"
             ],
             [
              0.4444444444444444,
              "#bd3786"
             ],
             [
              0.5555555555555556,
              "#d8576b"
             ],
             [
              0.6666666666666666,
              "#ed7953"
             ],
             [
              0.7777777777777778,
              "#fb9f3a"
             ],
             [
              0.8888888888888888,
              "#fdca26"
             ],
             [
              1,
              "#f0f921"
             ]
            ],
            "type": "heatmapgl"
           }
          ],
          "histogram": [
           {
            "marker": {
             "colorbar": {
              "outlinewidth": 0,
              "ticks": ""
             }
            },
            "type": "histogram"
           }
          ],
          "histogram2d": [
           {
            "colorbar": {
             "outlinewidth": 0,
             "ticks": ""
            },
            "colorscale": [
             [
              0,
              "#0d0887"
             ],
             [
              0.1111111111111111,
              "#46039f"
             ],
             [
              0.2222222222222222,
              "#7201a8"
             ],
             [
              0.3333333333333333,
              "#9c179e"
             ],
             [
              0.4444444444444444,
              "#bd3786"
             ],
             [
              0.5555555555555556,
              "#d8576b"
             ],
             [
              0.6666666666666666,
              "#ed7953"
             ],
             [
              0.7777777777777778,
              "#fb9f3a"
             ],
             [
              0.8888888888888888,
              "#fdca26"
             ],
             [
              1,
              "#f0f921"
             ]
            ],
            "type": "histogram2d"
           }
          ],
          "histogram2dcontour": [
           {
            "colorbar": {
             "outlinewidth": 0,
             "ticks": ""
            },
            "colorscale": [
             [
              0,
              "#0d0887"
             ],
             [
              0.1111111111111111,
              "#46039f"
             ],
             [
              0.2222222222222222,
              "#7201a8"
             ],
             [
              0.3333333333333333,
              "#9c179e"
             ],
             [
              0.4444444444444444,
              "#bd3786"
             ],
             [
              0.5555555555555556,
              "#d8576b"
             ],
             [
              0.6666666666666666,
              "#ed7953"
             ],
             [
              0.7777777777777778,
              "#fb9f3a"
             ],
             [
              0.8888888888888888,
              "#fdca26"
             ],
             [
              1,
              "#f0f921"
             ]
            ],
            "type": "histogram2dcontour"
           }
          ],
          "mesh3d": [
           {
            "colorbar": {
             "outlinewidth": 0,
             "ticks": ""
            },
            "type": "mesh3d"
           }
          ],
          "parcoords": [
           {
            "line": {
             "colorbar": {
              "outlinewidth": 0,
              "ticks": ""
             }
            },
            "type": "parcoords"
           }
          ],
          "pie": [
           {
            "automargin": true,
            "type": "pie"
           }
          ],
          "scatter": [
           {
            "marker": {
             "colorbar": {
              "outlinewidth": 0,
              "ticks": ""
             }
            },
            "type": "scatter"
           }
          ],
          "scatter3d": [
           {
            "line": {
             "colorbar": {
              "outlinewidth": 0,
              "ticks": ""
             }
            },
            "marker": {
             "colorbar": {
              "outlinewidth": 0,
              "ticks": ""
             }
            },
            "type": "scatter3d"
           }
          ],
          "scattercarpet": [
           {
            "marker": {
             "colorbar": {
              "outlinewidth": 0,
              "ticks": ""
             }
            },
            "type": "scattercarpet"
           }
          ],
          "scattergeo": [
           {
            "marker": {
             "colorbar": {
              "outlinewidth": 0,
              "ticks": ""
             }
            },
            "type": "scattergeo"
           }
          ],
          "scattergl": [
           {
            "marker": {
             "colorbar": {
              "outlinewidth": 0,
              "ticks": ""
             }
            },
            "type": "scattergl"
           }
          ],
          "scattermapbox": [
           {
            "marker": {
             "colorbar": {
              "outlinewidth": 0,
              "ticks": ""
             }
            },
            "type": "scattermapbox"
           }
          ],
          "scatterpolar": [
           {
            "marker": {
             "colorbar": {
              "outlinewidth": 0,
              "ticks": ""
             }
            },
            "type": "scatterpolar"
           }
          ],
          "scatterpolargl": [
           {
            "marker": {
             "colorbar": {
              "outlinewidth": 0,
              "ticks": ""
             }
            },
            "type": "scatterpolargl"
           }
          ],
          "scatterternary": [
           {
            "marker": {
             "colorbar": {
              "outlinewidth": 0,
              "ticks": ""
             }
            },
            "type": "scatterternary"
           }
          ],
          "surface": [
           {
            "colorbar": {
             "outlinewidth": 0,
             "ticks": ""
            },
            "colorscale": [
             [
              0,
              "#0d0887"
             ],
             [
              0.1111111111111111,
              "#46039f"
             ],
             [
              0.2222222222222222,
              "#7201a8"
             ],
             [
              0.3333333333333333,
              "#9c179e"
             ],
             [
              0.4444444444444444,
              "#bd3786"
             ],
             [
              0.5555555555555556,
              "#d8576b"
             ],
             [
              0.6666666666666666,
              "#ed7953"
             ],
             [
              0.7777777777777778,
              "#fb9f3a"
             ],
             [
              0.8888888888888888,
              "#fdca26"
             ],
             [
              1,
              "#f0f921"
             ]
            ],
            "type": "surface"
           }
          ],
          "table": [
           {
            "cells": {
             "fill": {
              "color": "#EBF0F8"
             },
             "line": {
              "color": "white"
             }
            },
            "header": {
             "fill": {
              "color": "#C8D4E3"
             },
             "line": {
              "color": "white"
             }
            },
            "type": "table"
           }
          ]
         },
         "layout": {
          "annotationdefaults": {
           "arrowcolor": "#2a3f5f",
           "arrowhead": 0,
           "arrowwidth": 1
          },
          "coloraxis": {
           "colorbar": {
            "outlinewidth": 0,
            "ticks": ""
           }
          },
          "colorscale": {
           "diverging": [
            [
             0,
             "#8e0152"
            ],
            [
             0.1,
             "#c51b7d"
            ],
            [
             0.2,
             "#de77ae"
            ],
            [
             0.3,
             "#f1b6da"
            ],
            [
             0.4,
             "#fde0ef"
            ],
            [
             0.5,
             "#f7f7f7"
            ],
            [
             0.6,
             "#e6f5d0"
            ],
            [
             0.7,
             "#b8e186"
            ],
            [
             0.8,
             "#7fbc41"
            ],
            [
             0.9,
             "#4d9221"
            ],
            [
             1,
             "#276419"
            ]
           ],
           "sequential": [
            [
             0,
             "#0d0887"
            ],
            [
             0.1111111111111111,
             "#46039f"
            ],
            [
             0.2222222222222222,
             "#7201a8"
            ],
            [
             0.3333333333333333,
             "#9c179e"
            ],
            [
             0.4444444444444444,
             "#bd3786"
            ],
            [
             0.5555555555555556,
             "#d8576b"
            ],
            [
             0.6666666666666666,
             "#ed7953"
            ],
            [
             0.7777777777777778,
             "#fb9f3a"
            ],
            [
             0.8888888888888888,
             "#fdca26"
            ],
            [
             1,
             "#f0f921"
            ]
           ],
           "sequentialminus": [
            [
             0,
             "#0d0887"
            ],
            [
             0.1111111111111111,
             "#46039f"
            ],
            [
             0.2222222222222222,
             "#7201a8"
            ],
            [
             0.3333333333333333,
             "#9c179e"
            ],
            [
             0.4444444444444444,
             "#bd3786"
            ],
            [
             0.5555555555555556,
             "#d8576b"
            ],
            [
             0.6666666666666666,
             "#ed7953"
            ],
            [
             0.7777777777777778,
             "#fb9f3a"
            ],
            [
             0.8888888888888888,
             "#fdca26"
            ],
            [
             1,
             "#f0f921"
            ]
           ]
          },
          "colorway": [
           "#636efa",
           "#EF553B",
           "#00cc96",
           "#ab63fa",
           "#FFA15A",
           "#19d3f3",
           "#FF6692",
           "#B6E880",
           "#FF97FF",
           "#FECB52"
          ],
          "font": {
           "color": "#2a3f5f"
          },
          "geo": {
           "bgcolor": "white",
           "lakecolor": "white",
           "landcolor": "#E5ECF6",
           "showlakes": true,
           "showland": true,
           "subunitcolor": "white"
          },
          "hoverlabel": {
           "align": "left"
          },
          "hovermode": "closest",
          "mapbox": {
           "style": "light"
          },
          "paper_bgcolor": "white",
          "plot_bgcolor": "#E5ECF6",
          "polar": {
           "angularaxis": {
            "gridcolor": "white",
            "linecolor": "white",
            "ticks": ""
           },
           "bgcolor": "#E5ECF6",
           "radialaxis": {
            "gridcolor": "white",
            "linecolor": "white",
            "ticks": ""
           }
          },
          "scene": {
           "xaxis": {
            "backgroundcolor": "#E5ECF6",
            "gridcolor": "white",
            "gridwidth": 2,
            "linecolor": "white",
            "showbackground": true,
            "ticks": "",
            "zerolinecolor": "white"
           },
           "yaxis": {
            "backgroundcolor": "#E5ECF6",
            "gridcolor": "white",
            "gridwidth": 2,
            "linecolor": "white",
            "showbackground": true,
            "ticks": "",
            "zerolinecolor": "white"
           },
           "zaxis": {
            "backgroundcolor": "#E5ECF6",
            "gridcolor": "white",
            "gridwidth": 2,
            "linecolor": "white",
            "showbackground": true,
            "ticks": "",
            "zerolinecolor": "white"
           }
          },
          "shapedefaults": {
           "line": {
            "color": "#2a3f5f"
           }
          },
          "ternary": {
           "aaxis": {
            "gridcolor": "white",
            "linecolor": "white",
            "ticks": ""
           },
           "baxis": {
            "gridcolor": "white",
            "linecolor": "white",
            "ticks": ""
           },
           "bgcolor": "#E5ECF6",
           "caxis": {
            "gridcolor": "white",
            "linecolor": "white",
            "ticks": ""
           }
          },
          "title": {
           "x": 0.05
          },
          "xaxis": {
           "automargin": true,
           "gridcolor": "white",
           "linecolor": "white",
           "ticks": "",
           "title": {
            "standoff": 15
           },
           "zerolinecolor": "white",
           "zerolinewidth": 2
          },
          "yaxis": {
           "automargin": true,
           "gridcolor": "white",
           "linecolor": "white",
           "ticks": "",
           "title": {
            "standoff": 15
           },
           "zerolinecolor": "white",
           "zerolinewidth": 2
          }
         }
        },
        "title": {
         "text": "Lines Spoken Per Episode"
        },
        "xaxis": {
         "nticks": 15
        }
       }
      },
      "text/html": [
       "<div>\n",
       "        \n",
       "        \n",
       "            <div id=\"0d966f11-d6c7-4f34-a82f-e02f9fcf66b8\" class=\"plotly-graph-div\" style=\"height:525px; width:100%;\"></div>\n",
       "            <script type=\"text/javascript\">\n",
       "                require([\"plotly\"], function(Plotly) {\n",
       "                    window.PLOTLYENV=window.PLOTLYENV || {};\n",
       "                    \n",
       "                if (document.getElementById(\"0d966f11-d6c7-4f34-a82f-e02f9fcf66b8\")) {\n",
       "                    Plotly.newPlot(\n",
       "                        '0d966f11-d6c7-4f34-a82f-e02f9fcf66b8',\n",
       "                        [{\"colorscale\": [[0.0, \"#440154\"], [0.1111111111111111, \"#482878\"], [0.2222222222222222, \"#3e4989\"], [0.3333333333333333, \"#31688e\"], [0.4444444444444444, \"#26828e\"], [0.5555555555555556, \"#1f9e89\"], [0.6666666666666666, \"#35b779\"], [0.7777777777777778, \"#6ece58\"], [0.8888888888888888, \"#b5de2b\"], [1.0, \"#fde725\"]], \"type\": \"heatmap\", \"x\": [\"Welcome to Republic City\", \"A Leaf in the Wind\", \"The Revelation\", \"The Voice in the Night\", \"The Spirit of Competition\", \"And the Winner Is...\", \"The Aftermath\", \"When Extremes Meet\", \"Out of the Past\", \"Turning the Tides\", \"Skeletons in the Closet\", \"Endgame\", \"Rebel Spirit\", \"The Southern Lights\", \"Civil Wars: Part 1\", \"Civil Wars: Part 2\", \"Peacekeepers\", \"The Sting\", \"Beginnings, Part 1\", \"Beginnings, Part 2\", \"The Guide\", \"A New Spiritual Age\", \"Night of a Thousand Stars\", \"Harmonic Convergence\", \"Darkness Falls\", \"Light in the Dark\", \"A Breath of Fresh Air\", \"Rebirth\", \"The Earth Queen\", \"In Harm's Way\", \"The Metal Clan\", \"Old Wounds\", \"Original Airbenders\", \"The Terror Within\", \"The Stakeout\", \"Long Live the Queen\", \"The Ultimatum\", \"Enter the Void\", \"Venom of the Red Lotus\", \"After All These Years\", \"Korra Alone\", \"The Coronation\", \"The Calling\", \"Enemy at the Gates\", \"The Battle of Zaofu\", \"Reunion\", \"Remembrances\", \"Beyond the Wilds\", \"Operation Beifong\", \"Kuvira's Gambit\", \"Day of the Colossus\", \"The Last Stand\"], \"y\": [\"Korra\", \"Tenzin\", \"Asami\"], \"z\": [[57, 66, 52, 40, 45, 27, 34, 49, 9, 16, 34, 25, 38, 40, 46, 47, 40, 3, 7, 4, 33, 44, 12, 25, 8, 32, 48, 39, 21, 33, 42, 14, 6, 26, 42, 30, 30, 19, 5, 4, 63, 20, 22, 16, 12, 44, 33, 53, 7, 30, 13, 30], [23, 37, 5, 23, 0, 25, 12, 15, 15, 37, 0, 8, 16, 6, 29, 14, 10, 0, 0, 0, 47, 9, 5, 16, 28, 24, 23, 24, 3, 20, 0, 0, 72, 0, 0, 0, 13, 12, 9, 5, 7, 4, 4, 1, 0, 5, 2, 9, 0, 11, 3, 8], [0, 0, 0, 18, 5, 0, 24, 14, 11, 15, 6, 6, 7, 0, 0, 12, 5, 32, 0, 0, 13, 0, 8, 9, 0, 1, 14, 3, 3, 6, 4, 0, 0, 10, 21, 21, 3, 8, 4, 7, 3, 0, 0, 5, 0, 19, 13, 2, 0, 5, 14, 7]]}],\n",
       "                        {\"template\": {\"data\": {\"bar\": [{\"error_x\": {\"color\": \"#2a3f5f\"}, \"error_y\": {\"color\": \"#2a3f5f\"}, \"marker\": {\"line\": {\"color\": \"#E5ECF6\", \"width\": 0.5}}, \"type\": \"bar\"}], \"barpolar\": [{\"marker\": {\"line\": {\"color\": \"#E5ECF6\", \"width\": 0.5}}, \"type\": \"barpolar\"}], \"carpet\": [{\"aaxis\": {\"endlinecolor\": \"#2a3f5f\", \"gridcolor\": \"white\", \"linecolor\": \"white\", \"minorgridcolor\": \"white\", \"startlinecolor\": \"#2a3f5f\"}, \"baxis\": {\"endlinecolor\": \"#2a3f5f\", \"gridcolor\": \"white\", \"linecolor\": \"white\", \"minorgridcolor\": \"white\", \"startlinecolor\": \"#2a3f5f\"}, \"type\": \"carpet\"}], \"choropleth\": [{\"colorbar\": {\"outlinewidth\": 0, \"ticks\": \"\"}, \"type\": \"choropleth\"}], \"contour\": [{\"colorbar\": {\"outlinewidth\": 0, \"ticks\": \"\"}, \"colorscale\": [[0.0, \"#0d0887\"], [0.1111111111111111, \"#46039f\"], [0.2222222222222222, \"#7201a8\"], [0.3333333333333333, \"#9c179e\"], [0.4444444444444444, \"#bd3786\"], [0.5555555555555556, \"#d8576b\"], [0.6666666666666666, \"#ed7953\"], [0.7777777777777778, \"#fb9f3a\"], [0.8888888888888888, \"#fdca26\"], [1.0, \"#f0f921\"]], \"type\": \"contour\"}], \"contourcarpet\": [{\"colorbar\": {\"outlinewidth\": 0, \"ticks\": \"\"}, \"type\": \"contourcarpet\"}], \"heatmap\": [{\"colorbar\": {\"outlinewidth\": 0, \"ticks\": \"\"}, \"colorscale\": [[0.0, \"#0d0887\"], [0.1111111111111111, \"#46039f\"], [0.2222222222222222, \"#7201a8\"], [0.3333333333333333, \"#9c179e\"], [0.4444444444444444, \"#bd3786\"], [0.5555555555555556, \"#d8576b\"], [0.6666666666666666, \"#ed7953\"], [0.7777777777777778, \"#fb9f3a\"], [0.8888888888888888, \"#fdca26\"], [1.0, \"#f0f921\"]], \"type\": \"heatmap\"}], \"heatmapgl\": [{\"colorbar\": {\"outlinewidth\": 0, \"ticks\": \"\"}, \"colorscale\": [[0.0, \"#0d0887\"], [0.1111111111111111, \"#46039f\"], [0.2222222222222222, \"#7201a8\"], [0.3333333333333333, \"#9c179e\"], [0.4444444444444444, \"#bd3786\"], [0.5555555555555556, \"#d8576b\"], [0.6666666666666666, \"#ed7953\"], [0.7777777777777778, \"#fb9f3a\"], [0.8888888888888888, \"#fdca26\"], [1.0, \"#f0f921\"]], \"type\": \"heatmapgl\"}], \"histogram\": [{\"marker\": {\"colorbar\": {\"outlinewidth\": 0, \"ticks\": \"\"}}, \"type\": \"histogram\"}], \"histogram2d\": [{\"colorbar\": {\"outlinewidth\": 0, \"ticks\": \"\"}, \"colorscale\": [[0.0, \"#0d0887\"], [0.1111111111111111, \"#46039f\"], [0.2222222222222222, \"#7201a8\"], [0.3333333333333333, \"#9c179e\"], [0.4444444444444444, \"#bd3786\"], [0.5555555555555556, \"#d8576b\"], [0.6666666666666666, \"#ed7953\"], [0.7777777777777778, \"#fb9f3a\"], [0.8888888888888888, \"#fdca26\"], [1.0, \"#f0f921\"]], \"type\": \"histogram2d\"}], \"histogram2dcontour\": [{\"colorbar\": {\"outlinewidth\": 0, \"ticks\": \"\"}, \"colorscale\": [[0.0, \"#0d0887\"], [0.1111111111111111, \"#46039f\"], [0.2222222222222222, \"#7201a8\"], [0.3333333333333333, \"#9c179e\"], [0.4444444444444444, \"#bd3786\"], [0.5555555555555556, \"#d8576b\"], [0.6666666666666666, \"#ed7953\"], [0.7777777777777778, \"#fb9f3a\"], [0.8888888888888888, \"#fdca26\"], [1.0, \"#f0f921\"]], \"type\": \"histogram2dcontour\"}], \"mesh3d\": [{\"colorbar\": {\"outlinewidth\": 0, \"ticks\": \"\"}, \"type\": \"mesh3d\"}], \"parcoords\": [{\"line\": {\"colorbar\": {\"outlinewidth\": 0, \"ticks\": \"\"}}, \"type\": \"parcoords\"}], \"pie\": [{\"automargin\": true, \"type\": \"pie\"}], \"scatter\": [{\"marker\": {\"colorbar\": {\"outlinewidth\": 0, \"ticks\": \"\"}}, \"type\": \"scatter\"}], \"scatter3d\": [{\"line\": {\"colorbar\": {\"outlinewidth\": 0, \"ticks\": \"\"}}, \"marker\": {\"colorbar\": {\"outlinewidth\": 0, \"ticks\": \"\"}}, \"type\": \"scatter3d\"}], \"scattercarpet\": [{\"marker\": {\"colorbar\": {\"outlinewidth\": 0, \"ticks\": \"\"}}, \"type\": \"scattercarpet\"}], \"scattergeo\": [{\"marker\": {\"colorbar\": {\"outlinewidth\": 0, \"ticks\": \"\"}}, \"type\": \"scattergeo\"}], \"scattergl\": [{\"marker\": {\"colorbar\": {\"outlinewidth\": 0, \"ticks\": \"\"}}, \"type\": \"scattergl\"}], \"scattermapbox\": [{\"marker\": {\"colorbar\": {\"outlinewidth\": 0, \"ticks\": \"\"}}, \"type\": \"scattermapbox\"}], \"scatterpolar\": [{\"marker\": {\"colorbar\": {\"outlinewidth\": 0, \"ticks\": \"\"}}, \"type\": \"scatterpolar\"}], \"scatterpolargl\": [{\"marker\": {\"colorbar\": {\"outlinewidth\": 0, \"ticks\": \"\"}}, \"type\": \"scatterpolargl\"}], \"scatterternary\": [{\"marker\": {\"colorbar\": {\"outlinewidth\": 0, \"ticks\": \"\"}}, \"type\": \"scatterternary\"}], \"surface\": [{\"colorbar\": {\"outlinewidth\": 0, \"ticks\": \"\"}, \"colorscale\": [[0.0, \"#0d0887\"], [0.1111111111111111, \"#46039f\"], [0.2222222222222222, \"#7201a8\"], [0.3333333333333333, \"#9c179e\"], [0.4444444444444444, \"#bd3786\"], [0.5555555555555556, \"#d8576b\"], [0.6666666666666666, \"#ed7953\"], [0.7777777777777778, \"#fb9f3a\"], [0.8888888888888888, \"#fdca26\"], [1.0, \"#f0f921\"]], \"type\": \"surface\"}], \"table\": [{\"cells\": {\"fill\": {\"color\": \"#EBF0F8\"}, \"line\": {\"color\": \"white\"}}, \"header\": {\"fill\": {\"color\": \"#C8D4E3\"}, \"line\": {\"color\": \"white\"}}, \"type\": \"table\"}]}, \"layout\": {\"annotationdefaults\": {\"arrowcolor\": \"#2a3f5f\", \"arrowhead\": 0, \"arrowwidth\": 1}, \"coloraxis\": {\"colorbar\": {\"outlinewidth\": 0, \"ticks\": \"\"}}, \"colorscale\": {\"diverging\": [[0, \"#8e0152\"], [0.1, \"#c51b7d\"], [0.2, \"#de77ae\"], [0.3, \"#f1b6da\"], [0.4, \"#fde0ef\"], [0.5, \"#f7f7f7\"], [0.6, \"#e6f5d0\"], [0.7, \"#b8e186\"], [0.8, \"#7fbc41\"], [0.9, \"#4d9221\"], [1, \"#276419\"]], \"sequential\": [[0.0, \"#0d0887\"], [0.1111111111111111, \"#46039f\"], [0.2222222222222222, \"#7201a8\"], [0.3333333333333333, \"#9c179e\"], [0.4444444444444444, \"#bd3786\"], [0.5555555555555556, \"#d8576b\"], [0.6666666666666666, \"#ed7953\"], [0.7777777777777778, \"#fb9f3a\"], [0.8888888888888888, \"#fdca26\"], [1.0, \"#f0f921\"]], \"sequentialminus\": [[0.0, \"#0d0887\"], [0.1111111111111111, \"#46039f\"], [0.2222222222222222, \"#7201a8\"], [0.3333333333333333, \"#9c179e\"], [0.4444444444444444, \"#bd3786\"], [0.5555555555555556, \"#d8576b\"], [0.6666666666666666, \"#ed7953\"], [0.7777777777777778, \"#fb9f3a\"], [0.8888888888888888, \"#fdca26\"], [1.0, \"#f0f921\"]]}, \"colorway\": [\"#636efa\", \"#EF553B\", \"#00cc96\", \"#ab63fa\", \"#FFA15A\", \"#19d3f3\", \"#FF6692\", \"#B6E880\", \"#FF97FF\", \"#FECB52\"], \"font\": {\"color\": \"#2a3f5f\"}, \"geo\": {\"bgcolor\": \"white\", \"lakecolor\": \"white\", \"landcolor\": \"#E5ECF6\", \"showlakes\": true, \"showland\": true, \"subunitcolor\": \"white\"}, \"hoverlabel\": {\"align\": \"left\"}, \"hovermode\": \"closest\", \"mapbox\": {\"style\": \"light\"}, \"paper_bgcolor\": \"white\", \"plot_bgcolor\": \"#E5ECF6\", \"polar\": {\"angularaxis\": {\"gridcolor\": \"white\", \"linecolor\": \"white\", \"ticks\": \"\"}, \"bgcolor\": \"#E5ECF6\", \"radialaxis\": {\"gridcolor\": \"white\", \"linecolor\": \"white\", \"ticks\": \"\"}}, \"scene\": {\"xaxis\": {\"backgroundcolor\": \"#E5ECF6\", \"gridcolor\": \"white\", \"gridwidth\": 2, \"linecolor\": \"white\", \"showbackground\": true, \"ticks\": \"\", \"zerolinecolor\": \"white\"}, \"yaxis\": {\"backgroundcolor\": \"#E5ECF6\", \"gridcolor\": \"white\", \"gridwidth\": 2, \"linecolor\": \"white\", \"showbackground\": true, \"ticks\": \"\", \"zerolinecolor\": \"white\"}, \"zaxis\": {\"backgroundcolor\": \"#E5ECF6\", \"gridcolor\": \"white\", \"gridwidth\": 2, \"linecolor\": \"white\", \"showbackground\": true, \"ticks\": \"\", \"zerolinecolor\": \"white\"}}, \"shapedefaults\": {\"line\": {\"color\": \"#2a3f5f\"}}, \"ternary\": {\"aaxis\": {\"gridcolor\": \"white\", \"linecolor\": \"white\", \"ticks\": \"\"}, \"baxis\": {\"gridcolor\": \"white\", \"linecolor\": \"white\", \"ticks\": \"\"}, \"bgcolor\": \"#E5ECF6\", \"caxis\": {\"gridcolor\": \"white\", \"linecolor\": \"white\", \"ticks\": \"\"}}, \"title\": {\"x\": 0.05}, \"xaxis\": {\"automargin\": true, \"gridcolor\": \"white\", \"linecolor\": \"white\", \"ticks\": \"\", \"title\": {\"standoff\": 15}, \"zerolinecolor\": \"white\", \"zerolinewidth\": 2}, \"yaxis\": {\"automargin\": true, \"gridcolor\": \"white\", \"linecolor\": \"white\", \"ticks\": \"\", \"title\": {\"standoff\": 15}, \"zerolinecolor\": \"white\", \"zerolinewidth\": 2}}}, \"title\": {\"text\": \"Lines Spoken Per Episode\"}, \"xaxis\": {\"nticks\": 15}},\n",
       "                        {\"responsive\": true}\n",
       "                    ).then(function(){\n",
       "                            \n",
       "var gd = document.getElementById('0d966f11-d6c7-4f34-a82f-e02f9fcf66b8');\n",
       "var x = new MutationObserver(function (mutations, observer) {{\n",
       "        var display = window.getComputedStyle(gd).display;\n",
       "        if (!display || display === 'none') {{\n",
       "            console.log([gd, 'removed!']);\n",
       "            Plotly.purge(gd);\n",
       "            observer.disconnect();\n",
       "        }}\n",
       "}});\n",
       "\n",
       "// Listen for the removal of the full notebook cells\n",
       "var notebookContainer = gd.closest('#notebook-container');\n",
       "if (notebookContainer) {{\n",
       "    x.observe(notebookContainer, {childList: true});\n",
       "}}\n",
       "\n",
       "// Listen for the clearing of the current output cell\n",
       "var outputEl = gd.closest('.output');\n",
       "if (outputEl) {{\n",
       "    x.observe(outputEl, {childList: true});\n",
       "}}\n",
       "\n",
       "                        })\n",
       "                };\n",
       "                });\n",
       "            </script>\n",
       "        </div>"
      ]
     },
     "metadata": {},
     "output_type": "display_data"
    }
   ],
   "source": [
    "character_dialogue_heatmap(main_characters)"
   ]
  },
  {
   "cell_type": "code",
   "execution_count": 192,
   "metadata": {},
   "outputs": [],
   "source": [
    "def character_dialogue_heatmap_per_season(season, charList):\n",
    "    line_stats = []\n",
    "    for i in range(0, len(charList)):\n",
    "        line_stats.append(plotCharacterFrequencyOverAllPerSeason(catchAlias(charList[i]), season))\n",
    "    episode_names = []\n",
    "    season_lengths = [12,14,13,13]\n",
    "    episodes_index = list(range(season_lengths[season-1]))\n",
    "    for j in range(season_lengths[season-1]):\n",
    "        episode_names.append(obtain_episode_name(season, j+1))\n",
    "    season_to_title = {1: \"Book 1: Air-\", 2: \"Book 2: Spirits-\", 3: \"Book 3: Change-\", 4: \"Book 4: Balance-\"}\n",
    "    fig = go.Figure(data=go.Heatmap(\n",
    "            z=line_stats,\n",
    "            x=episode_names,\n",
    "            y=charList,\n",
    "            colorscale='Viridis'))\n",
    "\n",
    "    fig.update_layout(\n",
    "        title=season_to_title[season] + \" Number Of Lines Spoken\",\n",
    "        xaxis_nticks=180)\n",
    "\n",
    "    fig.show()"
   ]
  },
  {
   "cell_type": "code",
   "execution_count": 193,
   "metadata": {},
   "outputs": [
    {
     "data": {
      "application/vnd.plotly.v1+json": {
       "config": {
        "plotlyServerURL": "https://plot.ly"
       },
       "data": [
        {
         "colorscale": [
          [
           0,
           "#440154"
          ],
          [
           0.1111111111111111,
           "#482878"
          ],
          [
           0.2222222222222222,
           "#3e4989"
          ],
          [
           0.3333333333333333,
           "#31688e"
          ],
          [
           0.4444444444444444,
           "#26828e"
          ],
          [
           0.5555555555555556,
           "#1f9e89"
          ],
          [
           0.6666666666666666,
           "#35b779"
          ],
          [
           0.7777777777777778,
           "#6ece58"
          ],
          [
           0.8888888888888888,
           "#b5de2b"
          ],
          [
           1,
           "#fde725"
          ]
         ],
         "type": "heatmap",
         "x": [
          "A Breath of Fresh Air",
          "Rebirth",
          "The Earth Queen",
          "In Harm's Way",
          "The Metal Clan",
          "Old Wounds",
          "Original Airbenders",
          "The Terror Within",
          "The Stakeout",
          "Long Live the Queen",
          "The Ultimatum",
          "Enter the Void",
          "Venom of the Red Lotus"
         ],
         "y": [
          "Zaheer",
          "P'Li",
          "Ming-Hua",
          "Ghazan"
         ],
         "z": [
          [
           8,
           3,
           0,
           1,
           12,
           4,
           0,
           3,
           27,
           16,
           7,
           22,
           12
          ],
          [
           0,
           0,
           2,
           5,
           0,
           2,
           0,
           0,
           1,
           1,
           0,
           6,
           0
          ],
          [
           0,
           2,
           0,
           1,
           0,
           2,
           0,
           1,
           3,
           5,
           1,
           3,
           2
          ],
          [
           0,
           2,
           0,
           1,
           0,
           2,
           0,
           1,
           1,
           5,
           0,
           4,
           4
          ]
         ]
        }
       ],
       "layout": {
        "template": {
         "data": {
          "bar": [
           {
            "error_x": {
             "color": "#2a3f5f"
            },
            "error_y": {
             "color": "#2a3f5f"
            },
            "marker": {
             "line": {
              "color": "#E5ECF6",
              "width": 0.5
             }
            },
            "type": "bar"
           }
          ],
          "barpolar": [
           {
            "marker": {
             "line": {
              "color": "#E5ECF6",
              "width": 0.5
             }
            },
            "type": "barpolar"
           }
          ],
          "carpet": [
           {
            "aaxis": {
             "endlinecolor": "#2a3f5f",
             "gridcolor": "white",
             "linecolor": "white",
             "minorgridcolor": "white",
             "startlinecolor": "#2a3f5f"
            },
            "baxis": {
             "endlinecolor": "#2a3f5f",
             "gridcolor": "white",
             "linecolor": "white",
             "minorgridcolor": "white",
             "startlinecolor": "#2a3f5f"
            },
            "type": "carpet"
           }
          ],
          "choropleth": [
           {
            "colorbar": {
             "outlinewidth": 0,
             "ticks": ""
            },
            "type": "choropleth"
           }
          ],
          "contour": [
           {
            "colorbar": {
             "outlinewidth": 0,
             "ticks": ""
            },
            "colorscale": [
             [
              0,
              "#0d0887"
             ],
             [
              0.1111111111111111,
              "#46039f"
             ],
             [
              0.2222222222222222,
              "#7201a8"
             ],
             [
              0.3333333333333333,
              "#9c179e"
             ],
             [
              0.4444444444444444,
              "#bd3786"
             ],
             [
              0.5555555555555556,
              "#d8576b"
             ],
             [
              0.6666666666666666,
              "#ed7953"
             ],
             [
              0.7777777777777778,
              "#fb9f3a"
             ],
             [
              0.8888888888888888,
              "#fdca26"
             ],
             [
              1,
              "#f0f921"
             ]
            ],
            "type": "contour"
           }
          ],
          "contourcarpet": [
           {
            "colorbar": {
             "outlinewidth": 0,
             "ticks": ""
            },
            "type": "contourcarpet"
           }
          ],
          "heatmap": [
           {
            "colorbar": {
             "outlinewidth": 0,
             "ticks": ""
            },
            "colorscale": [
             [
              0,
              "#0d0887"
             ],
             [
              0.1111111111111111,
              "#46039f"
             ],
             [
              0.2222222222222222,
              "#7201a8"
             ],
             [
              0.3333333333333333,
              "#9c179e"
             ],
             [
              0.4444444444444444,
              "#bd3786"
             ],
             [
              0.5555555555555556,
              "#d8576b"
             ],
             [
              0.6666666666666666,
              "#ed7953"
             ],
             [
              0.7777777777777778,
              "#fb9f3a"
             ],
             [
              0.8888888888888888,
              "#fdca26"
             ],
             [
              1,
              "#f0f921"
             ]
            ],
            "type": "heatmap"
           }
          ],
          "heatmapgl": [
           {
            "colorbar": {
             "outlinewidth": 0,
             "ticks": ""
            },
            "colorscale": [
             [
              0,
              "#0d0887"
             ],
             [
              0.1111111111111111,
              "#46039f"
             ],
             [
              0.2222222222222222,
              "#7201a8"
             ],
             [
              0.3333333333333333,
              "#9c179e"
             ],
             [
              0.4444444444444444,
              "#bd3786"
             ],
             [
              0.5555555555555556,
              "#d8576b"
             ],
             [
              0.6666666666666666,
              "#ed7953"
             ],
             [
              0.7777777777777778,
              "#fb9f3a"
             ],
             [
              0.8888888888888888,
              "#fdca26"
             ],
             [
              1,
              "#f0f921"
             ]
            ],
            "type": "heatmapgl"
           }
          ],
          "histogram": [
           {
            "marker": {
             "colorbar": {
              "outlinewidth": 0,
              "ticks": ""
             }
            },
            "type": "histogram"
           }
          ],
          "histogram2d": [
           {
            "colorbar": {
             "outlinewidth": 0,
             "ticks": ""
            },
            "colorscale": [
             [
              0,
              "#0d0887"
             ],
             [
              0.1111111111111111,
              "#46039f"
             ],
             [
              0.2222222222222222,
              "#7201a8"
             ],
             [
              0.3333333333333333,
              "#9c179e"
             ],
             [
              0.4444444444444444,
              "#bd3786"
             ],
             [
              0.5555555555555556,
              "#d8576b"
             ],
             [
              0.6666666666666666,
              "#ed7953"
             ],
             [
              0.7777777777777778,
              "#fb9f3a"
             ],
             [
              0.8888888888888888,
              "#fdca26"
             ],
             [
              1,
              "#f0f921"
             ]
            ],
            "type": "histogram2d"
           }
          ],
          "histogram2dcontour": [
           {
            "colorbar": {
             "outlinewidth": 0,
             "ticks": ""
            },
            "colorscale": [
             [
              0,
              "#0d0887"
             ],
             [
              0.1111111111111111,
              "#46039f"
             ],
             [
              0.2222222222222222,
              "#7201a8"
             ],
             [
              0.3333333333333333,
              "#9c179e"
             ],
             [
              0.4444444444444444,
              "#bd3786"
             ],
             [
              0.5555555555555556,
              "#d8576b"
             ],
             [
              0.6666666666666666,
              "#ed7953"
             ],
             [
              0.7777777777777778,
              "#fb9f3a"
             ],
             [
              0.8888888888888888,
              "#fdca26"
             ],
             [
              1,
              "#f0f921"
             ]
            ],
            "type": "histogram2dcontour"
           }
          ],
          "mesh3d": [
           {
            "colorbar": {
             "outlinewidth": 0,
             "ticks": ""
            },
            "type": "mesh3d"
           }
          ],
          "parcoords": [
           {
            "line": {
             "colorbar": {
              "outlinewidth": 0,
              "ticks": ""
             }
            },
            "type": "parcoords"
           }
          ],
          "pie": [
           {
            "automargin": true,
            "type": "pie"
           }
          ],
          "scatter": [
           {
            "marker": {
             "colorbar": {
              "outlinewidth": 0,
              "ticks": ""
             }
            },
            "type": "scatter"
           }
          ],
          "scatter3d": [
           {
            "line": {
             "colorbar": {
              "outlinewidth": 0,
              "ticks": ""
             }
            },
            "marker": {
             "colorbar": {
              "outlinewidth": 0,
              "ticks": ""
             }
            },
            "type": "scatter3d"
           }
          ],
          "scattercarpet": [
           {
            "marker": {
             "colorbar": {
              "outlinewidth": 0,
              "ticks": ""
             }
            },
            "type": "scattercarpet"
           }
          ],
          "scattergeo": [
           {
            "marker": {
             "colorbar": {
              "outlinewidth": 0,
              "ticks": ""
             }
            },
            "type": "scattergeo"
           }
          ],
          "scattergl": [
           {
            "marker": {
             "colorbar": {
              "outlinewidth": 0,
              "ticks": ""
             }
            },
            "type": "scattergl"
           }
          ],
          "scattermapbox": [
           {
            "marker": {
             "colorbar": {
              "outlinewidth": 0,
              "ticks": ""
             }
            },
            "type": "scattermapbox"
           }
          ],
          "scatterpolar": [
           {
            "marker": {
             "colorbar": {
              "outlinewidth": 0,
              "ticks": ""
             }
            },
            "type": "scatterpolar"
           }
          ],
          "scatterpolargl": [
           {
            "marker": {
             "colorbar": {
              "outlinewidth": 0,
              "ticks": ""
             }
            },
            "type": "scatterpolargl"
           }
          ],
          "scatterternary": [
           {
            "marker": {
             "colorbar": {
              "outlinewidth": 0,
              "ticks": ""
             }
            },
            "type": "scatterternary"
           }
          ],
          "surface": [
           {
            "colorbar": {
             "outlinewidth": 0,
             "ticks": ""
            },
            "colorscale": [
             [
              0,
              "#0d0887"
             ],
             [
              0.1111111111111111,
              "#46039f"
             ],
             [
              0.2222222222222222,
              "#7201a8"
             ],
             [
              0.3333333333333333,
              "#9c179e"
             ],
             [
              0.4444444444444444,
              "#bd3786"
             ],
             [
              0.5555555555555556,
              "#d8576b"
             ],
             [
              0.6666666666666666,
              "#ed7953"
             ],
             [
              0.7777777777777778,
              "#fb9f3a"
             ],
             [
              0.8888888888888888,
              "#fdca26"
             ],
             [
              1,
              "#f0f921"
             ]
            ],
            "type": "surface"
           }
          ],
          "table": [
           {
            "cells": {
             "fill": {
              "color": "#EBF0F8"
             },
             "line": {
              "color": "white"
             }
            },
            "header": {
             "fill": {
              "color": "#C8D4E3"
             },
             "line": {
              "color": "white"
             }
            },
            "type": "table"
           }
          ]
         },
         "layout": {
          "annotationdefaults": {
           "arrowcolor": "#2a3f5f",
           "arrowhead": 0,
           "arrowwidth": 1
          },
          "coloraxis": {
           "colorbar": {
            "outlinewidth": 0,
            "ticks": ""
           }
          },
          "colorscale": {
           "diverging": [
            [
             0,
             "#8e0152"
            ],
            [
             0.1,
             "#c51b7d"
            ],
            [
             0.2,
             "#de77ae"
            ],
            [
             0.3,
             "#f1b6da"
            ],
            [
             0.4,
             "#fde0ef"
            ],
            [
             0.5,
             "#f7f7f7"
            ],
            [
             0.6,
             "#e6f5d0"
            ],
            [
             0.7,
             "#b8e186"
            ],
            [
             0.8,
             "#7fbc41"
            ],
            [
             0.9,
             "#4d9221"
            ],
            [
             1,
             "#276419"
            ]
           ],
           "sequential": [
            [
             0,
             "#0d0887"
            ],
            [
             0.1111111111111111,
             "#46039f"
            ],
            [
             0.2222222222222222,
             "#7201a8"
            ],
            [
             0.3333333333333333,
             "#9c179e"
            ],
            [
             0.4444444444444444,
             "#bd3786"
            ],
            [
             0.5555555555555556,
             "#d8576b"
            ],
            [
             0.6666666666666666,
             "#ed7953"
            ],
            [
             0.7777777777777778,
             "#fb9f3a"
            ],
            [
             0.8888888888888888,
             "#fdca26"
            ],
            [
             1,
             "#f0f921"
            ]
           ],
           "sequentialminus": [
            [
             0,
             "#0d0887"
            ],
            [
             0.1111111111111111,
             "#46039f"
            ],
            [
             0.2222222222222222,
             "#7201a8"
            ],
            [
             0.3333333333333333,
             "#9c179e"
            ],
            [
             0.4444444444444444,
             "#bd3786"
            ],
            [
             0.5555555555555556,
             "#d8576b"
            ],
            [
             0.6666666666666666,
             "#ed7953"
            ],
            [
             0.7777777777777778,
             "#fb9f3a"
            ],
            [
             0.8888888888888888,
             "#fdca26"
            ],
            [
             1,
             "#f0f921"
            ]
           ]
          },
          "colorway": [
           "#636efa",
           "#EF553B",
           "#00cc96",
           "#ab63fa",
           "#FFA15A",
           "#19d3f3",
           "#FF6692",
           "#B6E880",
           "#FF97FF",
           "#FECB52"
          ],
          "font": {
           "color": "#2a3f5f"
          },
          "geo": {
           "bgcolor": "white",
           "lakecolor": "white",
           "landcolor": "#E5ECF6",
           "showlakes": true,
           "showland": true,
           "subunitcolor": "white"
          },
          "hoverlabel": {
           "align": "left"
          },
          "hovermode": "closest",
          "mapbox": {
           "style": "light"
          },
          "paper_bgcolor": "white",
          "plot_bgcolor": "#E5ECF6",
          "polar": {
           "angularaxis": {
            "gridcolor": "white",
            "linecolor": "white",
            "ticks": ""
           },
           "bgcolor": "#E5ECF6",
           "radialaxis": {
            "gridcolor": "white",
            "linecolor": "white",
            "ticks": ""
           }
          },
          "scene": {
           "xaxis": {
            "backgroundcolor": "#E5ECF6",
            "gridcolor": "white",
            "gridwidth": 2,
            "linecolor": "white",
            "showbackground": true,
            "ticks": "",
            "zerolinecolor": "white"
           },
           "yaxis": {
            "backgroundcolor": "#E5ECF6",
            "gridcolor": "white",
            "gridwidth": 2,
            "linecolor": "white",
            "showbackground": true,
            "ticks": "",
            "zerolinecolor": "white"
           },
           "zaxis": {
            "backgroundcolor": "#E5ECF6",
            "gridcolor": "white",
            "gridwidth": 2,
            "linecolor": "white",
            "showbackground": true,
            "ticks": "",
            "zerolinecolor": "white"
           }
          },
          "shapedefaults": {
           "line": {
            "color": "#2a3f5f"
           }
          },
          "ternary": {
           "aaxis": {
            "gridcolor": "white",
            "linecolor": "white",
            "ticks": ""
           },
           "baxis": {
            "gridcolor": "white",
            "linecolor": "white",
            "ticks": ""
           },
           "bgcolor": "#E5ECF6",
           "caxis": {
            "gridcolor": "white",
            "linecolor": "white",
            "ticks": ""
           }
          },
          "title": {
           "x": 0.05
          },
          "xaxis": {
           "automargin": true,
           "gridcolor": "white",
           "linecolor": "white",
           "ticks": "",
           "title": {
            "standoff": 15
           },
           "zerolinecolor": "white",
           "zerolinewidth": 2
          },
          "yaxis": {
           "automargin": true,
           "gridcolor": "white",
           "linecolor": "white",
           "ticks": "",
           "title": {
            "standoff": 15
           },
           "zerolinecolor": "white",
           "zerolinewidth": 2
          }
         }
        },
        "title": {
         "text": "Book 3: Change- Number Of Lines Spoken"
        },
        "xaxis": {
         "nticks": 180
        }
       }
      },
      "text/html": [
       "<div>\n",
       "        \n",
       "        \n",
       "            <div id=\"ab4fdd9e-73cc-4914-a441-57ab178181b0\" class=\"plotly-graph-div\" style=\"height:525px; width:100%;\"></div>\n",
       "            <script type=\"text/javascript\">\n",
       "                require([\"plotly\"], function(Plotly) {\n",
       "                    window.PLOTLYENV=window.PLOTLYENV || {};\n",
       "                    \n",
       "                if (document.getElementById(\"ab4fdd9e-73cc-4914-a441-57ab178181b0\")) {\n",
       "                    Plotly.newPlot(\n",
       "                        'ab4fdd9e-73cc-4914-a441-57ab178181b0',\n",
       "                        [{\"colorscale\": [[0.0, \"#440154\"], [0.1111111111111111, \"#482878\"], [0.2222222222222222, \"#3e4989\"], [0.3333333333333333, \"#31688e\"], [0.4444444444444444, \"#26828e\"], [0.5555555555555556, \"#1f9e89\"], [0.6666666666666666, \"#35b779\"], [0.7777777777777778, \"#6ece58\"], [0.8888888888888888, \"#b5de2b\"], [1.0, \"#fde725\"]], \"type\": \"heatmap\", \"x\": [\"A Breath of Fresh Air\", \"Rebirth\", \"The Earth Queen\", \"In Harm's Way\", \"The Metal Clan\", \"Old Wounds\", \"Original Airbenders\", \"The Terror Within\", \"The Stakeout\", \"Long Live the Queen\", \"The Ultimatum\", \"Enter the Void\", \"Venom of the Red Lotus\"], \"y\": [\"Zaheer\", \"P'Li\", \"Ming-Hua\", \"Ghazan\"], \"z\": [[8, 3, 0, 1, 12, 4, 0, 3, 27, 16, 7, 22, 12], [0, 0, 2, 5, 0, 2, 0, 0, 1, 1, 0, 6, 0], [0, 2, 0, 1, 0, 2, 0, 1, 3, 5, 1, 3, 2], [0, 2, 0, 1, 0, 2, 0, 1, 1, 5, 0, 4, 4]]}],\n",
       "                        {\"template\": {\"data\": {\"bar\": [{\"error_x\": {\"color\": \"#2a3f5f\"}, \"error_y\": {\"color\": \"#2a3f5f\"}, \"marker\": {\"line\": {\"color\": \"#E5ECF6\", \"width\": 0.5}}, \"type\": \"bar\"}], \"barpolar\": [{\"marker\": {\"line\": {\"color\": \"#E5ECF6\", \"width\": 0.5}}, \"type\": \"barpolar\"}], \"carpet\": [{\"aaxis\": {\"endlinecolor\": \"#2a3f5f\", \"gridcolor\": \"white\", \"linecolor\": \"white\", \"minorgridcolor\": \"white\", \"startlinecolor\": \"#2a3f5f\"}, \"baxis\": {\"endlinecolor\": \"#2a3f5f\", \"gridcolor\": \"white\", \"linecolor\": \"white\", \"minorgridcolor\": \"white\", \"startlinecolor\": \"#2a3f5f\"}, \"type\": \"carpet\"}], \"choropleth\": [{\"colorbar\": {\"outlinewidth\": 0, \"ticks\": \"\"}, \"type\": \"choropleth\"}], \"contour\": [{\"colorbar\": {\"outlinewidth\": 0, \"ticks\": \"\"}, \"colorscale\": [[0.0, \"#0d0887\"], [0.1111111111111111, \"#46039f\"], [0.2222222222222222, \"#7201a8\"], [0.3333333333333333, \"#9c179e\"], [0.4444444444444444, \"#bd3786\"], [0.5555555555555556, \"#d8576b\"], [0.6666666666666666, \"#ed7953\"], [0.7777777777777778, \"#fb9f3a\"], [0.8888888888888888, \"#fdca26\"], [1.0, \"#f0f921\"]], \"type\": \"contour\"}], \"contourcarpet\": [{\"colorbar\": {\"outlinewidth\": 0, \"ticks\": \"\"}, \"type\": \"contourcarpet\"}], \"heatmap\": [{\"colorbar\": {\"outlinewidth\": 0, \"ticks\": \"\"}, \"colorscale\": [[0.0, \"#0d0887\"], [0.1111111111111111, \"#46039f\"], [0.2222222222222222, \"#7201a8\"], [0.3333333333333333, \"#9c179e\"], [0.4444444444444444, \"#bd3786\"], [0.5555555555555556, \"#d8576b\"], [0.6666666666666666, \"#ed7953\"], [0.7777777777777778, \"#fb9f3a\"], [0.8888888888888888, \"#fdca26\"], [1.0, \"#f0f921\"]], \"type\": \"heatmap\"}], \"heatmapgl\": [{\"colorbar\": {\"outlinewidth\": 0, \"ticks\": \"\"}, \"colorscale\": [[0.0, \"#0d0887\"], [0.1111111111111111, \"#46039f\"], [0.2222222222222222, \"#7201a8\"], [0.3333333333333333, \"#9c179e\"], [0.4444444444444444, \"#bd3786\"], [0.5555555555555556, \"#d8576b\"], [0.6666666666666666, \"#ed7953\"], [0.7777777777777778, \"#fb9f3a\"], [0.8888888888888888, \"#fdca26\"], [1.0, \"#f0f921\"]], \"type\": \"heatmapgl\"}], \"histogram\": [{\"marker\": {\"colorbar\": {\"outlinewidth\": 0, \"ticks\": \"\"}}, \"type\": \"histogram\"}], \"histogram2d\": [{\"colorbar\": {\"outlinewidth\": 0, \"ticks\": \"\"}, \"colorscale\": [[0.0, \"#0d0887\"], [0.1111111111111111, \"#46039f\"], [0.2222222222222222, \"#7201a8\"], [0.3333333333333333, \"#9c179e\"], [0.4444444444444444, \"#bd3786\"], [0.5555555555555556, \"#d8576b\"], [0.6666666666666666, \"#ed7953\"], [0.7777777777777778, \"#fb9f3a\"], [0.8888888888888888, \"#fdca26\"], [1.0, \"#f0f921\"]], \"type\": \"histogram2d\"}], \"histogram2dcontour\": [{\"colorbar\": {\"outlinewidth\": 0, \"ticks\": \"\"}, \"colorscale\": [[0.0, \"#0d0887\"], [0.1111111111111111, \"#46039f\"], [0.2222222222222222, \"#7201a8\"], [0.3333333333333333, \"#9c179e\"], [0.4444444444444444, \"#bd3786\"], [0.5555555555555556, \"#d8576b\"], [0.6666666666666666, \"#ed7953\"], [0.7777777777777778, \"#fb9f3a\"], [0.8888888888888888, \"#fdca26\"], [1.0, \"#f0f921\"]], \"type\": \"histogram2dcontour\"}], \"mesh3d\": [{\"colorbar\": {\"outlinewidth\": 0, \"ticks\": \"\"}, \"type\": \"mesh3d\"}], \"parcoords\": [{\"line\": {\"colorbar\": {\"outlinewidth\": 0, \"ticks\": \"\"}}, \"type\": \"parcoords\"}], \"pie\": [{\"automargin\": true, \"type\": \"pie\"}], \"scatter\": [{\"marker\": {\"colorbar\": {\"outlinewidth\": 0, \"ticks\": \"\"}}, \"type\": \"scatter\"}], \"scatter3d\": [{\"line\": {\"colorbar\": {\"outlinewidth\": 0, \"ticks\": \"\"}}, \"marker\": {\"colorbar\": {\"outlinewidth\": 0, \"ticks\": \"\"}}, \"type\": \"scatter3d\"}], \"scattercarpet\": [{\"marker\": {\"colorbar\": {\"outlinewidth\": 0, \"ticks\": \"\"}}, \"type\": \"scattercarpet\"}], \"scattergeo\": [{\"marker\": {\"colorbar\": {\"outlinewidth\": 0, \"ticks\": \"\"}}, \"type\": \"scattergeo\"}], \"scattergl\": [{\"marker\": {\"colorbar\": {\"outlinewidth\": 0, \"ticks\": \"\"}}, \"type\": \"scattergl\"}], \"scattermapbox\": [{\"marker\": {\"colorbar\": {\"outlinewidth\": 0, \"ticks\": \"\"}}, \"type\": \"scattermapbox\"}], \"scatterpolar\": [{\"marker\": {\"colorbar\": {\"outlinewidth\": 0, \"ticks\": \"\"}}, \"type\": \"scatterpolar\"}], \"scatterpolargl\": [{\"marker\": {\"colorbar\": {\"outlinewidth\": 0, \"ticks\": \"\"}}, \"type\": \"scatterpolargl\"}], \"scatterternary\": [{\"marker\": {\"colorbar\": {\"outlinewidth\": 0, \"ticks\": \"\"}}, \"type\": \"scatterternary\"}], \"surface\": [{\"colorbar\": {\"outlinewidth\": 0, \"ticks\": \"\"}, \"colorscale\": [[0.0, \"#0d0887\"], [0.1111111111111111, \"#46039f\"], [0.2222222222222222, \"#7201a8\"], [0.3333333333333333, \"#9c179e\"], [0.4444444444444444, \"#bd3786\"], [0.5555555555555556, \"#d8576b\"], [0.6666666666666666, \"#ed7953\"], [0.7777777777777778, \"#fb9f3a\"], [0.8888888888888888, \"#fdca26\"], [1.0, \"#f0f921\"]], \"type\": \"surface\"}], \"table\": [{\"cells\": {\"fill\": {\"color\": \"#EBF0F8\"}, \"line\": {\"color\": \"white\"}}, \"header\": {\"fill\": {\"color\": \"#C8D4E3\"}, \"line\": {\"color\": \"white\"}}, \"type\": \"table\"}]}, \"layout\": {\"annotationdefaults\": {\"arrowcolor\": \"#2a3f5f\", \"arrowhead\": 0, \"arrowwidth\": 1}, \"coloraxis\": {\"colorbar\": {\"outlinewidth\": 0, \"ticks\": \"\"}}, \"colorscale\": {\"diverging\": [[0, \"#8e0152\"], [0.1, \"#c51b7d\"], [0.2, \"#de77ae\"], [0.3, \"#f1b6da\"], [0.4, \"#fde0ef\"], [0.5, \"#f7f7f7\"], [0.6, \"#e6f5d0\"], [0.7, \"#b8e186\"], [0.8, \"#7fbc41\"], [0.9, \"#4d9221\"], [1, \"#276419\"]], \"sequential\": [[0.0, \"#0d0887\"], [0.1111111111111111, \"#46039f\"], [0.2222222222222222, \"#7201a8\"], [0.3333333333333333, \"#9c179e\"], [0.4444444444444444, \"#bd3786\"], [0.5555555555555556, \"#d8576b\"], [0.6666666666666666, \"#ed7953\"], [0.7777777777777778, \"#fb9f3a\"], [0.8888888888888888, \"#fdca26\"], [1.0, \"#f0f921\"]], \"sequentialminus\": [[0.0, \"#0d0887\"], [0.1111111111111111, \"#46039f\"], [0.2222222222222222, \"#7201a8\"], [0.3333333333333333, \"#9c179e\"], [0.4444444444444444, \"#bd3786\"], [0.5555555555555556, \"#d8576b\"], [0.6666666666666666, \"#ed7953\"], [0.7777777777777778, \"#fb9f3a\"], [0.8888888888888888, \"#fdca26\"], [1.0, \"#f0f921\"]]}, \"colorway\": [\"#636efa\", \"#EF553B\", \"#00cc96\", \"#ab63fa\", \"#FFA15A\", \"#19d3f3\", \"#FF6692\", \"#B6E880\", \"#FF97FF\", \"#FECB52\"], \"font\": {\"color\": \"#2a3f5f\"}, \"geo\": {\"bgcolor\": \"white\", \"lakecolor\": \"white\", \"landcolor\": \"#E5ECF6\", \"showlakes\": true, \"showland\": true, \"subunitcolor\": \"white\"}, \"hoverlabel\": {\"align\": \"left\"}, \"hovermode\": \"closest\", \"mapbox\": {\"style\": \"light\"}, \"paper_bgcolor\": \"white\", \"plot_bgcolor\": \"#E5ECF6\", \"polar\": {\"angularaxis\": {\"gridcolor\": \"white\", \"linecolor\": \"white\", \"ticks\": \"\"}, \"bgcolor\": \"#E5ECF6\", \"radialaxis\": {\"gridcolor\": \"white\", \"linecolor\": \"white\", \"ticks\": \"\"}}, \"scene\": {\"xaxis\": {\"backgroundcolor\": \"#E5ECF6\", \"gridcolor\": \"white\", \"gridwidth\": 2, \"linecolor\": \"white\", \"showbackground\": true, \"ticks\": \"\", \"zerolinecolor\": \"white\"}, \"yaxis\": {\"backgroundcolor\": \"#E5ECF6\", \"gridcolor\": \"white\", \"gridwidth\": 2, \"linecolor\": \"white\", \"showbackground\": true, \"ticks\": \"\", \"zerolinecolor\": \"white\"}, \"zaxis\": {\"backgroundcolor\": \"#E5ECF6\", \"gridcolor\": \"white\", \"gridwidth\": 2, \"linecolor\": \"white\", \"showbackground\": true, \"ticks\": \"\", \"zerolinecolor\": \"white\"}}, \"shapedefaults\": {\"line\": {\"color\": \"#2a3f5f\"}}, \"ternary\": {\"aaxis\": {\"gridcolor\": \"white\", \"linecolor\": \"white\", \"ticks\": \"\"}, \"baxis\": {\"gridcolor\": \"white\", \"linecolor\": \"white\", \"ticks\": \"\"}, \"bgcolor\": \"#E5ECF6\", \"caxis\": {\"gridcolor\": \"white\", \"linecolor\": \"white\", \"ticks\": \"\"}}, \"title\": {\"x\": 0.05}, \"xaxis\": {\"automargin\": true, \"gridcolor\": \"white\", \"linecolor\": \"white\", \"ticks\": \"\", \"title\": {\"standoff\": 15}, \"zerolinecolor\": \"white\", \"zerolinewidth\": 2}, \"yaxis\": {\"automargin\": true, \"gridcolor\": \"white\", \"linecolor\": \"white\", \"ticks\": \"\", \"title\": {\"standoff\": 15}, \"zerolinecolor\": \"white\", \"zerolinewidth\": 2}}}, \"title\": {\"text\": \"Book 3: Change- Number Of Lines Spoken\"}, \"xaxis\": {\"nticks\": 180}},\n",
       "                        {\"responsive\": true}\n",
       "                    ).then(function(){\n",
       "                            \n",
       "var gd = document.getElementById('ab4fdd9e-73cc-4914-a441-57ab178181b0');\n",
       "var x = new MutationObserver(function (mutations, observer) {{\n",
       "        var display = window.getComputedStyle(gd).display;\n",
       "        if (!display || display === 'none') {{\n",
       "            console.log([gd, 'removed!']);\n",
       "            Plotly.purge(gd);\n",
       "            observer.disconnect();\n",
       "        }}\n",
       "}});\n",
       "\n",
       "// Listen for the removal of the full notebook cells\n",
       "var notebookContainer = gd.closest('#notebook-container');\n",
       "if (notebookContainer) {{\n",
       "    x.observe(notebookContainer, {childList: true});\n",
       "}}\n",
       "\n",
       "// Listen for the clearing of the current output cell\n",
       "var outputEl = gd.closest('.output');\n",
       "if (outputEl) {{\n",
       "    x.observe(outputEl, {childList: true});\n",
       "}}\n",
       "\n",
       "                        })\n",
       "                };\n",
       "                });\n",
       "            </script>\n",
       "        </div>"
      ]
     },
     "metadata": {},
     "output_type": "display_data"
    }
   ],
   "source": [
    "character_dialogue_heatmap_per_season(3, [\"Zaheer\", \"P'Li\", \"Ming-Hua\", \"Ghazan\"])"
   ]
  },
  {
   "cell_type": "code",
   "execution_count": null,
   "metadata": {},
   "outputs": [],
   "source": []
  },
  {
   "cell_type": "code",
   "execution_count": null,
   "metadata": {},
   "outputs": [],
   "source": []
  },
  {
   "cell_type": "code",
   "execution_count": 194,
   "metadata": {},
   "outputs": [],
   "source": [
    "def removeItalics(string):\n",
    "    start = 0\n",
    "    first = True\n",
    "    noItalics = \"\"\n",
    "    i = string.find('<i>(')\n",
    "    j = string.find(')</i>')\n",
    "    noItalics = string[0:i]\n",
    "    if (string.find('<i>(', j+5) == -1):\n",
    "        noItalics = noItalics + string[j+4:]\n",
    "    while(string.find('<i>(', j+5) != -1):\n",
    "        prev = j+5\n",
    "        i = string.find('<i>(', j+5)\n",
    "        noItalics = noItalics + \" \" + string[prev:i] \n",
    "        j = string.find(')</i>', i+4)\n",
    "        if ((string.find('<i>(', j+5) == -1) or (j == -1)):\n",
    "            noItalics = noItalics + string[j+5:]\n",
    "            break\n",
    "    return noItalics"
   ]
  },
  {
   "cell_type": "code",
   "execution_count": 195,
   "metadata": {},
   "outputs": [],
   "source": [
    "def separateCharacterAndQuote(line):\n",
    "    start = line.find('<b>')\n",
    "    end = line.find('</b>')\n",
    "    endQuote = line.find('\\\\r')\n",
    "    if (endQuote == -1):\n",
    "        endQuote = line.find('\\r')\n",
    "    character_name = line[start+3:end-1]\n",
    "    quote = line[end+4:endQuote]\n",
    "    #print(\"Character Name: \" + character_name)\n",
    "    quote = quote.replace(\"\\\\'\", \"'\")\n",
    "    quote = quote.replace(\"\\\\\\'\", \"'\")\n",
    "    quote = quote.replace(\"\\'\", \"'\")\n",
    "    quote = quote.replace(\"<i>\", \"\")\n",
    "    quote = quote.replace(\"</i>\" , \"\")\n",
    "    quote = quote.strip()\n",
    "    character_name = character_name.replace(\"\\\\'\", \"'\")\n",
    "    return character_name, quote\n",
    "    \n",
    "    "
   ]
  },
  {
   "cell_type": "code",
   "execution_count": 196,
   "metadata": {},
   "outputs": [
    {
     "name": "stdout",
     "output_type": "stream",
     "text": [
      "character name: Kya\n",
      "quote: There's no sign of her anywhere.\n"
     ]
    }
   ],
   "source": [
    "qwot = \"<b>Kya:</b> <i>There's no sign of her anywhere.</i>\\\\r\"\n",
    "character_name, quote = separateCharacterAndQuote(qwot)\n",
    "print(\"character name: \" + character_name)\n",
    "print(\"quote: \" + quote)"
   ]
  },
  {
   "cell_type": "code",
   "execution_count": 197,
   "metadata": {},
   "outputs": [
    {
     "data": {
      "text/plain": [
       "('Korra',\n",
       " \"Man, I got a good feeling about tonight. I don't care if we are the underdogs, we can take those pompous Wolfbats.\")"
      ]
     },
     "execution_count": 197,
     "metadata": {},
     "output_type": "execute_result"
    }
   ],
   "source": [
    "separateCharacterAndQuote(\"<b>Korra:</b> Man, I got a good feeling about tonight. I don\\'t care if we are the underdogs, we can take those pompous Wolfbats. \\r<br>\")"
   ]
  },
  {
   "cell_type": "code",
   "execution_count": 198,
   "metadata": {},
   "outputs": [
    {
     "data": {
      "text/plain": [
       "('Radio Host',\n",
       " \"...brought to you by Cabbage Corp. Republic City's trusted name in technology for over fifty years.\")"
      ]
     },
     "execution_count": 198,
     "metadata": {},
     "output_type": "execute_result"
    }
   ],
   "source": [
    "separateCharacterAndQuote(\"<b>Radio Host:</b> ...brought to you by Cabbage Corp. Republic City\\'s trusted name in technology for over fifty years.\\r<br>\\r<br> \\r<br>\\r<br>\")"
   ]
  },
  {
   "cell_type": "code",
   "execution_count": 199,
   "metadata": {},
   "outputs": [],
   "source": [
    "import time\n"
   ]
  },
  {
   "cell_type": "code",
   "execution_count": 200,
   "metadata": {},
   "outputs": [
    {
     "name": "stdout",
     "output_type": "stream",
     "text": [
      "This process took: 2.8982764319807757 seconds.\n"
     ]
    }
   ],
   "source": [
    "episode_quote_tracker = {}\n",
    "lines = []\n",
    "season_to_ep = {1: 12, 2: 14, 3: 13, 4: 13}\n",
    "episode_num = 1\n",
    "start_time = time.perf_counter()\n",
    "#1. character\n",
    "#2. quote \n",
    "#3. bending type\n",
    "#4. gender\n",
    "for season in range(1,5):\n",
    "    numEps = season_to_ep[season]\n",
    "    for episode in range(1, numEps+1):\n",
    "        episode_quote_list = []\n",
    "        epString = 'http://korra.avatarspirit.net/transcripts.php?num='\n",
    "        epString = epString + str(j)\n",
    "        val = str(episode)\n",
    "        if (episode < 10):\n",
    "            val = \"0\" + val\n",
    "        epString = epString + val\n",
    "        resp = http.request('GET', epString)\n",
    "        no_italics = removeItalics(str(resp.data))\n",
    "        length = len(no_italics)\n",
    "        i = no_italics.find('Act I')\n",
    "        bold = no_italics.find('<b>', i+4)\n",
    "        while (bold != -1):\n",
    "            store = bold\n",
    "            bold = no_italics.find('<b>', bold+3)\n",
    "            line = no_italics[store:bold]\n",
    "            character, quote = separateCharacterAndQuote(line)\n",
    "            gender = getGender(catchAlias(character))\n",
    "            element = typeOfBender(catchAlias(character))\n",
    "            rating = seasons_dict_list[season-1][episode][1]\n",
    "            episode_quote_list.append([character, quote, gender, element, rating])\n",
    "        episode_quote_tracker[episode_num] = episode_quote_list\n",
    "        episode_num += 1\n",
    "end_time = time.perf_counter()\n",
    "print(\"This process took: \" + str((end_time - start_time)) + \" seconds.\")"
   ]
  },
  {
   "cell_type": "code",
   "execution_count": 201,
   "metadata": {},
   "outputs": [
    {
     "name": "stdout",
     "output_type": "stream",
     "text": [
      "8.4\n",
      "8.4\n",
      "8.5\n",
      "8.3\n",
      "8.0\n",
      "8.9\n",
      "8.5\n",
      "8.7\n",
      "8.9\n",
      "8.9\n",
      "8.9\n",
      "9.3\n",
      "8.0\n",
      "7.9\n",
      "7.8\n",
      "8.1\n",
      "7.8\n",
      "7.8\n",
      "9.3\n",
      "9.6\n",
      "8.2\n",
      "8.7\n",
      "8.4\n",
      "8.5\n",
      "8.7\n",
      "8.4\n",
      "8.6\n",
      "8.7\n",
      "8.4\n",
      "8.6\n",
      "8.6\n",
      "8.6\n",
      "8.3\n",
      "8.9\n",
      "8.8\n",
      "9.0\n",
      "9.3\n",
      "9.4\n",
      "9.6\n",
      "8.8\n",
      "9.3\n",
      "8.5\n",
      "8.7\n",
      "8.6\n",
      "8.6\n",
      "8.3\n",
      "6.0\n",
      "8.6\n",
      "9.0\n",
      "8.7\n",
      "9.2\n",
      "9.0\n"
     ]
    }
   ],
   "source": [
    "for episode in range(1, 13):\n",
    "    print(seasons_dict_list[0][episode][1])\n",
    "for episode in range(1, 15):\n",
    "    print(seasons_dict_list[1][episode][1])\n",
    "for episode in range(1, 14):\n",
    "    print(seasons_dict_list[2][episode][1])\n",
    "for episode in range(1, 14):\n",
    "    print(seasons_dict_list[3][episode][1])"
   ]
  },
  {
   "cell_type": "code",
   "execution_count": 202,
   "metadata": {},
   "outputs": [],
   "source": [
    "#What Visualizations Do We Want to Accomplish?\n",
    "\n",
    "#What are the 10 most spoken by each character (n-gram) 1 <= n <= 3\n",
    "#Percent of Lines spoken by each type of character per episode (heat map)\n",
    "#How many lines does each character have per episode?\n",
    "#Look up by phrase/line, see what characters speak that phrase the most?\n",
    "\n",
    "#Viewership per episode (if obtainable)\n",
    "#IMDB Rating per episode (over time for each season)\n",
    "\n",
    "#Possible AI Things?\n",
    "#Make a \n",
    "\n",
    "\n"
   ]
  },
  {
   "cell_type": "code",
   "execution_count": 203,
   "metadata": {},
   "outputs": [],
   "source": [
    "def removePunctuation(line):\n",
    "    punctuation = [\".\", \",\", \"...\", \"!\", \"?\"]\n",
    "    for p in punctuation:\n",
    "        line = line.replace(p, \"\")\n",
    "    return line\n"
   ]
  },
  {
   "cell_type": "code",
   "execution_count": 204,
   "metadata": {},
   "outputs": [],
   "source": [
    "#What are the 10 most and least common words spoken by each character\n",
    "def getTopTenMostSpokenWords(characterName, filterUnwanted=True):\n",
    "    word_count = Counter()\n",
    "    exclude_words = [\"i\", \"you're\", \"he'll\", \"i'll\", \"we'll\", \"it's\", \"we\", \"who\", \"what\", \"where\", \"when\", \"why\", \"how\", \"yes\", \"no\", \"on\",\n",
    "    \"i'm\", \"not\", \"you\", \"me\", \"they\", \n",
    "    \"he\", \"she\", \"it\", \"my\", \"this\", \"that\", \"of\", \"at\",\n",
    "    \"the\", \"is\", \"(\", \")\", \"in\", \"be\", \"to\", \n",
    "    \"your\", \"has\", \"have\", \"under\", \"above\", \n",
    "    \"below\", \"a\", \"so\",\"and\", \"but\", \"for\", \"nor\", \"yet\", \"or\"]\n",
    "    banWords = exclude_words if filterUnwanted else []\n",
    "    for episode in range(1, len(episode_quote_tracker)+1):\n",
    "        script = episode_quote_tracker[episode]\n",
    "        for line in script:\n",
    "            character = line[0] \n",
    "            character = catchAlias(character)\n",
    "            if (characterName == character):\n",
    "                quote = line[1]\n",
    "                noPunctuation = removePunctuation(quote)\n",
    "                listOfWords = noPunctuation.split(\" \")\n",
    "                for word in listOfWords:\n",
    "                    if (word.lower() not in banWords and len(word) > 0):\n",
    "                        word_count[word.lower()] += 1            \n",
    "    mcw = word_count.most_common(10)\n",
    "    x_list = []\n",
    "    y_list = []\n",
    "    for i in range(0, len(mcw)):\n",
    "        x_list.append(mcw[i][0])\n",
    "        y_list.append(mcw[i][1])\n",
    "    matplt.bar(x_list, y_list)\n",
    "    matplt.xticks(rotation=90)\n",
    "    xLabel = characterName + \"'s Most Common Words\"\n",
    "    appendix = \"(no stop words)\" if filterUnwanted else \"\";\n",
    "    xLabelFinal = xLabel + appendix\n",
    "    matplt.xlabel(xLabelFinal)\n",
    "    matplt.ylabel(\"Frequency\")\n",
    "    matplt.show()\n",
    "    "
   ]
  },
  {
   "cell_type": "code",
   "execution_count": 205,
   "metadata": {},
   "outputs": [
    {
     "data": {
      "image/png": "[encoded data removed]",
      "text/plain": [
       "<Figure size 432x288 with 1 Axes>"
      ]
     },
     "metadata": {
      "needs_background": "light"
     },
     "output_type": "display_data"
    }
   ],
   "source": [
    "getTopTenMostSpokenWords(\"P'Li\", True)"
   ]
  },
  {
   "cell_type": "code",
   "execution_count": 206,
   "metadata": {},
   "outputs": [],
   "source": [
    "from collections import defaultdict"
   ]
  },
  {
   "cell_type": "code",
   "execution_count": 207,
   "metadata": {},
   "outputs": [],
   "source": [
    "def getTopTenMostSpokenTwoGram(characterName):\n",
    "    word_count = Counter()\n",
    "    for episode in range(1, len(episode_quote_tracker)+1):\n",
    "        script = episode_quote_tracker[episode]\n",
    "        for line in script:\n",
    "            character = line[0] \n",
    "            character = catchAlias(character)\n",
    "            if (characterName == character):\n",
    "                quote = line[1]\n",
    "                noPunctuation = removePunctuation(quote)\n",
    "                listOfWords = noPunctuation.split(\" \")\n",
    "                if (\" \" in listOfWords):\n",
    "                    listOfWords.remove(\" \")\n",
    "                if (\"\" in listOfWords):\n",
    "                    listOfWords.remove(\"\")\n",
    "                if (\"(\" in listOfWords):   \n",
    "                    listOfWords.remove(\"(\")\n",
    "                if (\")\" in listOfWords):\n",
    "                    listOfWords.remove(\")\")\n",
    "                for i in range(0, len(listOfWords)-1):\n",
    "                    prev = listOfWords[i].lower()\n",
    "                    curr = listOfWords[i+1].lower()\n",
    "                    two_gram = prev + \" \" + curr\n",
    "                    if (len(prev) > 0 and len(curr) > 0):\n",
    "                        word_count[two_gram] += 1\n",
    "    mostCommonWords = word_count.most_common(10)\n",
    "    x_list = []\n",
    "    y_list = []\n",
    "    for i in range(0, len(mostCommonWords)):\n",
    "        x_list.append(mostCommonWords[i][0])\n",
    "        y_list.append(mostCommonWords[i][1])\n",
    "    matplt.bar(x_list, \n",
    "               y_list)\n",
    "    matplt.xticks(rotation=90)\n",
    "    matplt.xlabel(\"Most Common Two-Gram Phrases Spoken By \" + characterName)\n",
    "    matplt.ylabel(\"Frequency\")\n",
    "    matplt.show()"
   ]
  },
  {
   "cell_type": "code",
   "execution_count": 208,
   "metadata": {},
   "outputs": [],
   "source": [
    "def get_top_ten_most_spoken_three_gram(characterName):\n",
    "    word_count = Counter()\n",
    "    for episode in range(1, len(episode_quote_tracker)+1):\n",
    "        script = episode_quote_tracker[episode]\n",
    "        for line in script:\n",
    "            character = line[0] \n",
    "            character = catchAlias(character)\n",
    "            if (characterName == character):\n",
    "                quote = line[1]\n",
    "                noPunctuation = removePunctuation(quote)\n",
    "                listOfWords = noPunctuation.split(\" \")\n",
    "                if (\" \" in listOfWords):\n",
    "                    listOfWords.remove(\" \")\n",
    "                if (\"\" in listOfWords):\n",
    "                    listOfWords.remove(\"\")\n",
    "                if (\"(\" in listOfWords):   \n",
    "                    listOfWords.remove(\"(\")\n",
    "                if (\")\" in listOfWords):\n",
    "                    listOfWords.remove(\")\")\n",
    "                for i in range(0, len(listOfWords)-2):\n",
    "                    prev = listOfWords[i].lower()\n",
    "                    curr = listOfWords[i+1].lower()\n",
    "                    nxt = listOfWords[i+2].lower()\n",
    "                    three_gram = prev + \" \" + curr + \" \" + nxt\n",
    "                    if (len(prev) > 0 and len(curr) > 0):\n",
    "                        word_count[three_gram] += 1\n",
    "    mostCommonWords = word_count.most_common(10)\n",
    "    x_list = []\n",
    "    y_list = []\n",
    "    for i in range(0, len(mostCommonWords)):\n",
    "        x_list.append(mostCommonWords[i][0])\n",
    "        y_list.append(mostCommonWords[i][1])\n",
    "    matplt.bar(x_list, \n",
    "               y_list)\n",
    "    matplt.xticks(rotation=90)\n",
    "    matplt.xlabel(\"Most Common Three-Gram Phrases Spoken By \" + characterName)\n",
    "    matplt.ylabel(\"Frequency\")\n",
    "    matplt.show()"
   ]
  },
  {
   "cell_type": "code",
   "execution_count": 209,
   "metadata": {},
   "outputs": [
    {
     "data": {
      "image/png": "[encoded data removed]",
      "text/plain": [
       "<Figure size 432x288 with 1 Axes>"
      ]
     },
     "metadata": {
      "needs_background": "light"
     },
     "output_type": "display_data"
    }
   ],
   "source": [
    "getTopTenMostSpokenWords(\"Varrick\")"
   ]
  },
  {
   "cell_type": "code",
   "execution_count": 210,
   "metadata": {},
   "outputs": [
    {
     "data": {
      "image/png": "[encoded data removed]",
      "text/plain": [
       "<Figure size 432x288 with 1 Axes>"
      ]
     },
     "metadata": {
      "needs_background": "light"
     },
     "output_type": "display_data"
    }
   ],
   "source": [
    "getTopTenMostSpokenTwoGram(\"Varrick\")"
   ]
  },
  {
   "cell_type": "code",
   "execution_count": 211,
   "metadata": {},
   "outputs": [
    {
     "data": {
      "image/png": "[encoded data removed]",
      "text/plain": [
       "<Figure size 432x288 with 1 Axes>"
      ]
     },
     "metadata": {
      "needs_background": "light"
     },
     "output_type": "display_data"
    }
   ],
   "source": [
    "get_top_ten_most_spoken_three_gram(\"Varrick\")"
   ]
  },
  {
   "cell_type": "code",
   "execution_count": null,
   "metadata": {},
   "outputs": [],
   "source": []
  },
  {
   "cell_type": "code",
   "execution_count": 212,
   "metadata": {},
   "outputs": [],
   "source": [
    "#How often is a phrase spoken in each episode?\n",
    "def frequencyOfWordsByEpisode(phrase):\n",
    "    frequency_counter = Counter()\n",
    "    for episode in range(1, len(episode_quote_tracker)+1):\n",
    "        script = episode_quote_tracker[episode]\n",
    "        for line in script:\n",
    "            quote = line[1]\n",
    "            noPunctuation = removePunctuation(quote)\n",
    "            listOfWords = noPunctuation.split(\" \")\n",
    "            for word in listOfWords:\n",
    "                 if (word.lower() == phrase.lower()):\n",
    "                    frequency_counter[episode] += 1\n",
    "    x_list = []\n",
    "    y_list = []\n",
    "    for i in range(52):\n",
    "        x_list.append(i)\n",
    "        y_list.append(frequency_counter[i])\n",
    "    pyplot.plot(x_list, y_list)\n",
    "    pyplot.xlabel(\"Episode #\")\n",
    "    y_label = \"Number Of Times \" + phrase + \" Is Spoken:\"\n",
    "    pyplot.ylabel(y_label)\n",
    "    pyplot.show()\n",
    "    #return frequency_counter"
   ]
  },
  {
   "cell_type": "code",
   "execution_count": 213,
   "metadata": {},
   "outputs": [
    {
     "data": {
      "image/png": "[encoded data removed]",
      "text/plain": [
       "<Figure size 432x288 with 1 Axes>"
      ]
     },
     "metadata": {
      "needs_background": "light"
     },
     "output_type": "display_data"
    }
   ],
   "source": [
    "frequencyOfWordsByEpisode(\"Zaheer\")"
   ]
  },
  {
   "cell_type": "code",
   "execution_count": 214,
   "metadata": {},
   "outputs": [
    {
     "name": "stdout",
     "output_type": "stream",
     "text": [
      "I'm not oppressing anyone You're you're oppressing yourself\n"
     ]
    }
   ],
   "source": [
    "# Test Punctuation\n",
    "newLine = removePunctuation(\"I'm not oppressing anyone! You're... you're oppressing yourself.\")\n",
    "print(newLine)"
   ]
  },
  {
   "cell_type": "code",
   "execution_count": 215,
   "metadata": {},
   "outputs": [
    {
     "data": {
      "image/png": "[encoded data removed]",
      "text/plain": [
       "<Figure size 432x288 with 1 Axes>"
      ]
     },
     "metadata": {
      "needs_background": "light"
     },
     "output_type": "display_data"
    }
   ],
   "source": [
    "getTopTenMostSpokenWords(\"Zaheer\", True)"
   ]
  },
  {
   "cell_type": "code",
   "execution_count": 216,
   "metadata": {},
   "outputs": [],
   "source": [
    "def obtain_episode_quote_info(s, e):\n",
    "    ep_num = get_episode_num(s, e)\n",
    "    return episode_quote_tracker[ep_num]"
   ]
  },
  {
   "cell_type": "code",
   "execution_count": 217,
   "metadata": {},
   "outputs": [],
   "source": [
    "#W = Water, E = Earth, F = Fire, Ai = Air, Av = Avatar, N = Nonbender/Unknown, S = Spirit\n",
    "#Male, Female, Indeterminate Gender\n",
    "def gender_and_element_map(g, e):\n",
    "    elemental_map = {\"W\": 0, \"E\": 1, \"F\": 2, \"Ai\": 3, \"Av\": 4, \n",
    "                  \"N\": 5, \"S\": 6}\n",
    "    gender_map = {\"Male\": 0, \"Female\": 1, \"Indeterminate Gender\": 2}\n",
    "    return [gender_map[g], elemental_map[e]]\n",
    "            \n",
    "            "
   ]
  },
  {
   "cell_type": "code",
   "execution_count": 218,
   "metadata": {},
   "outputs": [],
   "source": [
    "def heat_map_of_benders_by_episode(s, e, show_indeterminate=False):\n",
    "    ep_name = obtain_episode_name(s, e)\n",
    "    quote_data = obtain_episode_quote_info(s, e)\n",
    "    x_labels = [\"Waterbenders\", \"Earthbenders\", \"Firebenders\", \"Airbenders\", \"Avatar\", \"Non-Bender\", \"Spirit\"]\n",
    "    y_labels = [\"Male\", \"Female\", \"Indeterminate\"] if show_indeterminate else [\"Male\", \"Female\"]\n",
    "    z_values = [[0, 0, 0, 0, 0, 0, 0], [0, 0, 0, 0, 0, 0, 0], [0, 0, 0, 0, 0, 0, 0]] if show_indeterminate else [[0, 0, 0, 0, 0, 0, 0], [0, 0, 0, 0, 0, 0, 0]]\n",
    "    for q in quote_data:\n",
    "        [g_index, e_index] = gender_and_element_map(q[2], q[3])\n",
    "        z_values[g_index][e_index] = z_values[g_index][e_index] + 1\n",
    "    fig2 = go.Figure(data=go.Heatmap(\n",
    "                   z=z_values,\n",
    "                   x=x_labels,\n",
    "                   y=y_labels,\n",
    "                   hoverongaps = False))\n",
    "    fig2.update_layout(\n",
    "        title=\"Character Demographics for Book \" + str(s) + \" Episode \" + str(e) + \": \" + ep_name)\n",
    "    fig2.show()\n",
    "    \n",
    "        \n",
    "    \n",
    "    \n",
    "    "
   ]
  },
  {
   "cell_type": "code",
   "execution_count": 219,
   "metadata": {},
   "outputs": [
    {
     "data": {
      "application/vnd.plotly.v1+json": {
       "config": {
        "plotlyServerURL": "https://plot.ly"
       },
       "data": [
        {
         "hoverongaps": false,
         "type": "heatmap",
         "x": [
          "Waterbenders",
          "Earthbenders",
          "Firebenders",
          "Airbenders",
          "Avatar",
          "Non-Bender",
          "Spirit"
         ],
         "y": [
          "Male",
          "Female"
         ],
         "z": [
          [
           0,
           28,
           2,
           0,
           0,
           60,
           3
          ],
          [
           0,
           39,
           0,
           18,
           7,
           9,
           0
          ]
         ]
        }
       ],
       "layout": {
        "template": {
         "data": {
          "bar": [
           {
            "error_x": {
             "color": "#2a3f5f"
            },
            "error_y": {
             "color": "#2a3f5f"
            },
            "marker": {
             "line": {
              "color": "#E5ECF6",
              "width": 0.5
             }
            },
            "type": "bar"
           }
          ],
          "barpolar": [
           {
            "marker": {
             "line": {
              "color": "#E5ECF6",
              "width": 0.5
             }
            },
            "type": "barpolar"
           }
          ],
          "carpet": [
           {
            "aaxis": {
             "endlinecolor": "#2a3f5f",
             "gridcolor": "white",
             "linecolor": "white",
             "minorgridcolor": "white",
             "startlinecolor": "#2a3f5f"
            },
            "baxis": {
             "endlinecolor": "#2a3f5f",
             "gridcolor": "white",
             "linecolor": "white",
             "minorgridcolor": "white",
             "startlinecolor": "#2a3f5f"
            },
            "type": "carpet"
           }
          ],
          "choropleth": [
           {
            "colorbar": {
             "outlinewidth": 0,
             "ticks": ""
            },
            "type": "choropleth"
           }
          ],
          "contour": [
           {
            "colorbar": {
             "outlinewidth": 0,
             "ticks": ""
            },
            "colorscale": [
             [
              0,
              "#0d0887"
             ],
             [
              0.1111111111111111,
              "#46039f"
             ],
             [
              0.2222222222222222,
              "#7201a8"
             ],
             [
              0.3333333333333333,
              "#9c179e"
             ],
             [
              0.4444444444444444,
              "#bd3786"
             ],
             [
              0.5555555555555556,
              "#d8576b"
             ],
             [
              0.6666666666666666,
              "#ed7953"
             ],
             [
              0.7777777777777778,
              "#fb9f3a"
             ],
             [
              0.8888888888888888,
              "#fdca26"
             ],
             [
              1,
              "#f0f921"
             ]
            ],
            "type": "contour"
           }
          ],
          "contourcarpet": [
           {
            "colorbar": {
             "outlinewidth": 0,
             "ticks": ""
            },
            "type": "contourcarpet"
           }
          ],
          "heatmap": [
           {
            "colorbar": {
             "outlinewidth": 0,
             "ticks": ""
            },
            "colorscale": [
             [
              0,
              "#0d0887"
             ],
             [
              0.1111111111111111,
              "#46039f"
             ],
             [
              0.2222222222222222,
              "#7201a8"
             ],
             [
              0.3333333333333333,
              "#9c179e"
             ],
             [
              0.4444444444444444,
              "#bd3786"
             ],
             [
              0.5555555555555556,
              "#d8576b"
             ],
             [
              0.6666666666666666,
              "#ed7953"
             ],
             [
              0.7777777777777778,
              "#fb9f3a"
             ],
             [
              0.8888888888888888,
              "#fdca26"
             ],
             [
              1,
              "#f0f921"
             ]
            ],
            "type": "heatmap"
           }
          ],
          "heatmapgl": [
           {
            "colorbar": {
             "outlinewidth": 0,
             "ticks": ""
            },
            "colorscale": [
             [
              0,
              "#0d0887"
             ],
             [
              0.1111111111111111,
              "#46039f"
             ],
             [
              0.2222222222222222,
              "#7201a8"
             ],
             [
              0.3333333333333333,
              "#9c179e"
             ],
             [
              0.4444444444444444,
              "#bd3786"
             ],
             [
              0.5555555555555556,
              "#d8576b"
             ],
             [
              0.6666666666666666,
              "#ed7953"
             ],
             [
              0.7777777777777778,
              "#fb9f3a"
             ],
             [
              0.8888888888888888,
              "#fdca26"
             ],
             [
              1,
              "#f0f921"
             ]
            ],
            "type": "heatmapgl"
           }
          ],
          "histogram": [
           {
            "marker": {
             "colorbar": {
              "outlinewidth": 0,
              "ticks": ""
             }
            },
            "type": "histogram"
           }
          ],
          "histogram2d": [
           {
            "colorbar": {
             "outlinewidth": 0,
             "ticks": ""
            },
            "colorscale": [
             [
              0,
              "#0d0887"
             ],
             [
              0.1111111111111111,
              "#46039f"
             ],
             [
              0.2222222222222222,
              "#7201a8"
             ],
             [
              0.3333333333333333,
              "#9c179e"
             ],
             [
              0.4444444444444444,
              "#bd3786"
             ],
             [
              0.5555555555555556,
              "#d8576b"
             ],
             [
              0.6666666666666666,
              "#ed7953"
             ],
             [
              0.7777777777777778,
              "#fb9f3a"
             ],
             [
              0.8888888888888888,
              "#fdca26"
             ],
             [
              1,
              "#f0f921"
             ]
            ],
            "type": "histogram2d"
           }
          ],
          "histogram2dcontour": [
           {
            "colorbar": {
             "outlinewidth": 0,
             "ticks": ""
            },
            "colorscale": [
             [
              0,
              "#0d0887"
             ],
             [
              0.1111111111111111,
              "#46039f"
             ],
             [
              0.2222222222222222,
              "#7201a8"
             ],
             [
              0.3333333333333333,
              "#9c179e"
             ],
             [
              0.4444444444444444,
              "#bd3786"
             ],
             [
              0.5555555555555556,
              "#d8576b"
             ],
             [
              0.6666666666666666,
              "#ed7953"
             ],
             [
              0.7777777777777778,
              "#fb9f3a"
             ],
             [
              0.8888888888888888,
              "#fdca26"
             ],
             [
              1,
              "#f0f921"
             ]
            ],
            "type": "histogram2dcontour"
           }
          ],
          "mesh3d": [
           {
            "colorbar": {
             "outlinewidth": 0,
             "ticks": ""
            },
            "type": "mesh3d"
           }
          ],
          "parcoords": [
           {
            "line": {
             "colorbar": {
              "outlinewidth": 0,
              "ticks": ""
             }
            },
            "type": "parcoords"
           }
          ],
          "pie": [
           {
            "automargin": true,
            "type": "pie"
           }
          ],
          "scatter": [
           {
            "marker": {
             "colorbar": {
              "outlinewidth": 0,
              "ticks": ""
             }
            },
            "type": "scatter"
           }
          ],
          "scatter3d": [
           {
            "line": {
             "colorbar": {
              "outlinewidth": 0,
              "ticks": ""
             }
            },
            "marker": {
             "colorbar": {
              "outlinewidth": 0,
              "ticks": ""
             }
            },
            "type": "scatter3d"
           }
          ],
          "scattercarpet": [
           {
            "marker": {
             "colorbar": {
              "outlinewidth": 0,
              "ticks": ""
             }
            },
            "type": "scattercarpet"
           }
          ],
          "scattergeo": [
           {
            "marker": {
             "colorbar": {
              "outlinewidth": 0,
              "ticks": ""
             }
            },
            "type": "scattergeo"
           }
          ],
          "scattergl": [
           {
            "marker": {
             "colorbar": {
              "outlinewidth": 0,
              "ticks": ""
             }
            },
            "type": "scattergl"
           }
          ],
          "scattermapbox": [
           {
            "marker": {
             "colorbar": {
              "outlinewidth": 0,
              "ticks": ""
             }
            },
            "type": "scattermapbox"
           }
          ],
          "scatterpolar": [
           {
            "marker": {
             "colorbar": {
              "outlinewidth": 0,
              "ticks": ""
             }
            },
            "type": "scatterpolar"
           }
          ],
          "scatterpolargl": [
           {
            "marker": {
             "colorbar": {
              "outlinewidth": 0,
              "ticks": ""
             }
            },
            "type": "scatterpolargl"
           }
          ],
          "scatterternary": [
           {
            "marker": {
             "colorbar": {
              "outlinewidth": 0,
              "ticks": ""
             }
            },
            "type": "scatterternary"
           }
          ],
          "surface": [
           {
            "colorbar": {
             "outlinewidth": 0,
             "ticks": ""
            },
            "colorscale": [
             [
              0,
              "#0d0887"
             ],
             [
              0.1111111111111111,
              "#46039f"
             ],
             [
              0.2222222222222222,
              "#7201a8"
             ],
             [
              0.3333333333333333,
              "#9c179e"
             ],
             [
              0.4444444444444444,
              "#bd3786"
             ],
             [
              0.5555555555555556,
              "#d8576b"
             ],
             [
              0.6666666666666666,
              "#ed7953"
             ],
             [
              0.7777777777777778,
              "#fb9f3a"
             ],
             [
              0.8888888888888888,
              "#fdca26"
             ],
             [
              1,
              "#f0f921"
             ]
            ],
            "type": "surface"
           }
          ],
          "table": [
           {
            "cells": {
             "fill": {
              "color": "#EBF0F8"
             },
             "line": {
              "color": "white"
             }
            },
            "header": {
             "fill": {
              "color": "#C8D4E3"
             },
             "line": {
              "color": "white"
             }
            },
            "type": "table"
           }
          ]
         },
         "layout": {
          "annotationdefaults": {
           "arrowcolor": "#2a3f5f",
           "arrowhead": 0,
           "arrowwidth": 1
          },
          "coloraxis": {
           "colorbar": {
            "outlinewidth": 0,
            "ticks": ""
           }
          },
          "colorscale": {
           "diverging": [
            [
             0,
             "#8e0152"
            ],
            [
             0.1,
             "#c51b7d"
            ],
            [
             0.2,
             "#de77ae"
            ],
            [
             0.3,
             "#f1b6da"
            ],
            [
             0.4,
             "#fde0ef"
            ],
            [
             0.5,
             "#f7f7f7"
            ],
            [
             0.6,
             "#e6f5d0"
            ],
            [
             0.7,
             "#b8e186"
            ],
            [
             0.8,
             "#7fbc41"
            ],
            [
             0.9,
             "#4d9221"
            ],
            [
             1,
             "#276419"
            ]
           ],
           "sequential": [
            [
             0,
             "#0d0887"
            ],
            [
             0.1111111111111111,
             "#46039f"
            ],
            [
             0.2222222222222222,
             "#7201a8"
            ],
            [
             0.3333333333333333,
             "#9c179e"
            ],
            [
             0.4444444444444444,
             "#bd3786"
            ],
            [
             0.5555555555555556,
             "#d8576b"
            ],
            [
             0.6666666666666666,
             "#ed7953"
            ],
            [
             0.7777777777777778,
             "#fb9f3a"
            ],
            [
             0.8888888888888888,
             "#fdca26"
            ],
            [
             1,
             "#f0f921"
            ]
           ],
           "sequentialminus": [
            [
             0,
             "#0d0887"
            ],
            [
             0.1111111111111111,
             "#46039f"
            ],
            [
             0.2222222222222222,
             "#7201a8"
            ],
            [
             0.3333333333333333,
             "#9c179e"
            ],
            [
             0.4444444444444444,
             "#bd3786"
            ],
            [
             0.5555555555555556,
             "#d8576b"
            ],
            [
             0.6666666666666666,
             "#ed7953"
            ],
            [
             0.7777777777777778,
             "#fb9f3a"
            ],
            [
             0.8888888888888888,
             "#fdca26"
            ],
            [
             1,
             "#f0f921"
            ]
           ]
          },
          "colorway": [
           "#636efa",
           "#EF553B",
           "#00cc96",
           "#ab63fa",
           "#FFA15A",
           "#19d3f3",
           "#FF6692",
           "#B6E880",
           "#FF97FF",
           "#FECB52"
          ],
          "font": {
           "color": "#2a3f5f"
          },
          "geo": {
           "bgcolor": "white",
           "lakecolor": "white",
           "landcolor": "#E5ECF6",
           "showlakes": true,
           "showland": true,
           "subunitcolor": "white"
          },
          "hoverlabel": {
           "align": "left"
          },
          "hovermode": "closest",
          "mapbox": {
           "style": "light"
          },
          "paper_bgcolor": "white",
          "plot_bgcolor": "#E5ECF6",
          "polar": {
           "angularaxis": {
            "gridcolor": "white",
            "linecolor": "white",
            "ticks": ""
           },
           "bgcolor": "#E5ECF6",
           "radialaxis": {
            "gridcolor": "white",
            "linecolor": "white",
            "ticks": ""
           }
          },
          "scene": {
           "xaxis": {
            "backgroundcolor": "#E5ECF6",
            "gridcolor": "white",
            "gridwidth": 2,
            "linecolor": "white",
            "showbackground": true,
            "ticks": "",
            "zerolinecolor": "white"
           },
           "yaxis": {
            "backgroundcolor": "#E5ECF6",
            "gridcolor": "white",
            "gridwidth": 2,
            "linecolor": "white",
            "showbackground": true,
            "ticks": "",
            "zerolinecolor": "white"
           },
           "zaxis": {
            "backgroundcolor": "#E5ECF6",
            "gridcolor": "white",
            "gridwidth": 2,
            "linecolor": "white",
            "showbackground": true,
            "ticks": "",
            "zerolinecolor": "white"
           }
          },
          "shapedefaults": {
           "line": {
            "color": "#2a3f5f"
           }
          },
          "ternary": {
           "aaxis": {
            "gridcolor": "white",
            "linecolor": "white",
            "ticks": ""
           },
           "baxis": {
            "gridcolor": "white",
            "linecolor": "white",
            "ticks": ""
           },
           "bgcolor": "#E5ECF6",
           "caxis": {
            "gridcolor": "white",
            "linecolor": "white",
            "ticks": ""
           }
          },
          "title": {
           "x": 0.05
          },
          "xaxis": {
           "automargin": true,
           "gridcolor": "white",
           "linecolor": "white",
           "ticks": "",
           "title": {
            "standoff": 15
           },
           "zerolinecolor": "white",
           "zerolinewidth": 2
          },
          "yaxis": {
           "automargin": true,
           "gridcolor": "white",
           "linecolor": "white",
           "ticks": "",
           "title": {
            "standoff": 15
           },
           "zerolinecolor": "white",
           "zerolinewidth": 2
          }
         }
        },
        "title": {
         "text": "Character Demographics for Book 1 Episode 10: Turning the Tides"
        }
       }
      },
      "text/html": [
       "<div>\n",
       "        \n",
       "        \n",
       "            <div id=\"f79129cb-fba0-4ae8-87c3-690f7a0a7f51\" class=\"plotly-graph-div\" style=\"height:525px; width:100%;\"></div>\n",
       "            <script type=\"text/javascript\">\n",
       "                require([\"plotly\"], function(Plotly) {\n",
       "                    window.PLOTLYENV=window.PLOTLYENV || {};\n",
       "                    \n",
       "                if (document.getElementById(\"f79129cb-fba0-4ae8-87c3-690f7a0a7f51\")) {\n",
       "                    Plotly.newPlot(\n",
       "                        'f79129cb-fba0-4ae8-87c3-690f7a0a7f51',\n",
       "                        [{\"hoverongaps\": false, \"type\": \"heatmap\", \"x\": [\"Waterbenders\", \"Earthbenders\", \"Firebenders\", \"Airbenders\", \"Avatar\", \"Non-Bender\", \"Spirit\"], \"y\": [\"Male\", \"Female\"], \"z\": [[0, 28, 2, 0, 0, 60, 3], [0, 39, 0, 18, 7, 9, 0]]}],\n",
       "                        {\"template\": {\"data\": {\"bar\": [{\"error_x\": {\"color\": \"#2a3f5f\"}, \"error_y\": {\"color\": \"#2a3f5f\"}, \"marker\": {\"line\": {\"color\": \"#E5ECF6\", \"width\": 0.5}}, \"type\": \"bar\"}], \"barpolar\": [{\"marker\": {\"line\": {\"color\": \"#E5ECF6\", \"width\": 0.5}}, \"type\": \"barpolar\"}], \"carpet\": [{\"aaxis\": {\"endlinecolor\": \"#2a3f5f\", \"gridcolor\": \"white\", \"linecolor\": \"white\", \"minorgridcolor\": \"white\", \"startlinecolor\": \"#2a3f5f\"}, \"baxis\": {\"endlinecolor\": \"#2a3f5f\", \"gridcolor\": \"white\", \"linecolor\": \"white\", \"minorgridcolor\": \"white\", \"startlinecolor\": \"#2a3f5f\"}, \"type\": \"carpet\"}], \"choropleth\": [{\"colorbar\": {\"outlinewidth\": 0, \"ticks\": \"\"}, \"type\": \"choropleth\"}], \"contour\": [{\"colorbar\": {\"outlinewidth\": 0, \"ticks\": \"\"}, \"colorscale\": [[0.0, \"#0d0887\"], [0.1111111111111111, \"#46039f\"], [0.2222222222222222, \"#7201a8\"], [0.3333333333333333, \"#9c179e\"], [0.4444444444444444, \"#bd3786\"], [0.5555555555555556, \"#d8576b\"], [0.6666666666666666, \"#ed7953\"], [0.7777777777777778, \"#fb9f3a\"], [0.8888888888888888, \"#fdca26\"], [1.0, \"#f0f921\"]], \"type\": \"contour\"}], \"contourcarpet\": [{\"colorbar\": {\"outlinewidth\": 0, \"ticks\": \"\"}, \"type\": \"contourcarpet\"}], \"heatmap\": [{\"colorbar\": {\"outlinewidth\": 0, \"ticks\": \"\"}, \"colorscale\": [[0.0, \"#0d0887\"], [0.1111111111111111, \"#46039f\"], [0.2222222222222222, \"#7201a8\"], [0.3333333333333333, \"#9c179e\"], [0.4444444444444444, \"#bd3786\"], [0.5555555555555556, \"#d8576b\"], [0.6666666666666666, \"#ed7953\"], [0.7777777777777778, \"#fb9f3a\"], [0.8888888888888888, \"#fdca26\"], [1.0, \"#f0f921\"]], \"type\": \"heatmap\"}], \"heatmapgl\": [{\"colorbar\": {\"outlinewidth\": 0, \"ticks\": \"\"}, \"colorscale\": [[0.0, \"#0d0887\"], [0.1111111111111111, \"#46039f\"], [0.2222222222222222, \"#7201a8\"], [0.3333333333333333, \"#9c179e\"], [0.4444444444444444, \"#bd3786\"], [0.5555555555555556, \"#d8576b\"], [0.6666666666666666, \"#ed7953\"], [0.7777777777777778, \"#fb9f3a\"], [0.8888888888888888, \"#fdca26\"], [1.0, \"#f0f921\"]], \"type\": \"heatmapgl\"}], \"histogram\": [{\"marker\": {\"colorbar\": {\"outlinewidth\": 0, \"ticks\": \"\"}}, \"type\": \"histogram\"}], \"histogram2d\": [{\"colorbar\": {\"outlinewidth\": 0, \"ticks\": \"\"}, \"colorscale\": [[0.0, \"#0d0887\"], [0.1111111111111111, \"#46039f\"], [0.2222222222222222, \"#7201a8\"], [0.3333333333333333, \"#9c179e\"], [0.4444444444444444, \"#bd3786\"], [0.5555555555555556, \"#d8576b\"], [0.6666666666666666, \"#ed7953\"], [0.7777777777777778, \"#fb9f3a\"], [0.8888888888888888, \"#fdca26\"], [1.0, \"#f0f921\"]], \"type\": \"histogram2d\"}], \"histogram2dcontour\": [{\"colorbar\": {\"outlinewidth\": 0, \"ticks\": \"\"}, \"colorscale\": [[0.0, \"#0d0887\"], [0.1111111111111111, \"#46039f\"], [0.2222222222222222, \"#7201a8\"], [0.3333333333333333, \"#9c179e\"], [0.4444444444444444, \"#bd3786\"], [0.5555555555555556, \"#d8576b\"], [0.6666666666666666, \"#ed7953\"], [0.7777777777777778, \"#fb9f3a\"], [0.8888888888888888, \"#fdca26\"], [1.0, \"#f0f921\"]], \"type\": \"histogram2dcontour\"}], \"mesh3d\": [{\"colorbar\": {\"outlinewidth\": 0, \"ticks\": \"\"}, \"type\": \"mesh3d\"}], \"parcoords\": [{\"line\": {\"colorbar\": {\"outlinewidth\": 0, \"ticks\": \"\"}}, \"type\": \"parcoords\"}], \"pie\": [{\"automargin\": true, \"type\": \"pie\"}], \"scatter\": [{\"marker\": {\"colorbar\": {\"outlinewidth\": 0, \"ticks\": \"\"}}, \"type\": \"scatter\"}], \"scatter3d\": [{\"line\": {\"colorbar\": {\"outlinewidth\": 0, \"ticks\": \"\"}}, \"marker\": {\"colorbar\": {\"outlinewidth\": 0, \"ticks\": \"\"}}, \"type\": \"scatter3d\"}], \"scattercarpet\": [{\"marker\": {\"colorbar\": {\"outlinewidth\": 0, \"ticks\": \"\"}}, \"type\": \"scattercarpet\"}], \"scattergeo\": [{\"marker\": {\"colorbar\": {\"outlinewidth\": 0, \"ticks\": \"\"}}, \"type\": \"scattergeo\"}], \"scattergl\": [{\"marker\": {\"colorbar\": {\"outlinewidth\": 0, \"ticks\": \"\"}}, \"type\": \"scattergl\"}], \"scattermapbox\": [{\"marker\": {\"colorbar\": {\"outlinewidth\": 0, \"ticks\": \"\"}}, \"type\": \"scattermapbox\"}], \"scatterpolar\": [{\"marker\": {\"colorbar\": {\"outlinewidth\": 0, \"ticks\": \"\"}}, \"type\": \"scatterpolar\"}], \"scatterpolargl\": [{\"marker\": {\"colorbar\": {\"outlinewidth\": 0, \"ticks\": \"\"}}, \"type\": \"scatterpolargl\"}], \"scatterternary\": [{\"marker\": {\"colorbar\": {\"outlinewidth\": 0, \"ticks\": \"\"}}, \"type\": \"scatterternary\"}], \"surface\": [{\"colorbar\": {\"outlinewidth\": 0, \"ticks\": \"\"}, \"colorscale\": [[0.0, \"#0d0887\"], [0.1111111111111111, \"#46039f\"], [0.2222222222222222, \"#7201a8\"], [0.3333333333333333, \"#9c179e\"], [0.4444444444444444, \"#bd3786\"], [0.5555555555555556, \"#d8576b\"], [0.6666666666666666, \"#ed7953\"], [0.7777777777777778, \"#fb9f3a\"], [0.8888888888888888, \"#fdca26\"], [1.0, \"#f0f921\"]], \"type\": \"surface\"}], \"table\": [{\"cells\": {\"fill\": {\"color\": \"#EBF0F8\"}, \"line\": {\"color\": \"white\"}}, \"header\": {\"fill\": {\"color\": \"#C8D4E3\"}, \"line\": {\"color\": \"white\"}}, \"type\": \"table\"}]}, \"layout\": {\"annotationdefaults\": {\"arrowcolor\": \"#2a3f5f\", \"arrowhead\": 0, \"arrowwidth\": 1}, \"coloraxis\": {\"colorbar\": {\"outlinewidth\": 0, \"ticks\": \"\"}}, \"colorscale\": {\"diverging\": [[0, \"#8e0152\"], [0.1, \"#c51b7d\"], [0.2, \"#de77ae\"], [0.3, \"#f1b6da\"], [0.4, \"#fde0ef\"], [0.5, \"#f7f7f7\"], [0.6, \"#e6f5d0\"], [0.7, \"#b8e186\"], [0.8, \"#7fbc41\"], [0.9, \"#4d9221\"], [1, \"#276419\"]], \"sequential\": [[0.0, \"#0d0887\"], [0.1111111111111111, \"#46039f\"], [0.2222222222222222, \"#7201a8\"], [0.3333333333333333, \"#9c179e\"], [0.4444444444444444, \"#bd3786\"], [0.5555555555555556, \"#d8576b\"], [0.6666666666666666, \"#ed7953\"], [0.7777777777777778, \"#fb9f3a\"], [0.8888888888888888, \"#fdca26\"], [1.0, \"#f0f921\"]], \"sequentialminus\": [[0.0, \"#0d0887\"], [0.1111111111111111, \"#46039f\"], [0.2222222222222222, \"#7201a8\"], [0.3333333333333333, \"#9c179e\"], [0.4444444444444444, \"#bd3786\"], [0.5555555555555556, \"#d8576b\"], [0.6666666666666666, \"#ed7953\"], [0.7777777777777778, \"#fb9f3a\"], [0.8888888888888888, \"#fdca26\"], [1.0, \"#f0f921\"]]}, \"colorway\": [\"#636efa\", \"#EF553B\", \"#00cc96\", \"#ab63fa\", \"#FFA15A\", \"#19d3f3\", \"#FF6692\", \"#B6E880\", \"#FF97FF\", \"#FECB52\"], \"font\": {\"color\": \"#2a3f5f\"}, \"geo\": {\"bgcolor\": \"white\", \"lakecolor\": \"white\", \"landcolor\": \"#E5ECF6\", \"showlakes\": true, \"showland\": true, \"subunitcolor\": \"white\"}, \"hoverlabel\": {\"align\": \"left\"}, \"hovermode\": \"closest\", \"mapbox\": {\"style\": \"light\"}, \"paper_bgcolor\": \"white\", \"plot_bgcolor\": \"#E5ECF6\", \"polar\": {\"angularaxis\": {\"gridcolor\": \"white\", \"linecolor\": \"white\", \"ticks\": \"\"}, \"bgcolor\": \"#E5ECF6\", \"radialaxis\": {\"gridcolor\": \"white\", \"linecolor\": \"white\", \"ticks\": \"\"}}, \"scene\": {\"xaxis\": {\"backgroundcolor\": \"#E5ECF6\", \"gridcolor\": \"white\", \"gridwidth\": 2, \"linecolor\": \"white\", \"showbackground\": true, \"ticks\": \"\", \"zerolinecolor\": \"white\"}, \"yaxis\": {\"backgroundcolor\": \"#E5ECF6\", \"gridcolor\": \"white\", \"gridwidth\": 2, \"linecolor\": \"white\", \"showbackground\": true, \"ticks\": \"\", \"zerolinecolor\": \"white\"}, \"zaxis\": {\"backgroundcolor\": \"#E5ECF6\", \"gridcolor\": \"white\", \"gridwidth\": 2, \"linecolor\": \"white\", \"showbackground\": true, \"ticks\": \"\", \"zerolinecolor\": \"white\"}}, \"shapedefaults\": {\"line\": {\"color\": \"#2a3f5f\"}}, \"ternary\": {\"aaxis\": {\"gridcolor\": \"white\", \"linecolor\": \"white\", \"ticks\": \"\"}, \"baxis\": {\"gridcolor\": \"white\", \"linecolor\": \"white\", \"ticks\": \"\"}, \"bgcolor\": \"#E5ECF6\", \"caxis\": {\"gridcolor\": \"white\", \"linecolor\": \"white\", \"ticks\": \"\"}}, \"title\": {\"x\": 0.05}, \"xaxis\": {\"automargin\": true, \"gridcolor\": \"white\", \"linecolor\": \"white\", \"ticks\": \"\", \"title\": {\"standoff\": 15}, \"zerolinecolor\": \"white\", \"zerolinewidth\": 2}, \"yaxis\": {\"automargin\": true, \"gridcolor\": \"white\", \"linecolor\": \"white\", \"ticks\": \"\", \"title\": {\"standoff\": 15}, \"zerolinecolor\": \"white\", \"zerolinewidth\": 2}}}, \"title\": {\"text\": \"Character Demographics for Book 1 Episode 10: Turning the Tides\"}},\n",
       "                        {\"responsive\": true}\n",
       "                    ).then(function(){\n",
       "                            \n",
       "var gd = document.getElementById('f79129cb-fba0-4ae8-87c3-690f7a0a7f51');\n",
       "var x = new MutationObserver(function (mutations, observer) {{\n",
       "        var display = window.getComputedStyle(gd).display;\n",
       "        if (!display || display === 'none') {{\n",
       "            console.log([gd, 'removed!']);\n",
       "            Plotly.purge(gd);\n",
       "            observer.disconnect();\n",
       "        }}\n",
       "}});\n",
       "\n",
       "// Listen for the removal of the full notebook cells\n",
       "var notebookContainer = gd.closest('#notebook-container');\n",
       "if (notebookContainer) {{\n",
       "    x.observe(notebookContainer, {childList: true});\n",
       "}}\n",
       "\n",
       "// Listen for the clearing of the current output cell\n",
       "var outputEl = gd.closest('.output');\n",
       "if (outputEl) {{\n",
       "    x.observe(outputEl, {childList: true});\n",
       "}}\n",
       "\n",
       "                        })\n",
       "                };\n",
       "                });\n",
       "            </script>\n",
       "        </div>"
      ]
     },
     "metadata": {},
     "output_type": "display_data"
    }
   ],
   "source": [
    "heat_map_of_benders_by_episode(1,10)"
   ]
  },
  {
   "cell_type": "code",
   "execution_count": 220,
   "metadata": {},
   "outputs": [],
   "source": [
    "import altair as alt\n",
    "import pandas as pd\n",
    "\n",
    "def scatter_plot_of_word_by_character(character):\n",
    "    df = pd.DataFrame(episode_quote_tracker[episode],columns=['Name','Quote','Gender', 'Element'])\n",
    "    print(df.tail())\n",
    "    \n",
    "\n"
   ]
  },
  {
   "cell_type": "code",
   "execution_count": 221,
   "metadata": {},
   "outputs": [],
   "source": [
    "from wordcloud import WordCloud, STOPWORDS\n",
    "import numpy\n",
    "#import Image\n",
    "from PIL import Image\n",
    "\n",
    "#What are the 10 most and least common words spoken by each character\n",
    "def generate_word_cloud(characterName):\n",
    "    mask = numpy.array(Image.open(\"korra_picture.png\"))\n",
    "    large_word_string = \"\"\n",
    "    for episode in range(1, len(episode_quote_tracker)+1):\n",
    "        script = episode_quote_tracker[episode]\n",
    "        for line in script:\n",
    "            character = line[0] \n",
    "            character = catchAlias(character)\n",
    "            if (characterName == character):\n",
    "                quote = line[1]\n",
    "                noPunctuation = removePunctuation(quote)\n",
    "                listOfWords = noPunctuation.split(\" \")\n",
    "                for word in listOfWords:\n",
    "                    if (len(word) > 0):\n",
    "                        large_word_string = large_word_string + word + \" \"       \n",
    "    stopwords = set(STOPWORDS)\n",
    "    cloud = WordCloud(stopwords=stopwords, max_words = 100, background_color='black').generate(large_word_string)\n",
    "     \n",
    "    \n",
    "    matplt.imshow(cloud)\n",
    "    matplt.axis('off')\n",
    "    matplt.show()\n",
    "    "
   ]
  },
  {
   "cell_type": "code",
   "execution_count": 222,
   "metadata": {},
   "outputs": [
    {
     "data": {
      "image/png": "[encoded data removed]",
      "text/plain": [
       "<Figure size 432x288 with 1 Axes>"
      ]
     },
     "metadata": {
      "needs_background": "light"
     },
     "output_type": "display_data"
    }
   ],
   "source": [
    "generate_word_cloud(\"Jinora\")"
   ]
  },
  {
   "cell_type": "code",
   "execution_count": 223,
   "metadata": {},
   "outputs": [],
   "source": [
    "#Korra Locations \n",
    "\n",
    "#1: [republic city, southern water tribe], 2,3,4,5,7,8,11: [republic city, air temple island], \n",
    "#6,10: [republic city] 9: [tarrlok's hideout, republic city], \n",
    "#10-11: [republic city], 12: [southern water tribe, republic city, air temple island]\n",
    "\n",
    "#1\n",
    "#\n",
    "#\n",
    "#\n",
    "#\n",
    "#\n",
    "#\n",
    "#"
   ]
  },
  {
   "cell_type": "code",
   "execution_count": 224,
   "metadata": {},
   "outputs": [
    {
     "name": "stdout",
     "output_type": "stream",
     "text": [
      "[['Pema', \"Tenzin, are you sure you can't go with them?\", 'Female', 'N', 8.6], ['Ikki', 'Meelo!', 'Female', 'Ai', 8.6], ['Tenzin', 'Raiko asked me to stay here and help figure out a diplomatic solution to this Kuvira problem.', 'Male', 'Ai', 8.6], ['Ikki', \"Mom, we'll be fine.   Grandpa Aang and his friends were around our age when they traveled the World.\", 'Female', 'Ai', 8.6], ['Pema', \"Well, at least I won't have to worry about you   starving out there.\", 'Female', 'N', 8.6], ['Meelo', \"Mom, we're going to be in the wild,   living off the land. We don't need your food.\", 'Male', 'Ai', 8.6], ['Pema', 'But I made your favorite treat.', 'Female', 'N', 8.6], ['Meelo', \"Sweet buns with happy faces on them?   Well,   I guess we're not officially on the road yet.\", 'Male', 'Ai', 8.6], ['Meelo', \"Aw, this one is smudged.   I can't eat this.\", 'Male', 'Ai', 8.6], ['Pema', 'You know, sometimes,   things get smudged in the wild.', 'Female', 'N', 8.6], ['Tenzin', 'Were you able   to get a read on Korra yet?', 'Male', 'Ai', 8.6], ['Jinora', \"No, but once we're further out, I'll be able to hone in on her spiritual energy.   We should be able to find her within a few days.\", 'Female', 'Ai', 8.6], ['Tenzin', \"Good luck, and be careful. Remember, Jinora's in charge.\", 'Male', 'Ai', 8.6], ['Meelo', 'I answer to no man   or girl, even if she does   have tattoos.', 'Male', 'Ai', 8.6], ['Tenzin', 'Meelo...', 'Male', 'Ai', 8.6], ['Meelo', \"Now, let's move out, soldiers.\", 'Male', 'Ai', 8.6], ['Jinora', 'Pepper,   yip yip.', 'Female', 'Ai', 8.6], ['Meelo', \"Finally!   I've been holding my pee for an hour.\", 'Male', 'Ai', 8.6], ['Ikki', 'If you get through to Korra, tell her I said hi.', 'Female', 'Ai', 8.6], ['Ikki', 'Do you feel anything yet?', 'Female', 'Ai', 8.6], ['Ikki', \"What's taking so long?\", 'Female', 'Ai', 8.6], ['Jinora', \"Ikki, I can't concentrate if you keep talking.   Why don't you go play with one of those spirits?\", 'Female', 'Ai', 8.6], ['Ikki', \"Jinora's spirity powers are broken, and she doesn't know where Korra is.\", 'Female', 'Ai', 8.6], ['Jinora', 'My powers are not broken. I just need more than two seconds   and some quiet.', 'Female', 'Ai', 8.6], ['Meelo', \"While you try to pull yourself together, Poki and I are going to go into town and find out if anyone's seen Korra.\", 'Male', 'Ai', 8.6], ['Ikki', 'Sounds like a good plan to me.', 'Female', 'Ai', 8.6], ['Meelo', 'Enough chit chat.   You can hold the picture   of Korra I drew.', 'Male', 'Ai', 8.6], ['Ikki', \"Wow!   I didn't know you could draw.\", 'Female', 'Ai', 8.6], ['Meelo', \"You don't know a lot of things about me, sister. Let's roll.\", 'Male', 'Ai', 8.6], ['Meelo', 'Have you seen   this woman?', 'Male', 'Ai', 8.6], ['Elderly Woman', \"Well, aren't you an adorable little thing?\", 'Female', 'N', 8.6], ['Meelo', \"I'm not adorable. I'm dangerous.\", 'Male', 'Ai', 8.6], ['Elderly Woman', 'Dangerously cute with those cheeks.', 'Female', 'N', 8.6], ['Ikki', 'Aww...', 'Female', 'Ai', 8.6], ['Meelo', \"This never happened. Let's split.\", 'Male', 'Ai', 8.6], ['Seedy Guy', \"The Avatar?   We still have one of those?   Haven't seen her, kid. Sorry.\", 'Male', 'N', 8.6], ['Meelo', 'Man!', 'Male', 'Ai', 8.6], ['Meelo', 'Can I trust you?', 'Male', 'Ai', 8.6], ['Tuyen', 'I guess so.', 'Female', 'N', 8.6], ['Meelo', \"I'm on a top secret mission to find the Avatar.   Have you seen her?\", 'Male', 'Ai', 8.6], ['Tuyen', \"I haven't, sorry. Top secret mission, huh?\", 'Female', 'N', 8.6], ['Meelo', \"Yeah, it's been pretty dangerous.   I've seen   some things.\", 'Male', 'Ai', 8.6], ['Tuyen', 'Really?   What kind of things?', 'Female', 'N', 8.6], ['Meelo', 'Crazy things.', 'Male', 'Ai', 8.6], ['Tuyen', 'Cool.', 'Female', 'N', 8.6], ['Meelo', \"I'm Meelo. What should I call you,   other than, beautiful?\", 'Male', 'Ai', 8.6], ['Tuyen', \"I'm Tuyen. Nice to meet you.\", 'Female', 'N', 8.6], ['Ikki', 'Ooh!   Meelo found a girlfriend.', 'Female', 'Ai', 8.6], ['Meelo', 'Go away, Ikki!', 'Male', 'Ai', 8.6], ['Ikki', \"Jinora's been looking for you. We're moving on.\", 'Female', 'Ai', 8.6], ['Tuyen', 'Looks like you got to get back to your mission.   Good luck, Meelo.', 'Female', 'N', 8.6], ['Meelo', 'Thanks a lot, Ikki. You drove away the love of my life!', 'Male', 'Ai', 8.6], ['Meelo', \"Jinora,   Ikki!   It's Korra!\", 'Male', 'Ai', 8.6], ['Ikki', 'Where, where, where,   where, where, where, where?', 'Female', 'Ai', 8.6], ['Jinora', \"It's just a photo of Korra.\", 'Female', 'Ai', 8.6], ['Meelo', \"At least it's something.\", 'Male', 'Ai', 8.6], ['Fishmonger', 'Pretty neat,   huh?   She came by here about a...   six months ago.', 'Male', 'N', 8.6], ['Meelo', 'Looks like someone just drummed up   a good old-fashioned lead.   Then where did she go?', 'Male', 'Ai', 8.6], ['Fishmonger', \"Oh, I don't know,   but she wasn't looking too good.\", 'Male', 'N', 8.6], ['Meelo', 'Ikki, this is all your fault.', 'Male', 'Ai', 8.6], ['Ikki', \"What? I didn't do anything.\", 'Female', 'Ai', 8.6], ['Meelo', 'Exactly, you   need to start pulling your weight.   That goes for you too, so-called leader.', 'Male', 'Ai', 8.6], ['Ikki', 'Remember when he used to be so nice and sweet?', 'Female', 'Ai', 8.6], ['Jinora', 'No.', 'Female', 'Ai', 8.6], ['Korra', \"So... What's the plan for today?\", 'Female', 'Av', 8.6], ['Toph', \"You're looking at it.\", 'Male', 'N', 8.6], ['Korra', \"But we didn't do anything yesterday or the day before that.\", 'Female', 'Av', 8.6], ['Korra', 'I know!   Tell me the story about how you taught Aang to earthbend.', 'Female', 'Av', 8.6], ['Toph', \"What's there to tell? I threw some rocks at the Avatar, he got all whiny, and Sokka fell in a hole.\", 'Male', 'N', 8.6], ['Korra', \"I thought there'd be more to it than that. What about the time you guys took down the Fire Lord? That must have been epic!\", 'Female', 'Av', 8.6], ['Toph', 'Oh, yeah.   It was hot, I was on a blimp, and I think a giant turtle showed up. Wow, what a day.', 'Male', 'N', 8.6], ['Korra', \"Okay, you're terrible at telling stories.\", 'Female', 'Av', 8.6], ['Toph', \"You're terrible at listening to them.\", 'Male', 'N', 8.6], ['Toph', \"Quit making all that racket.   If you're so antsy to do something, why don't you go and collect some mushrooms for dinner?\", 'Male', 'N', 8.6], ['Korra', 'You got it.', 'Female', 'Av', 8.6], ['Toph', \"Take the path   till you see the boulder with a hole in it. Then go to your left. Oh, and make sure you get the big, slimy ones.   They're the tastiest!\", 'Male', 'N', 8.6], ['Ikki', \"Hey,   where's all the food Mom gave us?\", 'Female', 'Ai', 8.6], ['Meelo', 'I threw it in the river.', 'Male', 'Ai', 8.6], ['Ikki', 'You did what?! That food was supposed to last us two weeks!', 'Female', 'Ai', 8.6], ['Jinora', \"Hey, keep it down! I'm trying to meditate.\", 'Female', 'Ai', 8.6], ['Meelo', 'Yeah,   keep it down, Ikki.', 'Male', 'Ai', 8.6], ['Ikki', 'Meelo threw away all our food!', 'Female', 'Ai', 8.6], ['Meelo', 'From now on,   we hunt for our meals.', 'Male', 'Ai', 8.6], ['Ikki', \"Meelo, we're vegetarians. We don't hunt.\", 'Female', 'Ai', 8.6], ['Meelo', 'Enough whining.   Poki and I will go find some grub.', 'Male', 'Ai', 8.6], ['Ikki', \"My name's Meelo. I like to throw away food and fart at inappropriate moments.   I'm Jinora.   I'm so above it all because   I'm meditating all the time.\", 'Female', 'Ai', 8.6], ['Ikki', \"Oh, I'm sorry.   I didn't see you there.\", 'Female', 'Ai', 8.6], ['Ikki', 'Wait!   You dropped your breakfast!', 'Female', 'Ai', 8.6], ['Ikki', \"Hey.   Does this mean we're friends?\", 'Female', 'Ai', 8.6], ['Soldier #1', \"You're trespassing!   Hold it right there.\", 'Male', 'E', 8.6], ['<u>Act II</u', '', 'Male', 'N', 8.6], ['Soldier #1', \"All right, little airbender. Tell us what you're doing in the Earth Empire. Are you spying?\", 'Male', 'E', 8.6], ['Ikki', \"No. I swear I'm not a spy.   I've been traveling with my brother and sister.   It's our first big mission, and my Dad, Tenzin, is counting on us.   But if we don't find the Avatar, he's going to be really disappointed.\", 'Female', 'Ai', 8.6], ['Soldier #1', 'Can I talk to you for a second?', 'Male', 'E', 8.6], ['Soldier #1', \"This girl   is Tenzin's kid,   and she's looking for the Avatar.   Do you know what that means?\", 'Male', 'E', 8.6], ['Soldier #2', 'No,   but try this macaroon.', 'Male', 'E', 8.6], ['Soldier #1', \"Get that   out of my face!   Look, if we capture these three airbender kids   and bring them to Kuvira,   I bet we'd get a big-time promotion.\", 'Male', 'E', 8.6], ['Soldier #2', \"You mean we'd get out of this dump?\", 'Male', 'E', 8.6], ['Soldier #1', \"Sorry, little lady.   It looks like we got off on the wrong foot.   So you're out here with your brother and sister. Where's your campsite?\", 'Male', 'E', 8.6], ['Ikki', 'Why do you want to know?', 'Female', 'Ai', 8.6], ['Soldier #2', 'We just want to get the family back together again.   Maybe we could sit everybody down   and have a nice plate of macaroons.', 'Male', 'E', 8.6], ['Ikki', 'Where did you get those?', 'Female', 'Ai', 8.6], ['Soldier #2', 'I found a whole sack of food down by the river,   and with each delicious snack comes a lovely, handwritten note. This one says, \"You\\'re my handsome little man.\"   That is so touching.', 'Male', 'E', 8.6], ['Ikki', \"My Mom wrote those notes.   That's our sack of food!\", 'Female', 'Ai', 8.6], ['Soldier #1', 'Enough with the cute notes! Where are your brother and sister?', 'Male', 'E', 8.6], ['Ikki', \"Who cares? I don't want to see them.   I'd rather hang out here with you guys. Hit me with one of those macaroons.\", 'Female', 'Ai', 8.6], ['Jinora', 'Are you okay?', 'Female', 'Ai', 8.6], ['Meelo', \"Yup,   totally fine.   I hope you're hungry,   'cause we found some-   We found some berries.\", 'Male', 'Ai', 8.6], ['Jinora', 'Ugh.   Looks like you got some bad berries.   So much for living off the land.', 'Female', 'Ai', 8.6], ['Meelo', \"They're fine. I just ate too many of them because   they're so- so delicious.\", 'Male', 'Ai', 8.6], ['Jinora', 'Did you run into Ikki while you were picking your poisonous berries?', 'Female', 'Ai', 8.6], ['Meelo', 'Uh, no. What, did she run off or something?', 'Male', 'Ai', 8.6], ['Jinora', 'I think so.', 'Female', 'Ai', 8.6], ['Meelo', 'Great, now I got to go find the Avatar and her. This mission is getting worse by the day.', 'Male', 'Ai', 8.6], ['Jinora', \"This isn't only your mission, Meelo. I thought we were doing this as a family.\", 'Female', 'Ai', 8.6], ['Ikki', 'It seems pretty lonely out here. Where is everybody else?', 'Female', 'Ai', 8.6], ['Soldier #1', \"I don't want to talk about it.\", 'Male', 'E', 8.6], ['Soldier #2', \"Aww, he's just upset because Kuvira's taking all the troops to Zaofu, and we had to stay here.\", 'Male', 'E', 8.6], ['Soldier #1', \"Well, it's the last city left, and then the whole Empire will be united.   And you know   there's gonna be a huge party afterwards.\", 'Male', 'E', 8.6], ['Ikki', \"It's tough to be left out, huh? I know exactly what you're going through.\", 'Female', 'Ai', 8.6], ['Soldier #1', 'You do?', 'Male', 'E', 8.6], ['Ikki', \"Yeah. My brother and sister are always leaving me out of fun stuff. I mean, we're supposed to be looking for the Avatar together, but they won't even let me help.\", 'Female', 'Ai', 8.6], ['Soldier #2', \"Well, that's not fair. Maybe we can help you out.\", 'Male', 'E', 8.6], ['Soldier #2', 'So, where have you looked for her?', 'Male', 'E', 8.6], ['Ikki', \"We've been traveling down the West coast, and the only lead we have is some guy Who said he saw her six months ago.\", 'Female', 'Ai', 8.6], ['Soldier #1', 'Well, we have troops pretty much everywhere. If anyone saw her, they would have reported it.', 'Male', 'E', 8.6], ['Ikki', 'What about this place?', 'Female', 'Ai', 8.6], ['Soldier #1', \"Oh, that's The Swamp. No one goes there.\", 'Male', 'E', 8.6], ['Soldier #2', \"Don't get discouraged, Ikki. You're a valuable member of the team, and you have a big heart. I know you're gonna find her. Now, let's get you out of those ropes.\", 'Male', 'E', 8.6], ['Meelo', \"You're welcome, Ikki.\", 'Male', 'Ai', 8.6], ['Ikki', 'Why did you do that?', 'Female', 'Ai', 8.6], ['Jinora', \"We're saving you!   Let's go.\", 'Female', 'Ai', 8.6], ['Ikki', 'I had everything under control.   I just found our food, and I have an idea where Korra is.', 'Female', 'Ai', 8.6], ['Jinora', \"You do? Then let's get going!\", 'Female', 'Ai', 8.6], ['Ikki', 'Hold on.', 'Female', 'Ai', 8.6], ['Ikki', 'Sorry my brother and sister knocked you out.   Nice chatting with you.', 'Female', 'Ai', 8.6], ['Soldier #2', 'Macaroon...', 'Male', 'E', 8.6], ['Toph', 'There you are.   You got my dinner yet?', 'Male', 'N', 8.6], ['Korra', 'No, this swamp,   it did crazy things to my mind. I had visions of all the times my enemies hurt me.', 'Female', 'Av', 8.6], ['Toph', 'Yeah, I figured something like that might happen.', 'Male', 'N', 8.6], ['Korra', 'What?!   You wanted me to see those visions? You are one twisted old lady,   you know that?', 'Female', 'Av', 8.6], ['Toph', \"Look, I know you want to get better, and so does The Swamp.   It can sense you're out of balance.   It'll teach you what you need to learn,   if you're open to listening.\", 'Male', 'N', 8.6], ['Korra', \"Okay, Swamp. I'm all ears.\", 'Female', 'Av', 8.6], ['Toph', 'You said you saw your past enemies. Now, why do you think that is?', 'Male', 'N', 8.6], ['Korra', \"I don't know, because they've made me and a lot of other people suffer.\", 'Female', 'Av', 8.6], ['Toph', \"Sounds like you're carrying around your former enemies,   the same way you're still carrying around that metal poison. You ever consider maybe you could learn something from them?\", 'Male', 'N', 8.6], ['Korra', \"Sounds like The Swamp's messing with your mind too.\", 'Female', 'Av', 8.6], ['Toph', 'My mind is just fine, thank you.   Listen,   what did Amon want?   Equality for all. Unalaq?   He brought back the spirits.   And Zaheer believed in freedom.', 'Male', 'N', 8.6], ['Korra', 'I guess.', 'Female', 'Av', 8.6], ['Toph', 'The problem was, those guys were totally out of balance, and they took their ideologies too far.', 'Male', 'N', 8.6], ['Korra', \"Okay, fine. But that doesn't explain why they keep haunting me.\", 'Female', 'Av', 8.6], ['Toph', \"Because you need to face your fears.   You can't expect to deal with future enemies if you're still fighting the old ones.\", 'Male', 'N', 8.6], ['Korra', \"Maybe you're right,   but how am I supposed to move on?\", 'Female', 'Av', 8.6], ['Toph', \"Boy, you Avatars   sure need a lot of hand-holding.   Get up.   We're going to the Banyan Grove Tree.\", 'Male', 'N', 8.6], ['Ikki', \"Those soldiers said there weren't any troops here, and I figure if Korra's not feeling good,   she might come to a spiritual place like this to get better.\", 'Female', 'Ai', 8.6], ['Jinora', \"There is an enormous amount of spiritual activity here,   but I don't feel Korra.\", 'Female', 'Ai', 8.6], ['Meelo', \"Well, that's what we get for listening to   Ikki.\", 'Male', 'Ai', 8.6], ['Ikki', \"Guys, we just got here. Let's at least look around.\", 'Female', 'Ai', 8.6], ['Jinora', \"I'm sorry, Ikki, but I'm with Meelo on this. I don't think we're going to find her here.   Let's go, Pepper.\", 'Female', 'Ai', 8.6], ['Jinora, Ikki, Meelo', 'Aah!', 'Male', 'N', 8.6], ['<u>Act III</u', '', 'Male', 'N', 8.6], ['Meelo', 'Why did those stupid vines pull us in here anyway?', 'Male', 'Ai', 8.6], ['Ikki', \"Because   they want us here.   I'm telling you, Korra's got to be close.\", 'Female', 'Ai', 8.6], ['Jinora', \"I don't know, Ikki. I still don't sense Korra.\", 'Female', 'Ai', 8.6], ['Ikki', \"Well, you   haven't sensed her the entire time we've   been looking for her.\", 'Female', 'Ai', 8.6], ['Meelo', \"Next time I go on a mission, it's going to be boys only, just Poki and   me.\", 'Male', 'Ai', 8.6], ['Korra', \"It's beautiful.\", 'Female', 'Av', 8.6], ['Toph', \"The roots of the Banyan Grove Tree spread out for miles in every direction, connecting this whole swamp.   Your problem is you've been disconnected for too long, disconnected from the people who love you and disconnected from yourself.\", 'Male', 'N', 8.6], ['Meelo', \"I'm tired of listening to you!\", 'Male', 'Ai', 8.6], ['Jinora', 'Korra.   I know where Korra is!', 'Female', 'Ai', 8.6], ['Ikki & Meelo', 'Yeah!', 'Male', 'N', 8.6], ['Korra', \"I can't believe it!   I saw Jinora, Ikki, and Meelo. They're here!\", 'Female', 'Av', 8.6], ['Toph', \"Good. Hopefully, they're here to take you home.\", 'Male', 'N', 8.6], ['Jinora, Ikki, Meelo', 'Korra!', 'Male', 'N', 8.6], ['Ikki', 'Oh,   we missed you so much, Korra.', 'Female', 'Ai', 8.6], ['Korra', 'I missed you so much too. How did you find me   all the way out here?', 'Female', 'Av', 8.6], ['Ikki', 'Jinora sensed your energy.', 'Female', 'Ai', 8.6], ['Jinora', \"But we never would've been here if it weren't for Ikki.\", 'Female', 'Ai', 8.6], ['Ikki', \"I never would've   stormed off and found those soldiers if it weren't for Meelo.\", 'Female', 'Ai', 8.6], ['Meelo', 'I was trying to toughen up these ladies, but I guess it was a team effort.', 'Male', 'Ai', 8.6], ['Ikki', 'I love your hair.', 'Female', 'Ai', 8.6], ['Meelo', \"It's so you.\", 'Male', 'Ai', 8.6], ['Korra', \"I'm so sorry.   This is Meelo,   Jinora,   and Ikki,   Aang and Katara's grandchildren.\", 'Female', 'Av', 8.6], ['Toph', 'Your grandpa was a real pain in my butt.', 'Male', 'N', 8.6], ['Meelo', 'Wait a minute,   cranky,   old,   blind...   You must be Toph!', 'Male', 'Ai', 8.6], ['Toph', 'Oh,   I like this one.', 'Male', 'N', 8.6], ['Jinora', 'You need to come home, Korra. Kuvira is taking over the Earth Kingdom.', 'Female', 'Ai', 8.6], ['Ikki', 'You have to stop her.', 'Female', 'Ai', 8.6], ['Korra', \"I don't know. I'm not the Avatar I used to be. I can't even go into the Avatar State.\", 'Female', 'Av', 8.6], ['Ikki', 'Please, Korra.', 'Female', 'Ai', 8.6], ['Jinora', 'The World needs you back.', 'Female', 'Ai', 8.6], ['Korra', \"All right, I'm ready.\", 'Female', 'Av', 8.6], ['Toph', \"I'm not bending it   out of you.   You got to do this on your own.\", 'Male', 'N', 8.6], ['Toph', \"Close your eyes.   Clear your mind.   And don't freak out like last time.   Now,   focus your energy.   Find the metal.   Let it move through your body.\", 'Male', 'N', 8.6], ['Toph', 'That fight is over.   Release the fear.', 'Male', 'N', 8.6], ['Toph', 'Well done, Korra.', 'Male', 'N', 8.6], ['Meelo', 'The Avatar   is back in business!', 'Male', 'Ai', 8.6], ['Korra', \"I feel so much lighter.   Thank you so much for helping me.   I'd like to give you a hug now if that's okay with you.\", 'Female', 'Av', 8.6], ['Toph', 'All right.   You earned it.', 'Male', 'N', 8.6], ['Korra', 'Bye, Toph!', 'Female', 'Av', 8.6], ['Meelo', 'Bye, see you later.', 'Male', 'Ai', 8.6], ['Ikki', 'It was so nice to meet you!', 'Female', 'Ai', 8.6], ['Meelo', \"We're gonna miss you!\", 'Male', 'Ai', 8.6], ['Toph', 'Finally,   some peace and quiet.', 'Male', 'N', 8.6]]\n"
     ]
    }
   ],
   "source": [
    "harms_way = episode_quote_tracker[30]\n",
    "print(harms_way)"
   ]
  },
  {
   "cell_type": "code",
   "execution_count": 225,
   "metadata": {},
   "outputs": [],
   "source": [
    "# print(seasons_dict_list[season-1][episode][1])"
   ]
  }
 ],
 "metadata": {
  "kernelspec": {
   "display_name": "Python 3",
   "language": "python",
   "name": "python3"
  },
  "language_info": {
   "codemirror_mode": {
    "name": "ipython",
    "version": 3
   },
   "file_extension": ".py",
   "mimetype": "text/x-python",
   "name": "python",
   "nbconvert_exporter": "python",
   "pygments_lexer": "ipython3",
   "version": "3.6.4"
  }
 },
 "nbformat": 4,
 "nbformat_minor": 2
}
